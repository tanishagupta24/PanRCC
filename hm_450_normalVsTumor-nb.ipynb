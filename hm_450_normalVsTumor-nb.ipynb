{
 "cells": [
  {
   "cell_type": "markdown",
   "id": "1d7d7c4f",
   "metadata": {},
   "source": [
    "# Analysis of TCGA DNA Methylation Data"
   ]
  },
  {
   "cell_type": "markdown",
   "id": "9bdab0a6",
   "metadata": {},
   "source": [
    "## Data Processing"
   ]
  },
  {
   "cell_type": "code",
   "execution_count": 1,
   "id": "6cac5edd",
   "metadata": {},
   "outputs": [
    {
     "name": "stdout",
     "output_type": "stream",
     "text": [
      "/Users/tanishagupta/GRIPS\r\n"
     ]
    }
   ],
   "source": [
    "import numpy as np # linear algebra\n",
    "import pandas as pd # data processing, CSV file I/O (e.g. pd.read_csv)\n",
    "import os\n",
    "!pwd"
   ]
  },
  {
   "cell_type": "code",
   "execution_count": 2,
   "id": "a37d4ff8",
   "metadata": {},
   "outputs": [],
   "source": [
    "import pandas as pd \n",
    "import numpy as np \n",
    "from sklearn.preprocessing import LabelEncoder"
   ]
  },
  {
   "cell_type": "code",
   "execution_count": 3,
   "id": "60f8b57f",
   "metadata": {},
   "outputs": [],
   "source": [
    "raw_clin_kipan = pd.read_csv('KIPAN.clin.merged.txt', sep='\\t', header=None ).T\n",
    "\n",
    "raw_clin_kipan.columns = raw_clin_kipan.iloc[0]\n",
    "raw_clin_kipan = raw_clin_kipan[1:]\n",
    "#raw_clin_kipan"
   ]
  },
  {
   "cell_type": "code",
   "execution_count": 4,
   "id": "f0dd826d",
   "metadata": {},
   "outputs": [],
   "source": [
    "#raw_clin_kipan.columns\n",
    "#raw_clin_kipan.columns.str\n",
    "\n",
    "\n",
    "#raw_clin_kipan.columns.str.contains('admin')\n",
    "#raw_clin_kipan.loc[:,raw_clin_kipan.columns.to_numpy()[raw_clin_kipan.columns.str.contains('barcode')]]\n",
    "#raw_clin_kipan.columns.to_numpy()[raw_clin_kipan.columns.str.contains('barcode')\n",
    "selected_columns = raw_clin_kipan.columns.to_numpy()[raw_clin_kipan.columns.str.contains('barcode')]\n",
    "#selected_columns = [ i for i in selected_columns if 'drug_barcode' not in i]\n",
    "selected_columns = [ i for i in selected_columns if '-' not in i]\n",
    "#selected_columns"
   ]
  },
  {
   "cell_type": "code",
   "execution_count": 5,
   "id": "97675291",
   "metadata": {},
   "outputs": [],
   "source": [
    "raw_clin_kipan_barcode = raw_clin_kipan.loc[:,selected_columns]\n",
    "#raw_clin_kipan_barcode"
   ]
  },
  {
   "cell_type": "code",
   "execution_count": 6,
   "id": "e4befc1f",
   "metadata": {},
   "outputs": [],
   "source": [
    "raw_clin_kipan_barcode.columns = [s.split('.')[-1] for s in selected_columns]\n",
    "#raw_clin_kipan_barcode"
   ]
  },
  {
   "cell_type": "code",
   "execution_count": 7,
   "id": "328bc2bd",
   "metadata": {},
   "outputs": [
    {
     "data": {
      "text/html": [
       "<div>\n",
       "<style scoped>\n",
       "    .dataframe tbody tr th:only-of-type {\n",
       "        vertical-align: middle;\n",
       "    }\n",
       "\n",
       "    .dataframe tbody tr th {\n",
       "        vertical-align: top;\n",
       "    }\n",
       "\n",
       "    .dataframe thead th {\n",
       "        text-align: right;\n",
       "    }\n",
       "</style>\n",
       "<table border=\"1\" class=\"dataframe\">\n",
       "  <thead>\n",
       "    <tr style=\"text-align: right;\">\n",
       "      <th></th>\n",
       "      <th>bcr_patient_barcode</th>\n",
       "      <th>bcr_sample_barcode</th>\n",
       "      <th>bcr_aliquot_barcode</th>\n",
       "      <th>bcr_analyte_barcode</th>\n",
       "      <th>bcr_portion_barcode</th>\n",
       "      <th>bcr_slide_barcode</th>\n",
       "    </tr>\n",
       "  </thead>\n",
       "  <tbody>\n",
       "    <tr>\n",
       "      <th>1</th>\n",
       "      <td>tcga-kl-8328</td>\n",
       "      <td>tcga-kl-8328-01a</td>\n",
       "      <td>tcga-kl-8328-01a-11d-2308-01</td>\n",
       "      <td>tcga-kl-8328-01a-11d</td>\n",
       "      <td>tcga-kl-8328-01a-11</td>\n",
       "      <td>tcga-kl-8328-01a-01-bs1</td>\n",
       "    </tr>\n",
       "    <tr>\n",
       "      <th>2</th>\n",
       "      <td>tcga-kl-8339</td>\n",
       "      <td>tcga-kl-8339-01a</td>\n",
       "      <td>tcga-kl-8339-01a-11d-2308-01</td>\n",
       "      <td>tcga-kl-8339-01a-11d</td>\n",
       "      <td>tcga-kl-8339-01a-11</td>\n",
       "      <td>tcga-kl-8339-01a-01-bs1</td>\n",
       "    </tr>\n",
       "    <tr>\n",
       "      <th>3</th>\n",
       "      <td>tcga-km-8439</td>\n",
       "      <td>tcga-km-8439-01a</td>\n",
       "      <td>tcga-km-8439-01a-11d-2308-01</td>\n",
       "      <td>tcga-km-8439-01a-11d</td>\n",
       "      <td>tcga-km-8439-01a-11</td>\n",
       "      <td>tcga-km-8439-01a-01-ts1</td>\n",
       "    </tr>\n",
       "    <tr>\n",
       "      <th>4</th>\n",
       "      <td>tcga-km-8441</td>\n",
       "      <td>tcga-km-8441-01a</td>\n",
       "      <td>tcga-km-8441-01a-11d-2308-01</td>\n",
       "      <td>tcga-km-8441-01a-11d</td>\n",
       "      <td>tcga-km-8441-01a-11</td>\n",
       "      <td>tcga-km-8441-01a-01-ts1</td>\n",
       "    </tr>\n",
       "    <tr>\n",
       "      <th>5</th>\n",
       "      <td>tcga-km-8442</td>\n",
       "      <td>tcga-km-8442-01a</td>\n",
       "      <td>tcga-km-8442-01a-11d-2308-01</td>\n",
       "      <td>tcga-km-8442-01a-11d</td>\n",
       "      <td>tcga-km-8442-01a-11</td>\n",
       "      <td>tcga-km-8442-01a-01-ts1</td>\n",
       "    </tr>\n",
       "    <tr>\n",
       "      <th>...</th>\n",
       "      <td>...</td>\n",
       "      <td>...</td>\n",
       "      <td>...</td>\n",
       "      <td>...</td>\n",
       "      <td>...</td>\n",
       "      <td>...</td>\n",
       "    </tr>\n",
       "    <tr>\n",
       "      <th>937</th>\n",
       "      <td>tcga-y8-a896</td>\n",
       "      <td>tcga-y8-a896-01a</td>\n",
       "      <td>tcga-y8-a896-01a-11d-a35y-01</td>\n",
       "      <td>tcga-y8-a896-01a-11d</td>\n",
       "      <td>tcga-y8-a896-01a-11</td>\n",
       "      <td>tcga-y8-a896-01a-01-ts1</td>\n",
       "    </tr>\n",
       "    <tr>\n",
       "      <th>938</th>\n",
       "      <td>tcga-y8-a897</td>\n",
       "      <td>tcga-y8-a897-01a</td>\n",
       "      <td>tcga-y8-a897-01a-11d-a35y-01</td>\n",
       "      <td>tcga-y8-a897-01a-11d</td>\n",
       "      <td>tcga-y8-a897-01a-11</td>\n",
       "      <td>tcga-y8-a897-01a-01-ts1</td>\n",
       "    </tr>\n",
       "    <tr>\n",
       "      <th>939</th>\n",
       "      <td>tcga-y8-a8ry</td>\n",
       "      <td>tcga-y8-a8ry-01a</td>\n",
       "      <td>tcga-y8-a8ry-01a-11d-a36w-01</td>\n",
       "      <td>tcga-y8-a8ry-01a-11d</td>\n",
       "      <td>tcga-y8-a8ry-01a-11</td>\n",
       "      <td>tcga-y8-a8ry-01a-01-ts1</td>\n",
       "    </tr>\n",
       "    <tr>\n",
       "      <th>940</th>\n",
       "      <td>tcga-y8-a8s0</td>\n",
       "      <td>tcga-y8-a8s0-01a</td>\n",
       "      <td>tcga-y8-a8s0-01a-11d-a36w-01</td>\n",
       "      <td>tcga-y8-a8s0-01a-11d</td>\n",
       "      <td>tcga-y8-a8s0-01a-11</td>\n",
       "      <td>tcga-y8-a8s0-01a-01-ts1</td>\n",
       "    </tr>\n",
       "    <tr>\n",
       "      <th>941</th>\n",
       "      <td>tcga-y8-a8s1</td>\n",
       "      <td>tcga-y8-a8s1-01a</td>\n",
       "      <td>tcga-y8-a8s1-01a-11d-a36w-01</td>\n",
       "      <td>tcga-y8-a8s1-01a-11d</td>\n",
       "      <td>tcga-y8-a8s1-01a-11</td>\n",
       "      <td>tcga-y8-a8s1-01a-01-ts1</td>\n",
       "    </tr>\n",
       "  </tbody>\n",
       "</table>\n",
       "<p>941 rows × 6 columns</p>\n",
       "</div>"
      ],
      "text/plain": [
       "    bcr_patient_barcode bcr_sample_barcode           bcr_aliquot_barcode  \\\n",
       "1          tcga-kl-8328   tcga-kl-8328-01a  tcga-kl-8328-01a-11d-2308-01   \n",
       "2          tcga-kl-8339   tcga-kl-8339-01a  tcga-kl-8339-01a-11d-2308-01   \n",
       "3          tcga-km-8439   tcga-km-8439-01a  tcga-km-8439-01a-11d-2308-01   \n",
       "4          tcga-km-8441   tcga-km-8441-01a  tcga-km-8441-01a-11d-2308-01   \n",
       "5          tcga-km-8442   tcga-km-8442-01a  tcga-km-8442-01a-11d-2308-01   \n",
       "..                  ...                ...                           ...   \n",
       "937        tcga-y8-a896   tcga-y8-a896-01a  tcga-y8-a896-01a-11d-a35y-01   \n",
       "938        tcga-y8-a897   tcga-y8-a897-01a  tcga-y8-a897-01a-11d-a35y-01   \n",
       "939        tcga-y8-a8ry   tcga-y8-a8ry-01a  tcga-y8-a8ry-01a-11d-a36w-01   \n",
       "940        tcga-y8-a8s0   tcga-y8-a8s0-01a  tcga-y8-a8s0-01a-11d-a36w-01   \n",
       "941        tcga-y8-a8s1   tcga-y8-a8s1-01a  tcga-y8-a8s1-01a-11d-a36w-01   \n",
       "\n",
       "      bcr_analyte_barcode  bcr_portion_barcode        bcr_slide_barcode  \n",
       "1    tcga-kl-8328-01a-11d  tcga-kl-8328-01a-11  tcga-kl-8328-01a-01-bs1  \n",
       "2    tcga-kl-8339-01a-11d  tcga-kl-8339-01a-11  tcga-kl-8339-01a-01-bs1  \n",
       "3    tcga-km-8439-01a-11d  tcga-km-8439-01a-11  tcga-km-8439-01a-01-ts1  \n",
       "4    tcga-km-8441-01a-11d  tcga-km-8441-01a-11  tcga-km-8441-01a-01-ts1  \n",
       "5    tcga-km-8442-01a-11d  tcga-km-8442-01a-11  tcga-km-8442-01a-01-ts1  \n",
       "..                    ...                  ...                      ...  \n",
       "937  tcga-y8-a896-01a-11d  tcga-y8-a896-01a-11  tcga-y8-a896-01a-01-ts1  \n",
       "938  tcga-y8-a897-01a-11d  tcga-y8-a897-01a-11  tcga-y8-a897-01a-01-ts1  \n",
       "939  tcga-y8-a8ry-01a-11d  tcga-y8-a8ry-01a-11  tcga-y8-a8ry-01a-01-ts1  \n",
       "940  tcga-y8-a8s0-01a-11d  tcga-y8-a8s0-01a-11  tcga-y8-a8s0-01a-01-ts1  \n",
       "941  tcga-y8-a8s1-01a-11d  tcga-y8-a8s1-01a-11  tcga-y8-a8s1-01a-01-ts1  \n",
       "\n",
       "[941 rows x 6 columns]"
      ]
     },
     "execution_count": 7,
     "metadata": {},
     "output_type": "execute_result"
    }
   ],
   "source": [
    "raw_clin_kipan_barcode.drop(['bcr_drug_barcode','bcr_radiation_barcode',\n",
    "                             'biospecimen_barcode_bottom','bcr_followup_barcode',\n",
    "                             'shipment_portion_bcr_aliquot_barcode','bcr_omf_barcode'], \n",
    "                            axis=1, errors='ignore')"
   ]
  },
  {
   "cell_type": "code",
   "execution_count": 8,
   "id": "29a650de",
   "metadata": {},
   "outputs": [],
   "source": [
    "# vital_status: The survival state of the person registered on the protocol.\n",
    "# days_to_death: Number of days between the date used for index and the date from a person's date of death represented as a calculated number of days.\n",
    "\n",
    "tcga_id_kipan='patient.samples.sample.portions.portion.analytes.analyte.aliquots.aliquot.bcr_aliquot_barcode'\n",
    "\n",
    "clin_kipan = raw_clin_kipan.loc[:,[tcga_id_kipan, 'admin.disease_code',\n",
    "'patient.days_to_death','patient.vital_status', \n",
    "'patient.age_at_initial_pathologic_diagnosis', 'patient.gender', 'patient.follow_ups.follow_up.person_neoplasm_cancer_status', \n",
    "                                  'patient.stage_event.pathologic_stage']]\n",
    "                                #, 'patient.karnofsky_performance_score']]\n",
    "\n",
    "#clin_kipan"
   ]
  },
  {
   "cell_type": "code",
   "execution_count": 9,
   "id": "1b3969c1",
   "metadata": {},
   "outputs": [],
   "source": [
    "clin_kipan = clin_kipan.set_index(tcga_id_kipan)\n",
    "clin_kipan.index = clin_kipan.index.str.upper()\n",
    "clin_kipan.sort_index(inplace=True)"
   ]
  },
  {
   "cell_type": "code",
   "execution_count": 10,
   "id": "05d5380d",
   "metadata": {},
   "outputs": [],
   "source": [
    "#clin_kipan.columns"
   ]
  },
  {
   "cell_type": "code",
   "execution_count": 11,
   "id": "6befaa7d",
   "metadata": {},
   "outputs": [],
   "source": [
    "clin_kipan = clin_kipan[clin_kipan.index.notnull()]\n",
    "\n",
    "clin_kipan.index = ['-'.join( s.split('-')[:4] ) for s in clin_kipan.index.tolist() ]\n",
    "#clin_kipan.index"
   ]
  },
  {
   "cell_type": "code",
   "execution_count": 12,
   "id": "57220771",
   "metadata": {},
   "outputs": [],
   "source": [
    "clin_kipan.rename(columns = {'patient.days_to_death':'days_to_death', 'patient.vital_status':'vital_status', 'patient.age_at_initial_pathologic_diagnosis':'age_at_initial_pathologic_diagnosis', 'patient.gender':'gender', 'admin.disease_code':'subtype', 'patient.follow_ups.follow_up.person_neoplasm_cancer_status':'metastasis_info', 'patient.stage_event.pathologic_stage':'stage'}, inplace = True)"
   ]
  },
  {
   "cell_type": "code",
   "execution_count": 13,
   "id": "6251b498",
   "metadata": {},
   "outputs": [],
   "source": [
    "vals = clin_kipan['days_to_death'].astype(np.float32)\n",
    "\n",
    "clin_kipan['survival'] = 'non-lts'\n",
    "clin_kipan.loc[pd.to_numeric(clin_kipan.days_to_death).ge(2*365) | clin_kipan.days_to_death.isna(), 'survival'] = 'lts'\n",
    "#clin_kipan"
   ]
  },
  {
   "cell_type": "code",
   "execution_count": 14,
   "id": "05a64f46",
   "metadata": {},
   "outputs": [],
   "source": [
    "meth_kipan = pd.read_csv('KIPAN.hm450.tsv', delim_whitespace=True, header=[0] ).set_index('Composite_Element_REF').drop(['Gene_Symbol','Chromosome','Genomic_Coordinate'], axis=1 ).T"
   ]
  },
  {
   "cell_type": "code",
   "execution_count": 15,
   "id": "46b1db84",
   "metadata": {},
   "outputs": [
    {
     "data": {
      "text/html": [
       "<div>\n",
       "<style scoped>\n",
       "    .dataframe tbody tr th:only-of-type {\n",
       "        vertical-align: middle;\n",
       "    }\n",
       "\n",
       "    .dataframe tbody tr th {\n",
       "        vertical-align: top;\n",
       "    }\n",
       "\n",
       "    .dataframe thead th {\n",
       "        text-align: right;\n",
       "    }\n",
       "</style>\n",
       "<table border=\"1\" class=\"dataframe\">\n",
       "  <thead>\n",
       "    <tr style=\"text-align: right;\">\n",
       "      <th>Composite_Element_REF</th>\n",
       "      <th>cg00000029</th>\n",
       "      <th>cg00000108</th>\n",
       "      <th>cg00000109</th>\n",
       "      <th>cg00000165</th>\n",
       "      <th>cg00000236</th>\n",
       "      <th>cg00000289</th>\n",
       "      <th>cg00000292</th>\n",
       "      <th>cg00000321</th>\n",
       "      <th>cg00000363</th>\n",
       "      <th>cg00000622</th>\n",
       "      <th>...</th>\n",
       "      <th>cg09560636</th>\n",
       "      <th>cg09560650</th>\n",
       "      <th>cg09560658</th>\n",
       "      <th>cg09560723</th>\n",
       "      <th>cg09560763</th>\n",
       "      <th>cg09560811</th>\n",
       "      <th>cg09560911</th>\n",
       "      <th>cg09560912</th>\n",
       "      <th>cg09560953</th>\n",
       "      <th>cg09560979</th>\n",
       "    </tr>\n",
       "  </thead>\n",
       "  <tbody>\n",
       "    <tr>\n",
       "      <th>TCGA-2K-A9WE-01A-11D-A383-05</th>\n",
       "      <td>0.461441</td>\n",
       "      <td>NaN</td>\n",
       "      <td>NaN</td>\n",
       "      <td>0.143910</td>\n",
       "      <td>0.847165</td>\n",
       "      <td>0.737362</td>\n",
       "      <td>0.716795</td>\n",
       "      <td>0.351877</td>\n",
       "      <td>0.248987</td>\n",
       "      <td>0.012136</td>\n",
       "      <td>...</td>\n",
       "      <td>NaN</td>\n",
       "      <td>NaN</td>\n",
       "      <td>0.929777</td>\n",
       "      <td>NaN</td>\n",
       "      <td>0.821841</td>\n",
       "      <td>0.927202</td>\n",
       "      <td>0.018890</td>\n",
       "      <td>NaN</td>\n",
       "      <td>0.844136</td>\n",
       "      <td>NaN</td>\n",
       "    </tr>\n",
       "    <tr>\n",
       "      <th>TCGA-2Z-A9J1-01A-11D-A383-05</th>\n",
       "      <td>0.595894</td>\n",
       "      <td>NaN</td>\n",
       "      <td>NaN</td>\n",
       "      <td>0.080724</td>\n",
       "      <td>0.867306</td>\n",
       "      <td>0.706806</td>\n",
       "      <td>0.217862</td>\n",
       "      <td>0.169408</td>\n",
       "      <td>0.173115</td>\n",
       "      <td>0.010890</td>\n",
       "      <td>...</td>\n",
       "      <td>NaN</td>\n",
       "      <td>NaN</td>\n",
       "      <td>0.684141</td>\n",
       "      <td>NaN</td>\n",
       "      <td>0.287309</td>\n",
       "      <td>0.932596</td>\n",
       "      <td>0.018205</td>\n",
       "      <td>NaN</td>\n",
       "      <td>0.253988</td>\n",
       "      <td>NaN</td>\n",
       "    </tr>\n",
       "    <tr>\n",
       "      <th>TCGA-2Z-A9J2-01A-11D-A383-05</th>\n",
       "      <td>0.481305</td>\n",
       "      <td>NaN</td>\n",
       "      <td>NaN</td>\n",
       "      <td>0.437447</td>\n",
       "      <td>0.898927</td>\n",
       "      <td>0.758109</td>\n",
       "      <td>0.868605</td>\n",
       "      <td>0.577745</td>\n",
       "      <td>0.567242</td>\n",
       "      <td>0.012268</td>\n",
       "      <td>...</td>\n",
       "      <td>NaN</td>\n",
       "      <td>NaN</td>\n",
       "      <td>0.934065</td>\n",
       "      <td>NaN</td>\n",
       "      <td>0.393975</td>\n",
       "      <td>0.949127</td>\n",
       "      <td>0.027293</td>\n",
       "      <td>NaN</td>\n",
       "      <td>0.898587</td>\n",
       "      <td>NaN</td>\n",
       "    </tr>\n",
       "    <tr>\n",
       "      <th>TCGA-2Z-A9J3-01A-12D-A383-05</th>\n",
       "      <td>0.553850</td>\n",
       "      <td>NaN</td>\n",
       "      <td>NaN</td>\n",
       "      <td>0.064233</td>\n",
       "      <td>0.917291</td>\n",
       "      <td>0.675538</td>\n",
       "      <td>0.543087</td>\n",
       "      <td>0.850444</td>\n",
       "      <td>0.470811</td>\n",
       "      <td>0.012568</td>\n",
       "      <td>...</td>\n",
       "      <td>NaN</td>\n",
       "      <td>NaN</td>\n",
       "      <td>0.939414</td>\n",
       "      <td>NaN</td>\n",
       "      <td>0.198644</td>\n",
       "      <td>0.944607</td>\n",
       "      <td>0.019058</td>\n",
       "      <td>NaN</td>\n",
       "      <td>0.648340</td>\n",
       "      <td>NaN</td>\n",
       "    </tr>\n",
       "    <tr>\n",
       "      <th>TCGA-2Z-A9J5-01A-21D-A383-05</th>\n",
       "      <td>0.184349</td>\n",
       "      <td>NaN</td>\n",
       "      <td>NaN</td>\n",
       "      <td>0.126119</td>\n",
       "      <td>0.928018</td>\n",
       "      <td>0.677846</td>\n",
       "      <td>0.850474</td>\n",
       "      <td>0.444735</td>\n",
       "      <td>0.204529</td>\n",
       "      <td>0.012233</td>\n",
       "      <td>...</td>\n",
       "      <td>NaN</td>\n",
       "      <td>NaN</td>\n",
       "      <td>0.926087</td>\n",
       "      <td>NaN</td>\n",
       "      <td>0.589858</td>\n",
       "      <td>0.931093</td>\n",
       "      <td>0.029658</td>\n",
       "      <td>NaN</td>\n",
       "      <td>0.722906</td>\n",
       "      <td>NaN</td>\n",
       "    </tr>\n",
       "  </tbody>\n",
       "</table>\n",
       "<p>5 rows × 183201 columns</p>\n",
       "</div>"
      ],
      "text/plain": [
       "Composite_Element_REF         cg00000029  cg00000108  cg00000109  cg00000165  \\\n",
       "TCGA-2K-A9WE-01A-11D-A383-05    0.461441         NaN         NaN    0.143910   \n",
       "TCGA-2Z-A9J1-01A-11D-A383-05    0.595894         NaN         NaN    0.080724   \n",
       "TCGA-2Z-A9J2-01A-11D-A383-05    0.481305         NaN         NaN    0.437447   \n",
       "TCGA-2Z-A9J3-01A-12D-A383-05    0.553850         NaN         NaN    0.064233   \n",
       "TCGA-2Z-A9J5-01A-21D-A383-05    0.184349         NaN         NaN    0.126119   \n",
       "\n",
       "Composite_Element_REF         cg00000236  cg00000289  cg00000292  cg00000321  \\\n",
       "TCGA-2K-A9WE-01A-11D-A383-05    0.847165    0.737362    0.716795    0.351877   \n",
       "TCGA-2Z-A9J1-01A-11D-A383-05    0.867306    0.706806    0.217862    0.169408   \n",
       "TCGA-2Z-A9J2-01A-11D-A383-05    0.898927    0.758109    0.868605    0.577745   \n",
       "TCGA-2Z-A9J3-01A-12D-A383-05    0.917291    0.675538    0.543087    0.850444   \n",
       "TCGA-2Z-A9J5-01A-21D-A383-05    0.928018    0.677846    0.850474    0.444735   \n",
       "\n",
       "Composite_Element_REF         cg00000363  cg00000622  ...  cg09560636  \\\n",
       "TCGA-2K-A9WE-01A-11D-A383-05    0.248987    0.012136  ...         NaN   \n",
       "TCGA-2Z-A9J1-01A-11D-A383-05    0.173115    0.010890  ...         NaN   \n",
       "TCGA-2Z-A9J2-01A-11D-A383-05    0.567242    0.012268  ...         NaN   \n",
       "TCGA-2Z-A9J3-01A-12D-A383-05    0.470811    0.012568  ...         NaN   \n",
       "TCGA-2Z-A9J5-01A-21D-A383-05    0.204529    0.012233  ...         NaN   \n",
       "\n",
       "Composite_Element_REF         cg09560650  cg09560658  cg09560723  cg09560763  \\\n",
       "TCGA-2K-A9WE-01A-11D-A383-05         NaN    0.929777         NaN    0.821841   \n",
       "TCGA-2Z-A9J1-01A-11D-A383-05         NaN    0.684141         NaN    0.287309   \n",
       "TCGA-2Z-A9J2-01A-11D-A383-05         NaN    0.934065         NaN    0.393975   \n",
       "TCGA-2Z-A9J3-01A-12D-A383-05         NaN    0.939414         NaN    0.198644   \n",
       "TCGA-2Z-A9J5-01A-21D-A383-05         NaN    0.926087         NaN    0.589858   \n",
       "\n",
       "Composite_Element_REF         cg09560811  cg09560911  cg09560912  cg09560953  \\\n",
       "TCGA-2K-A9WE-01A-11D-A383-05    0.927202    0.018890         NaN    0.844136   \n",
       "TCGA-2Z-A9J1-01A-11D-A383-05    0.932596    0.018205         NaN    0.253988   \n",
       "TCGA-2Z-A9J2-01A-11D-A383-05    0.949127    0.027293         NaN    0.898587   \n",
       "TCGA-2Z-A9J3-01A-12D-A383-05    0.944607    0.019058         NaN    0.648340   \n",
       "TCGA-2Z-A9J5-01A-21D-A383-05    0.931093    0.029658         NaN    0.722906   \n",
       "\n",
       "Composite_Element_REF         cg09560979  \n",
       "TCGA-2K-A9WE-01A-11D-A383-05         NaN  \n",
       "TCGA-2Z-A9J1-01A-11D-A383-05         NaN  \n",
       "TCGA-2Z-A9J2-01A-11D-A383-05         NaN  \n",
       "TCGA-2Z-A9J3-01A-12D-A383-05         NaN  \n",
       "TCGA-2Z-A9J5-01A-21D-A383-05         NaN  \n",
       "\n",
       "[5 rows x 183201 columns]"
      ]
     },
     "execution_count": 15,
     "metadata": {},
     "output_type": "execute_result"
    }
   ],
   "source": [
    "meth_kipan.sort_index().head()"
   ]
  },
  {
   "cell_type": "code",
   "execution_count": 16,
   "id": "4c79430f",
   "metadata": {},
   "outputs": [
    {
     "data": {
      "text/plain": [
       "867"
      ]
     },
     "execution_count": 16,
     "metadata": {},
     "output_type": "execute_result"
    }
   ],
   "source": [
    "len( set(meth_kipan.index) )"
   ]
  },
  {
   "cell_type": "code",
   "execution_count": 17,
   "id": "71741583",
   "metadata": {},
   "outputs": [
    {
     "data": {
      "text/plain": [
       "867"
      ]
     },
     "execution_count": 17,
     "metadata": {},
     "output_type": "execute_result"
    }
   ],
   "source": [
    "len ( set( [ '-'.join( i.split('-')[:4] ) for i in meth_kipan.index ] ) )"
   ]
  },
  {
   "cell_type": "code",
   "execution_count": 18,
   "id": "32a78d69",
   "metadata": {},
   "outputs": [],
   "source": [
    "meth_kipan.index = [ '-'.join( i.split('-')[:4] ) for i in meth_kipan.index ]\n",
    "meth_kipan.sort_index(inplace=True)\n",
    "#meth_kipan"
   ]
  },
  {
   "cell_type": "code",
   "execution_count": 19,
   "id": "b2e376e6",
   "metadata": {},
   "outputs": [
    {
     "data": {
      "text/plain": [
       "660"
      ]
     },
     "execution_count": 19,
     "metadata": {},
     "output_type": "execute_result"
    }
   ],
   "source": [
    "len( set( clin_kipan.index ) & set( meth_kipan.index ) )"
   ]
  },
  {
   "cell_type": "code",
   "execution_count": 20,
   "id": "8e5ce484",
   "metadata": {},
   "outputs": [
    {
     "data": {
      "text/plain": [
       "281"
      ]
     },
     "execution_count": 20,
     "metadata": {},
     "output_type": "execute_result"
    }
   ],
   "source": [
    "len( set( clin_kipan.index ) - set( meth_kipan.index ) )"
   ]
  },
  {
   "cell_type": "code",
   "execution_count": 21,
   "id": "5d2ccacc",
   "metadata": {},
   "outputs": [
    {
     "data": {
      "text/plain": [
       "207"
      ]
     },
     "execution_count": 21,
     "metadata": {},
     "output_type": "execute_result"
    }
   ],
   "source": [
    "len( set( meth_kipan.index ) - set( clin_kipan.index ) )"
   ]
  },
  {
   "cell_type": "code",
   "execution_count": 22,
   "id": "975b8031",
   "metadata": {},
   "outputs": [],
   "source": [
    "#set( meth_kipan.index ) - set( clin_kipan.index )"
   ]
  },
  {
   "cell_type": "code",
   "execution_count": 23,
   "id": "6a427bf8",
   "metadata": {},
   "outputs": [
    {
     "data": {
      "text/plain": [
       "Counter({'01A': 656, '11A': 205, '01B': 4, '05A': 2})"
      ]
     },
     "execution_count": 23,
     "metadata": {},
     "output_type": "execute_result"
    }
   ],
   "source": [
    "from collections import Counter\n",
    "\n",
    "Counter( [i.split('-')[3] for i in meth_kipan.index] )"
   ]
  },
  {
   "cell_type": "code",
   "execution_count": 24,
   "id": "c1514c8d",
   "metadata": {},
   "outputs": [
    {
     "data": {
      "text/plain": [
       "Counter({'01A': 656, '01B': 4})"
      ]
     },
     "execution_count": 24,
     "metadata": {},
     "output_type": "execute_result"
    }
   ],
   "source": [
    "Counter( [i.split('-')[3] for i in np.array( set( clin_kipan.index ) & set( meth_kipan.index ) ).tolist()])"
   ]
  },
  {
   "cell_type": "code",
   "execution_count": 25,
   "id": "4de2aed3",
   "metadata": {},
   "outputs": [],
   "source": [
    "meth_kipan.drop( ['TCGA-DV-A4W0-05A','TCGA-UZ-A9PS-05A'], axis=0, inplace=True, errors = 'ignore')\n",
    "#meth_kipan"
   ]
  },
  {
   "cell_type": "code",
   "execution_count": 26,
   "id": "f0f67ed4",
   "metadata": {},
   "outputs": [],
   "source": [
    "clin_normal = pd.DataFrame( index = meth_kipan.index[meth_kipan.index.str.contains('11A')], columns = clin_kipan.columns )\n",
    "#clin_normal"
   ]
  },
  {
   "cell_type": "code",
   "execution_count": 27,
   "id": "3a34c680",
   "metadata": {},
   "outputs": [],
   "source": [
    "clin_normal['subtype'] = 'Normal'\n",
    "#clin_normal"
   ]
  },
  {
   "cell_type": "code",
   "execution_count": 28,
   "id": "39a718cb",
   "metadata": {},
   "outputs": [],
   "source": [
    "clin_kipan['kipan'] = 'RCC'\n",
    "#clin_kipan"
   ]
  },
  {
   "cell_type": "code",
   "execution_count": 29,
   "id": "ff9c0e71",
   "metadata": {},
   "outputs": [],
   "source": [
    "clin_normal['kipan'] = 'Normal'\n",
    "clin_normal['survival'] = 'Normal'\n",
    "#clin_normal"
   ]
  },
  {
   "cell_type": "code",
   "execution_count": 30,
   "id": "6eced781",
   "metadata": {},
   "outputs": [],
   "source": [
    "clin_all = pd.concat( [clin_normal, clin_kipan], axis=0 )\n",
    "clin_all.sort_index( inplace = True )"
   ]
  },
  {
   "cell_type": "code",
   "execution_count": 32,
   "id": "13a1affa",
   "metadata": {},
   "outputs": [],
   "source": [
    "clin_all = clin_all[['kipan','subtype', 'days_to_death', 'vital_status','survival',\n",
    "       'age_at_initial_pathologic_diagnosis', 'gender', 'metastasis_info', 'stage']]\n",
    "#clin_all"
   ]
  },
  {
   "cell_type": "code",
   "execution_count": 33,
   "id": "aa6d1cf5",
   "metadata": {},
   "outputs": [
    {
     "data": {
      "text/plain": [
       "Index(['kipan', 'subtype', 'days_to_death', 'vital_status', 'survival',\n",
       "       'age_at_initial_pathologic_diagnosis', 'gender', 'metastasis_info',\n",
       "       'stage'],\n",
       "      dtype='object', name=0)"
      ]
     },
     "execution_count": 33,
     "metadata": {},
     "output_type": "execute_result"
    }
   ],
   "source": [
    "clin_all.columns"
   ]
  },
  {
   "cell_type": "code",
   "execution_count": 34,
   "id": "0ab873f5",
   "metadata": {},
   "outputs": [],
   "source": [
    "df_clin_meth = pd.concat([clin_all, meth_kipan], axis='columns', join='inner').sort_values(['kipan'], axis=0)\n",
    "#df_clin_meth"
   ]
  },
  {
   "cell_type": "code",
   "execution_count": 35,
   "id": "1de58ba4",
   "metadata": {},
   "outputs": [
    {
     "data": {
      "text/plain": [
       "Counter({'Normal': 205, 'kirp': 275, 'kirc': 319, 'kich': 66})"
      ]
     },
     "execution_count": 35,
     "metadata": {},
     "output_type": "execute_result"
    }
   ],
   "source": [
    "Counter( df_clin_meth['subtype'] )"
   ]
  },
  {
   "cell_type": "code",
   "execution_count": 36,
   "id": "7ca5d1b5",
   "metadata": {},
   "outputs": [],
   "source": [
    "df_clin_meth = df_clin_meth.T"
   ]
  },
  {
   "cell_type": "code",
   "execution_count": 38,
   "id": "36beddf1",
   "metadata": {},
   "outputs": [],
   "source": [
    "#df_clin_meth.head(10)"
   ]
  },
  {
   "cell_type": "markdown",
   "id": "1177d81d",
   "metadata": {},
   "source": [
    "## KS Test and FDR Correction for comparison between Normal and Tumor"
   ]
  },
  {
   "cell_type": "code",
   "execution_count": 39,
   "id": "9dc35f0b",
   "metadata": {},
   "outputs": [],
   "source": [
    "count = 0\n",
    "for i in df_clin_meth.iloc[0,:].tolist():\n",
    "    if i == \"Normal\":\n",
    "        count+=1"
   ]
  },
  {
   "cell_type": "code",
   "execution_count": 40,
   "id": "8f29a1d8",
   "metadata": {},
   "outputs": [
    {
     "data": {
      "text/plain": [
       "205"
      ]
     },
     "execution_count": 40,
     "metadata": {},
     "output_type": "execute_result"
    }
   ],
   "source": [
    "count"
   ]
  },
  {
   "cell_type": "code",
   "execution_count": 41,
   "id": "6c0c0a15",
   "metadata": {},
   "outputs": [
    {
     "data": {
      "text/plain": [
       "865"
      ]
     },
     "execution_count": 41,
     "metadata": {},
     "output_type": "execute_result"
    }
   ],
   "source": [
    "len(df_clin_meth.iloc[0,:].tolist())"
   ]
  },
  {
   "cell_type": "code",
   "execution_count": 42,
   "id": "6330c9ac",
   "metadata": {},
   "outputs": [],
   "source": [
    "import scipy.stats as sc"
   ]
  },
  {
   "cell_type": "code",
   "execution_count": 43,
   "id": "81abb9f0",
   "metadata": {},
   "outputs": [
    {
     "data": {
      "text/plain": [
       "KstestResult(statistic=0.3596652768979183, pvalue=6.661338147750939e-16)"
      ]
     },
     "execution_count": 43,
     "metadata": {},
     "output_type": "execute_result"
    }
   ],
   "source": [
    "sc.ks_2samp(df_clin_meth.iloc[9, 0:206], df_clin_meth.iloc[9, 206:])"
   ]
  },
  {
   "cell_type": "code",
   "execution_count": 44,
   "id": "cac7b209",
   "metadata": {},
   "outputs": [
    {
     "data": {
      "text/plain": [
       "183210"
      ]
     },
     "execution_count": 44,
     "metadata": {},
     "output_type": "execute_result"
    }
   ],
   "source": [
    "len(df_clin_meth)"
   ]
  },
  {
   "cell_type": "code",
   "execution_count": 45,
   "id": "89b4f266",
   "metadata": {},
   "outputs": [],
   "source": [
    "ks_2_values = []\n",
    "for i in range (9, len(df_clin_meth)):\n",
    "    ks_2_values.append(sc.ks_2samp(df_clin_meth.iloc[i, 0:206], df_clin_meth.iloc[i, 206:]))"
   ]
  },
  {
   "cell_type": "code",
   "execution_count": 46,
   "id": "3d045536",
   "metadata": {},
   "outputs": [],
   "source": [
    "#ks_2_values[0:100]"
   ]
  },
  {
   "cell_type": "code",
   "execution_count": 47,
   "id": "e91f08b9",
   "metadata": {},
   "outputs": [],
   "source": [
    "#df_clin_meth.index.tolist()"
   ]
  },
  {
   "cell_type": "code",
   "execution_count": 48,
   "id": "c4f45ad7",
   "metadata": {},
   "outputs": [],
   "source": [
    "#df_clin_meth.index.tolist()[7:]"
   ]
  },
  {
   "cell_type": "markdown",
   "id": "a90b6aa3",
   "metadata": {},
   "source": [
    "### Create df_stat"
   ]
  },
  {
   "cell_type": "code",
   "execution_count": 49,
   "id": "15e3a016",
   "metadata": {},
   "outputs": [],
   "source": [
    "df_stat = pd.DataFrame()"
   ]
  },
  {
   "cell_type": "code",
   "execution_count": 50,
   "id": "c03d3847",
   "metadata": {},
   "outputs": [],
   "source": [
    "df_stat['ID'] = df_clin_meth.index.tolist()[9:]"
   ]
  },
  {
   "cell_type": "code",
   "execution_count": 51,
   "id": "0f0d3930",
   "metadata": {},
   "outputs": [],
   "source": [
    "new_ks_2_values = []\n",
    "for i in ks_2_values:\n",
    "    new_ks_2_values.append(i[1])"
   ]
  },
  {
   "cell_type": "code",
   "execution_count": 52,
   "id": "d9a1c878",
   "metadata": {},
   "outputs": [],
   "source": [
    "df_stat[\"P Value\"] = new_ks_2_values"
   ]
  },
  {
   "cell_type": "code",
   "execution_count": 53,
   "id": "1ec5b52c",
   "metadata": {},
   "outputs": [],
   "source": [
    "#df_stat.head(10)"
   ]
  },
  {
   "cell_type": "code",
   "execution_count": 54,
   "id": "164e54b2",
   "metadata": {},
   "outputs": [],
   "source": [
    "#df_stat = df_stat.sort_values(['P Value'], axis=0)"
   ]
  },
  {
   "cell_type": "code",
   "execution_count": 55,
   "id": "c6bdaf1b",
   "metadata": {},
   "outputs": [],
   "source": [
    "#df_stat.head(10)"
   ]
  },
  {
   "cell_type": "code",
   "execution_count": 56,
   "id": "a83b210f",
   "metadata": {},
   "outputs": [],
   "source": [
    "import statsmodels.stats.multitest\n",
    "corrected_vals = statsmodels.stats.multitest.fdrcorrection(new_ks_2_values)\n",
    "corrected_vals = corrected_vals[1]"
   ]
  },
  {
   "cell_type": "code",
   "execution_count": 57,
   "id": "8eb4ca8f",
   "metadata": {},
   "outputs": [],
   "source": [
    "#corrected_vals"
   ]
  },
  {
   "cell_type": "code",
   "execution_count": 58,
   "id": "3e6b3bbb",
   "metadata": {},
   "outputs": [],
   "source": [
    "df_stat[\"Corrected P Value\"] = corrected_vals"
   ]
  },
  {
   "cell_type": "code",
   "execution_count": 59,
   "id": "5637bde1",
   "metadata": {},
   "outputs": [],
   "source": [
    "#df_stat.head(10)"
   ]
  },
  {
   "cell_type": "code",
   "execution_count": 60,
   "id": "6f8d4e34",
   "metadata": {},
   "outputs": [],
   "source": [
    "#df_stat = df_stat.sort_values(['Corrected P Value'], axis=0)"
   ]
  },
  {
   "cell_type": "code",
   "execution_count": 61,
   "id": "ab942a69",
   "metadata": {},
   "outputs": [],
   "source": [
    "#df_stat"
   ]
  },
  {
   "cell_type": "code",
   "execution_count": 62,
   "id": "33f47366",
   "metadata": {},
   "outputs": [],
   "source": [
    "#df_stat[\"ID\"]"
   ]
  },
  {
   "cell_type": "code",
   "execution_count": 63,
   "id": "ae39d3aa",
   "metadata": {},
   "outputs": [],
   "source": [
    "#df_stat[\"ID\"].tolist()[0:10]"
   ]
  },
  {
   "cell_type": "code",
   "execution_count": 64,
   "id": "3e63bea8",
   "metadata": {},
   "outputs": [],
   "source": [
    "top_ten = [df_stat[\"ID\"].tolist()[0:10]]\n",
    "#top_ten"
   ]
  },
  {
   "cell_type": "code",
   "execution_count": 65,
   "id": "fc4ebaed",
   "metadata": {},
   "outputs": [],
   "source": [
    "#df_clin_meth.loc[\"cg00000029\"].tolist()[:205]"
   ]
  },
  {
   "cell_type": "code",
   "execution_count": 66,
   "id": "ca2d400d",
   "metadata": {},
   "outputs": [],
   "source": [
    "import numpy as np\n",
    "import matplotlib.pyplot as plt\n",
    "#plt.style.use('seaborn-deep')\n"
   ]
  },
  {
   "cell_type": "code",
   "execution_count": 67,
   "id": "31f86e06",
   "metadata": {},
   "outputs": [],
   "source": [
    "from statistics import mean\n",
    "\n",
    "means_normal = []\n",
    "for i in range (9, len(df_clin_meth)):\n",
    "    means_normal.append(mean(df_clin_meth.iloc[i, 0:206].tolist()))\n",
    "#means_normal[0:100]"
   ]
  },
  {
   "cell_type": "code",
   "execution_count": 68,
   "id": "d3c3472b",
   "metadata": {},
   "outputs": [],
   "source": [
    "tumor_means = []\n",
    "for i in range (9, len(df_clin_meth)):\n",
    "    tumor_means.append(mean(df_clin_meth.iloc[i, 206:].tolist()))\n",
    "#means_normal[0:100"
   ]
  },
  {
   "cell_type": "code",
   "execution_count": 69,
   "id": "8e857f70",
   "metadata": {},
   "outputs": [],
   "source": [
    "df_stat[\"Normal Means\"] = means_normal"
   ]
  },
  {
   "cell_type": "code",
   "execution_count": 70,
   "id": "7c86f8ad",
   "metadata": {},
   "outputs": [],
   "source": [
    "df_stat[\"Tumor Means\"] = tumor_means"
   ]
  },
  {
   "cell_type": "code",
   "execution_count": 71,
   "id": "072ae079",
   "metadata": {},
   "outputs": [
    {
     "data": {
      "text/html": [
       "<div>\n",
       "<style scoped>\n",
       "    .dataframe tbody tr th:only-of-type {\n",
       "        vertical-align: middle;\n",
       "    }\n",
       "\n",
       "    .dataframe tbody tr th {\n",
       "        vertical-align: top;\n",
       "    }\n",
       "\n",
       "    .dataframe thead th {\n",
       "        text-align: right;\n",
       "    }\n",
       "</style>\n",
       "<table border=\"1\" class=\"dataframe\">\n",
       "  <thead>\n",
       "    <tr style=\"text-align: right;\">\n",
       "      <th></th>\n",
       "      <th>ID</th>\n",
       "      <th>P Value</th>\n",
       "      <th>Corrected P Value</th>\n",
       "      <th>Normal Means</th>\n",
       "      <th>Tumor Means</th>\n",
       "    </tr>\n",
       "  </thead>\n",
       "  <tbody>\n",
       "    <tr>\n",
       "      <th>0</th>\n",
       "      <td>cg00000029</td>\n",
       "      <td>6.661338e-16</td>\n",
       "      <td>1.797958e-15</td>\n",
       "      <td>0.435997</td>\n",
       "      <td>0.502345</td>\n",
       "    </tr>\n",
       "    <tr>\n",
       "      <th>1</th>\n",
       "      <td>cg00000108</td>\n",
       "      <td>1.000000e+00</td>\n",
       "      <td>1.000000e+00</td>\n",
       "      <td>NaN</td>\n",
       "      <td>NaN</td>\n",
       "    </tr>\n",
       "    <tr>\n",
       "      <th>2</th>\n",
       "      <td>cg00000109</td>\n",
       "      <td>1.000000e+00</td>\n",
       "      <td>1.000000e+00</td>\n",
       "      <td>NaN</td>\n",
       "      <td>NaN</td>\n",
       "    </tr>\n",
       "    <tr>\n",
       "      <th>3</th>\n",
       "      <td>cg00000165</td>\n",
       "      <td>5.140888e-12</td>\n",
       "      <td>1.147241e-11</td>\n",
       "      <td>0.132543</td>\n",
       "      <td>0.205535</td>\n",
       "    </tr>\n",
       "    <tr>\n",
       "      <th>4</th>\n",
       "      <td>cg00000236</td>\n",
       "      <td>5.195960e-03</td>\n",
       "      <td>7.320207e-03</td>\n",
       "      <td>0.895769</td>\n",
       "      <td>0.897032</td>\n",
       "    </tr>\n",
       "  </tbody>\n",
       "</table>\n",
       "</div>"
      ],
      "text/plain": [
       "           ID       P Value  Corrected P Value  Normal Means  Tumor Means\n",
       "0  cg00000029  6.661338e-16       1.797958e-15      0.435997     0.502345\n",
       "1  cg00000108  1.000000e+00       1.000000e+00           NaN          NaN\n",
       "2  cg00000109  1.000000e+00       1.000000e+00           NaN          NaN\n",
       "3  cg00000165  5.140888e-12       1.147241e-11      0.132543     0.205535\n",
       "4  cg00000236  5.195960e-03       7.320207e-03      0.895769     0.897032"
      ]
     },
     "execution_count": 71,
     "metadata": {},
     "output_type": "execute_result"
    }
   ],
   "source": [
    "df_stat.head()"
   ]
  },
  {
   "cell_type": "code",
   "execution_count": 72,
   "id": "a773a4bf",
   "metadata": {},
   "outputs": [],
   "source": [
    "difference_means = []\n",
    "for i in range (0, len(df_stat)):\n",
    "    difference_means.append(tumor_means[i] - means_normal[i])\n",
    "#difference_means[0:100]"
   ]
  },
  {
   "cell_type": "code",
   "execution_count": 73,
   "id": "5e8cb23d",
   "metadata": {},
   "outputs": [],
   "source": [
    "df_stat[\"Difference of Means\"] = difference_means"
   ]
  },
  {
   "cell_type": "code",
   "execution_count": 74,
   "id": "9aa1dae5",
   "metadata": {},
   "outputs": [],
   "source": [
    "df_stat = df_stat.sort_values(['Difference of Means'], axis=0, ascending=False)\n",
    "#df_stat.tail(40000)"
   ]
  },
  {
   "cell_type": "code",
   "execution_count": 75,
   "id": "7d76f497",
   "metadata": {},
   "outputs": [],
   "source": [
    "df_temp = df_stat.tail(40500)\n"
   ]
  },
  {
   "cell_type": "code",
   "execution_count": 76,
   "id": "69cbd1d9",
   "metadata": {},
   "outputs": [],
   "source": [
    "df_temp_2 = df_temp.head(250)\n",
    "#df_temp_2.tail(50)"
   ]
  },
  {
   "cell_type": "code",
   "execution_count": 77,
   "id": "3a9762fb",
   "metadata": {},
   "outputs": [],
   "source": [
    "df_stat.set_index(\"ID\", inplace=True)"
   ]
  },
  {
   "cell_type": "code",
   "execution_count": 78,
   "id": "b30839bd",
   "metadata": {},
   "outputs": [],
   "source": [
    "#raw_clin_kipan.head(10)"
   ]
  },
  {
   "cell_type": "markdown",
   "id": "8293cd29",
   "metadata": {},
   "source": [
    "## These are the Top Positive Ones (T-N > 0; hypermethylation):"
   ]
  },
  {
   "cell_type": "code",
   "execution_count": 79,
   "id": "703b9547",
   "metadata": {},
   "outputs": [
    {
     "data": {
      "image/png": "[encoded data removed]",
      "text/plain": [
       "<Figure size 1080x720 with 1 Axes>"
      ]
     },
     "metadata": {
      "needs_background": "light"
     },
     "output_type": "display_data"
    }
   ],
   "source": [
    "import matplotlib.patches as mpatches\n",
    "x = df_clin_meth.loc['cg06607764'].tolist()[:205]\n",
    "x = [i*100 for i in x]\n",
    "#print(x)\n",
    "y = df_clin_meth.loc['cg06607764'].tolist()[206:]\n",
    "y = [i*100 for i in y]\n",
    "#print(y)\n",
    "\n",
    "plt.rcParams[\"figure.figsize\"] = (15,10)\n",
    "plt.rcParams.update({'font.size': 40})\n",
    "bins = np.linspace(0, 100, 50)\n",
    "\n",
    "plt.hist([x, y], bins, label=['Normal', 'RCC'], color=[\"#64F0F0\", \"#956BA9\"])\n",
    "plt.title('cg06607764 (CYTH1)')\n",
    "first_legend = plt.legend(loc='upper left')\n",
    "ax = plt.gca().add_artist(first_legend)\n",
    "\n",
    "plt.text(-2, 60, \"FDR: 1.80e-15\", fontsize=40, verticalalignment='top', color=\"blue\")\n",
    "\n",
    "#plt.savefig(\"TSC2.pdf\")\n",
    "plt.show()"
   ]
  },
  {
   "cell_type": "code",
   "execution_count": 80,
   "id": "e0f66850",
   "metadata": {},
   "outputs": [],
   "source": [
    "#y"
   ]
  },
  {
   "cell_type": "code",
   "execution_count": 81,
   "id": "76c38afe",
   "metadata": {},
   "outputs": [
    {
     "data": {
      "text/plain": [
       "1.797957731132405e-15"
      ]
     },
     "execution_count": 81,
     "metadata": {},
     "output_type": "execute_result"
    }
   ],
   "source": [
    "df_stat.loc[\"cg06607764\", \"Corrected P Value\"]"
   ]
  },
  {
   "cell_type": "code",
   "execution_count": 82,
   "id": "ce9e56e7",
   "metadata": {},
   "outputs": [
    {
     "data": {
      "image/png": "[encoded data removed]",
      "text/plain": [
       "<Figure size 1080x720 with 1 Axes>"
      ]
     },
     "metadata": {
      "needs_background": "light"
     },
     "output_type": "display_data"
    }
   ],
   "source": [
    "x = df_clin_meth.loc['cg00713400'].tolist()[:205]\n",
    "x = [i*100 for i in x]\n",
    "#print(x)\n",
    "y = df_clin_meth.loc['cg00713400'].tolist()[206:]\n",
    "y = [i*100 for i in y]\n",
    "#print(y)\n",
    "\n",
    "bins = np.linspace(0, 100, 50)\n",
    "\n",
    "plt.hist([x, y], bins, label=['Normal', 'RCC'], color=[\"#64F0F0\", \"#956BA9\"])\n",
    "plt.title('cg00713400 (RAPGEF5)')\n",
    "first_legend = plt.legend(loc='upper left')\n",
    "ax = plt.gca().add_artist(first_legend)\n",
    "\n",
    "plt.text(-2, 205, \"FDR: 1.80e-15\", fontsize=40, verticalalignment='top', color=\"blue\")\n",
    "\n",
    "#plt.savefig(\"TSC2.pdf\")\n",
    "plt.show()"
   ]
  },
  {
   "cell_type": "code",
   "execution_count": 83,
   "id": "09e62fac",
   "metadata": {},
   "outputs": [
    {
     "data": {
      "text/plain": [
       "1.797957731132405e-15"
      ]
     },
     "execution_count": 83,
     "metadata": {},
     "output_type": "execute_result"
    }
   ],
   "source": [
    "df_stat.loc[\"cg00713400\", \"Corrected P Value\"]"
   ]
  },
  {
   "cell_type": "code",
   "execution_count": 84,
   "id": "697394bd",
   "metadata": {},
   "outputs": [],
   "source": [
    "#print(df_clin_meth.loc[\"cg00713400\", :].tolist())"
   ]
  },
  {
   "cell_type": "code",
   "execution_count": 85,
   "id": "eebcf1ba",
   "metadata": {},
   "outputs": [
    {
     "data": {
      "image/png": "[encoded data removed]",
      "text/plain": [
       "<Figure size 1080x720 with 1 Axes>"
      ]
     },
     "metadata": {
      "needs_background": "light"
     },
     "output_type": "display_data"
    }
   ],
   "source": [
    "x = df_clin_meth.loc['cg07355189'].tolist()[:205]\n",
    "x = [i*100 for i in x]\n",
    "#print(x)\n",
    "y = df_clin_meth.loc['cg07355189'].tolist()[206:]\n",
    "y = [i*100 for i in y]\n",
    "#print(y)\n",
    "\n",
    "bins = np.linspace(0, 100, 50)\n",
    "\n",
    "plt.hist([x, y], bins, label=['Normal', 'RCC'], color=[\"#64F0F0\", \"#956BA9\"])\n",
    "plt.title('cg07355189 (ALOX5)')\n",
    "first_legend = plt.legend(loc='upper left')\n",
    "ax = plt.gca().add_artist(first_legend)\n",
    "\n",
    "plt.text(-2, 44, \"FDR: 1.80e-15\", fontsize=40, verticalalignment='top', color=\"blue\")\n",
    "\n",
    "#plt.savefig(\"TSC2.pdf\")\n",
    "plt.show()"
   ]
  },
  {
   "cell_type": "code",
   "execution_count": 86,
   "id": "61bb3e7e",
   "metadata": {},
   "outputs": [
    {
     "data": {
      "text/plain": [
       "1.797957731132405e-15"
      ]
     },
     "execution_count": 86,
     "metadata": {},
     "output_type": "execute_result"
    }
   ],
   "source": [
    "df_stat.loc[\"cg07355189\", \"Corrected P Value\"]"
   ]
  },
  {
   "cell_type": "code",
   "execution_count": 87,
   "id": "eb382c9f",
   "metadata": {},
   "outputs": [
    {
     "data": {
      "image/png": "[encoded data removed]",
      "text/plain": [
       "<Figure size 1080x720 with 1 Axes>"
      ]
     },
     "metadata": {
      "needs_background": "light"
     },
     "output_type": "display_data"
    }
   ],
   "source": [
    "x = df_clin_meth.loc['cg06330323'].tolist()[:205]\n",
    "x = [i*100 for i in x]\n",
    "#print(x)\n",
    "y = df_clin_meth.loc['cg06330323'].tolist()[206:]\n",
    "y = [i*100 for i in y]\n",
    "#print(y)\n",
    "\n",
    "bins = np.linspace(0, 100, 50)\n",
    "\n",
    "plt.hist([x, y], bins, label=['Normal', 'RCC'], color=[\"#64F0F0\", \"#956BA9\"])\n",
    "plt.title('cg06330323 (TSC2)')\n",
    "first_legend = plt.legend(loc='upper left')\n",
    "ax = plt.gca().add_artist(first_legend)\n",
    "\n",
    "plt.text(-4, 103, \"FDR: 1.80e-15\", fontsize=40, verticalalignment='top', color=\"blue\")\n",
    "\n",
    "#plt.savefig(\"TSC2.pdf\")\n",
    "plt.show()"
   ]
  },
  {
   "cell_type": "code",
   "execution_count": 88,
   "id": "d26708b8",
   "metadata": {},
   "outputs": [
    {
     "data": {
      "text/plain": [
       "1.797957731132405e-15"
      ]
     },
     "execution_count": 88,
     "metadata": {},
     "output_type": "execute_result"
    }
   ],
   "source": [
    "df_stat.loc[\"cg06330323\", \"Corrected P Value\"]"
   ]
  },
  {
   "cell_type": "code",
   "execution_count": 89,
   "id": "de75cf7a",
   "metadata": {},
   "outputs": [
    {
     "data": {
      "image/png": "[encoded data removed]",
      "text/plain": [
       "<Figure size 1080x720 with 1 Axes>"
      ]
     },
     "metadata": {
      "needs_background": "light"
     },
     "output_type": "display_data"
    }
   ],
   "source": [
    "x = df_clin_meth.loc['cg00716257'].tolist()[:205]\n",
    "x = [i*100 for i in x]\n",
    "#print(x)\n",
    "y = df_clin_meth.loc['cg00716257'].tolist()[206:]\n",
    "y = [i*100 for i in y]\n",
    "#print(y)\n",
    "\n",
    "bins = np.linspace(0, 100, 50)\n",
    "\n",
    "plt.hist([x, y], bins, label=['Normal', 'RCC'], color=[\"#64F0F0\", \"#956BA9\"])\n",
    "plt.title('cg00716257 (JDP2)')\n",
    "first_legend = plt.legend(loc='upper left')\n",
    "ax = plt.gca().add_artist(first_legend)\n",
    "\n",
    "plt.text(-4, 61, \"FDR: 1.80e-15\", fontsize=25, verticalalignment='top', color=\"blue\")\n",
    "\n",
    "#plt.savefig(\"TSC2.pdf\")\n",
    "plt.show()"
   ]
  },
  {
   "cell_type": "code",
   "execution_count": 90,
   "id": "8fd71112",
   "metadata": {},
   "outputs": [
    {
     "data": {
      "text/plain": [
       "1.797957731132405e-15"
      ]
     },
     "execution_count": 90,
     "metadata": {},
     "output_type": "execute_result"
    }
   ],
   "source": [
    "df_stat.loc[\"cg00716257\", \"Corrected P Value\"]"
   ]
  },
  {
   "cell_type": "code",
   "execution_count": 91,
   "id": "9e5f8c8d",
   "metadata": {},
   "outputs": [
    {
     "data": {
      "image/png": "[encoded data removed]",
      "text/plain": [
       "<Figure size 1080x720 with 1 Axes>"
      ]
     },
     "metadata": {
      "needs_background": "light"
     },
     "output_type": "display_data"
    }
   ],
   "source": [
    "x = df_clin_meth.loc['cg07600533'].tolist()[:205]\n",
    "x = [i*100 for i in x]\n",
    "#print(x)\n",
    "y = df_clin_meth.loc['cg07600533'].tolist()[206:]\n",
    "y = [i*100 for i in y]\n",
    "#print(y)\n",
    "\n",
    "bins = np.linspace(0, 100, 50)\n",
    "\n",
    "plt.hist([x, y], bins, label=['Normal', 'RCC'], color=[\"#64F0F0\", \"#956BA9\"])\n",
    "plt.title('cg07600533 (KLHDC7B)')\n",
    "first_legend = plt.legend(loc='upper left')\n",
    "ax = plt.gca().add_artist(first_legend)\n",
    "\n",
    "plt.text(-4, 61, \"FDR: 1.80e-15\", fontsize=25, verticalalignment='top', color=\"blue\")\n",
    "\n",
    "#plt.savefig(\"TSC2.pdf\")\n",
    "plt.show()"
   ]
  },
  {
   "cell_type": "code",
   "execution_count": 92,
   "id": "857ea211",
   "metadata": {},
   "outputs": [
    {
     "data": {
      "text/plain": [
       "1.797957731132405e-15"
      ]
     },
     "execution_count": 92,
     "metadata": {},
     "output_type": "execute_result"
    }
   ],
   "source": [
    "df_stat.loc[\"cg07600533\", \"Corrected P Value\"]"
   ]
  },
  {
   "cell_type": "code",
   "execution_count": 93,
   "id": "6274a365",
   "metadata": {},
   "outputs": [
    {
     "data": {
      "image/png": "[encoded data removed]",
      "text/plain": [
       "<Figure size 1080x720 with 1 Axes>"
      ]
     },
     "metadata": {
      "needs_background": "light"
     },
     "output_type": "display_data"
    }
   ],
   "source": [
    "x = df_clin_meth.loc['cg00849267'].tolist()[:205]\n",
    "x = [i*100 for i in x]\n",
    "#print(x)\n",
    "y = df_clin_meth.loc['cg00849267'].tolist()[206:]\n",
    "y = [i*100 for i in y]\n",
    "#print(y)\n",
    "\n",
    "bins = np.linspace(0, 100, 50)\n",
    "\n",
    "plt.hist([x, y], bins, label=['Normal', 'RCC'], color=[\"#64F0F0\", \"#956BA9\"])\n",
    "plt.title('cg00849267 (LMF1)')\n",
    "first_legend = plt.legend(loc='upper left')\n",
    "ax = plt.gca().add_artist(first_legend)\n",
    "\n",
    "plt.text(-4, 117, \"FDR: 1.80e-15\", fontsize=25, verticalalignment='top', color=\"blue\")\n",
    "\n",
    "#plt.savefig(\"TSC2.pdf\")\n",
    "plt.show()"
   ]
  },
  {
   "cell_type": "code",
   "execution_count": 94,
   "id": "6b9199fc",
   "metadata": {},
   "outputs": [
    {
     "data": {
      "text/plain": [
       "1.797957731132405e-15"
      ]
     },
     "execution_count": 94,
     "metadata": {},
     "output_type": "execute_result"
    }
   ],
   "source": [
    "df_stat.loc[\"cg00849267\", \"Corrected P Value\"]"
   ]
  },
  {
   "cell_type": "code",
   "execution_count": 95,
   "id": "6bdc5673",
   "metadata": {},
   "outputs": [
    {
     "data": {
      "image/png": "[encoded data removed]",
      "text/plain": [
       "<Figure size 1080x720 with 1 Axes>"
      ]
     },
     "metadata": {
      "needs_background": "light"
     },
     "output_type": "display_data"
    }
   ],
   "source": [
    "x = df_clin_meth.loc['cg04972436'].tolist()[:205]\n",
    "x = [i*100 for i in x]\n",
    "#print(x)\n",
    "y = df_clin_meth.loc['cg04972436'].tolist()[206:]\n",
    "y = [i*100 for i in y]\n",
    "#print(y)\n",
    "\n",
    "bins = np.linspace(0, 100, 50)\n",
    "\n",
    "plt.hist([x, y], bins, label=['Normal', 'RCC'], color=[\"#64F0F0\", \"#956BA9\"])\n",
    "plt.title('cg04972436 (BIRC5;EPR1)')\n",
    "first_legend = plt.legend(loc='upper left')\n",
    "ax = plt.gca().add_artist(first_legend)\n",
    "\n",
    "plt.text(-4, 48, \"FDR: 1.80e-15\", fontsize=25, verticalalignment='top', color=\"blue\")\n",
    "\n",
    "#plt.savefig(\"TSC2.pdf\")\n",
    "plt.show()"
   ]
  },
  {
   "cell_type": "code",
   "execution_count": 96,
   "id": "e5e66876",
   "metadata": {},
   "outputs": [
    {
     "data": {
      "text/plain": [
       "1.797957731132405e-15"
      ]
     },
     "execution_count": 96,
     "metadata": {},
     "output_type": "execute_result"
    }
   ],
   "source": [
    "df_stat.loc[\"cg04972436\", \"Corrected P Value\"]"
   ]
  },
  {
   "cell_type": "markdown",
   "id": "480de7c2",
   "metadata": {},
   "source": [
    "## Top Negative Ones (T-N < 0; hypomethylation):"
   ]
  },
  {
   "cell_type": "code",
   "execution_count": 97,
   "id": "03fec29b",
   "metadata": {},
   "outputs": [
    {
     "data": {
      "image/png": "[encoded data removed]",
      "text/plain": [
       "<Figure size 1080x720 with 1 Axes>"
      ]
     },
     "metadata": {
      "needs_background": "light"
     },
     "output_type": "display_data"
    }
   ],
   "source": [
    "x = df_clin_meth.loc['cg06474225'].tolist()[:205]\n",
    "x = [i*100 for i in x]\n",
    "#print(x)\n",
    "y = df_clin_meth.loc['cg06474225'].tolist()[206:]\n",
    "y = [i*100 for i in y]\n",
    "#print(y)\n",
    "\n",
    "bins = np.linspace(0, 100, 50)\n",
    "\n",
    "plt.hist([x, y], bins, label=['Normal', 'RCC'], color=[\"#64F0F0\", \"#956BA9\"])\n",
    "plt.title('cg06474225 (HTRA1)')\n",
    "first_legend = plt.legend(loc='upper right')\n",
    "ax = plt.gca().add_artist(first_legend)\n",
    "\n",
    "plt.text(64.5, 46.5, \"FDR: 1.80e-15\", fontsize=40, verticalalignment='top', color=\"blue\")\n",
    "\n",
    "#plt.savefig(\"TSC2.pdf\")\n",
    "plt.show()\n"
   ]
  },
  {
   "cell_type": "code",
   "execution_count": 98,
   "id": "80972ed2",
   "metadata": {},
   "outputs": [
    {
     "data": {
      "text/plain": [
       "1.797957731132405e-15"
      ]
     },
     "execution_count": 98,
     "metadata": {},
     "output_type": "execute_result"
    }
   ],
   "source": [
    "df_stat.loc[\"cg06474225\", \"Corrected P Value\"]"
   ]
  },
  {
   "cell_type": "code",
   "execution_count": 99,
   "id": "f935d5f4",
   "metadata": {},
   "outputs": [
    {
     "data": {
      "image/png": "[encoded data removed]",
      "text/plain": [
       "<Figure size 1080x720 with 1 Axes>"
      ]
     },
     "metadata": {
      "needs_background": "light"
     },
     "output_type": "display_data"
    }
   ],
   "source": [
    "x = df_clin_meth.loc['cg02578087'].tolist()[:205]\n",
    "x = [i*100 for i in x]\n",
    "#print(x)\n",
    "y = df_clin_meth.loc['cg02578087'].tolist()[206:]\n",
    "y = [i*100 for i in y]\n",
    "#print(y)\n",
    "\n",
    "bins = np.linspace(0, 100, 50)\n",
    "\n",
    "plt.hist([x, y], bins, label=['Normal', 'RCC'], color=[\"#64F0F0\", \"#956BA9\"])\n",
    "plt.title('cg02578087 (C3orf32)')\n",
    "first_legend = plt.legend(loc='upper right')\n",
    "ax = plt.gca().add_artist(first_legend)\n",
    "\n",
    "plt.text(64.5, 72.5, \"FDR: 1.80e-15\", fontsize=40, verticalalignment='top', color=\"blue\")\n",
    "\n",
    "#plt.savefig(\"TSC2.pdf\")\n",
    "plt.show()"
   ]
  },
  {
   "cell_type": "code",
   "execution_count": 100,
   "id": "ff929642",
   "metadata": {},
   "outputs": [
    {
     "data": {
      "text/plain": [
       "1.797957731132405e-15"
      ]
     },
     "execution_count": 100,
     "metadata": {},
     "output_type": "execute_result"
    }
   ],
   "source": [
    "df_stat.loc[\"cg02578087\", \"Corrected P Value\"]"
   ]
  },
  {
   "cell_type": "code",
   "execution_count": 101,
   "id": "bea68bcb",
   "metadata": {},
   "outputs": [
    {
     "data": {
      "image/png": "[encoded data removed]",
      "text/plain": [
       "<Figure size 1080x720 with 1 Axes>"
      ]
     },
     "metadata": {
      "needs_background": "light"
     },
     "output_type": "display_data"
    }
   ],
   "source": [
    "x = df_clin_meth.loc['cg02952295'].tolist()[:205]\n",
    "x = [i*100 for i in x]\n",
    "#print(x)\n",
    "y = df_clin_meth.loc['cg02952295'].tolist()[206:]\n",
    "y = [i*100 for i in y]\n",
    "#print(y)\n",
    "\n",
    "bins = np.linspace(0, 100, 50)\n",
    "\n",
    "plt.hist([x, y], bins, label=['Normal', 'RCC'], color=[\"#64F0F0\", \"#956BA9\"])\n",
    "plt.title('cg02952295 (TRPM8)')\n",
    "first_legend = plt.legend()\n",
    "ax = plt.gca().add_artist(first_legend)\n",
    "\n",
    "plt.text(-4, 38, \"FDR: 1.80e-15\", fontsize=35, verticalalignment='top', color=\"blue\")\n",
    "\n",
    "#plt.savefig(\"TSC2.pdf\")\n",
    "plt.show()"
   ]
  },
  {
   "cell_type": "code",
   "execution_count": 102,
   "id": "e2f531cf",
   "metadata": {},
   "outputs": [
    {
     "data": {
      "text/plain": [
       "1.797957731132405e-15"
      ]
     },
     "execution_count": 102,
     "metadata": {},
     "output_type": "execute_result"
    }
   ],
   "source": [
    "df_stat.loc[\"cg02952295\", \"Corrected P Value\"]"
   ]
  },
  {
   "cell_type": "code",
   "execution_count": 103,
   "id": "8d7eac99",
   "metadata": {},
   "outputs": [
    {
     "data": {
      "image/png": "[encoded data removed]",
      "text/plain": [
       "<Figure size 1080x720 with 1 Axes>"
      ]
     },
     "metadata": {
      "needs_background": "light"
     },
     "output_type": "display_data"
    }
   ],
   "source": [
    "x = df_clin_meth.loc['cg01890836'].tolist()[:205]\n",
    "x = [i*100 for i in x]\n",
    "#print(x)\n",
    "y = df_clin_meth.loc['cg01890836'].tolist()[206:]\n",
    "y = [i*100 for i in y]\n",
    "#print(y)\n",
    "\n",
    "bins = np.linspace(0, 100, 50)\n",
    "\n",
    "plt.hist([x, y], bins, label=['Normal', 'RCC'], color=[\"#64F0F0\", \"#956BA9\"])\n",
    "plt.title('cg01890836 (MPRIP)')\n",
    "first_legend = plt.legend(loc='upper right')\n",
    "ax = plt.gca().add_artist(first_legend)\n",
    "\n",
    "plt.text(81, 46, \"FDR: 1.80e-15\", fontsize=25, verticalalignment='top', color=\"blue\")\n",
    "\n",
    "#plt.savefig(\"TSC2.pdf\")\n",
    "plt.show()"
   ]
  },
  {
   "cell_type": "code",
   "execution_count": 104,
   "id": "664d41be",
   "metadata": {},
   "outputs": [
    {
     "data": {
      "text/plain": [
       "1.797957731132405e-15"
      ]
     },
     "execution_count": 104,
     "metadata": {},
     "output_type": "execute_result"
    }
   ],
   "source": [
    "df_stat.loc[\"cg01890836\", \"Corrected P Value\"]"
   ]
  },
  {
   "cell_type": "code",
   "execution_count": 105,
   "id": "5c7ab5b5",
   "metadata": {},
   "outputs": [
    {
     "data": {
      "image/png": "[encoded data removed]",
      "text/plain": [
       "<Figure size 1080x720 with 1 Axes>"
      ]
     },
     "metadata": {
      "needs_background": "light"
     },
     "output_type": "display_data"
    }
   ],
   "source": [
    "x = df_clin_meth.loc['cg05343811'].tolist()[:205]\n",
    "x = [i*100 for i in x]\n",
    "#print(x)\n",
    "y = df_clin_meth.loc['cg05343811'].tolist()[206:]\n",
    "y = [i*100 for i in y]\n",
    "#print(y)\n",
    "\n",
    "bins = np.linspace(0, 100, 50)\n",
    "\n",
    "plt.hist([x, y], bins, label=['Normal', 'RCC'], color=[\"#64F0F0\", \"#956BA9\"])\n",
    "plt.title('cg05343811 (NEK9)')\n",
    "first_legend = plt.legend(loc='upper right')\n",
    "ax = plt.gca().add_artist(first_legend)\n",
    "\n",
    "plt.text(81, 290, \"FDR: 1.80e-15\", fontsize=25, verticalalignment='top', color=\"blue\")\n",
    "\n",
    "#plt.savefig(\"TSC2.pdf\")\n",
    "plt.show()"
   ]
  },
  {
   "cell_type": "code",
   "execution_count": 106,
   "id": "9081903b",
   "metadata": {},
   "outputs": [
    {
     "data": {
      "text/plain": [
       "1.797957731132405e-15"
      ]
     },
     "execution_count": 106,
     "metadata": {},
     "output_type": "execute_result"
    }
   ],
   "source": [
    "df_stat.loc[\"cg05343811\", \"Corrected P Value\"]"
   ]
  },
  {
   "cell_type": "code",
   "execution_count": 107,
   "id": "1f71a4d7",
   "metadata": {},
   "outputs": [
    {
     "data": {
      "image/png": "[encoded data removed]",
      "text/plain": [
       "<Figure size 1080x720 with 1 Axes>"
      ]
     },
     "metadata": {
      "needs_background": "light"
     },
     "output_type": "display_data"
    }
   ],
   "source": [
    "\n",
    "x = df_clin_meth.loc['cg07093324'].tolist()[:205]\n",
    "x = [i*100 for i in x]\n",
    "#print(x)\n",
    "y = df_clin_meth.loc['cg07093324'].tolist()[206:]\n",
    "y = [i*100 for i in y]\n",
    "#print(y)\n",
    "\n",
    "bins = np.linspace(0, 100, 50)\n",
    "\n",
    "plt.hist([x, y], bins, label=['Normal', 'RCC'], color=[\"#64F0F0\", \"#956BA9\"])\n",
    "plt.title('cg07093324 (ACTR3)')\n",
    "first_legend = plt.legend(loc='upper right')\n",
    "ax = plt.gca().add_artist(first_legend)\n",
    "\n",
    "plt.text(81, 79, \"FDR: 1.80e-15\", fontsize=25, verticalalignment='top', color=\"blue\")\n",
    "\n",
    "#plt.savefig(\"TSC2.pdf\")\n",
    "plt.show()"
   ]
  },
  {
   "cell_type": "code",
   "execution_count": 108,
   "id": "08bcd894",
   "metadata": {},
   "outputs": [
    {
     "data": {
      "text/plain": [
       "1.797957731132405e-15"
      ]
     },
     "execution_count": 108,
     "metadata": {},
     "output_type": "execute_result"
    }
   ],
   "source": [
    "df_stat.loc[\"cg05343811\", \"Corrected P Value\"]"
   ]
  },
  {
   "cell_type": "code",
   "execution_count": 109,
   "id": "6e7df50a",
   "metadata": {},
   "outputs": [
    {
     "data": {
      "image/png": "[encoded data removed]",
      "text/plain": [
       "<Figure size 1080x720 with 1 Axes>"
      ]
     },
     "metadata": {
      "needs_background": "light"
     },
     "output_type": "display_data"
    }
   ],
   "source": [
    "\n",
    "x = df_clin_meth.loc['cg03063658'].tolist()[:205]\n",
    "x = [i*100 for i in x]\n",
    "#print(x)\n",
    "y = df_clin_meth.loc['cg03063658'].tolist()[206:]\n",
    "y = [i*100 for i in y]\n",
    "#print(y)\n",
    "\n",
    "bins = np.linspace(0, 100, 50)\n",
    "\n",
    "plt.hist([x, y], bins, label=['Normal', 'RCC'], color=[\"#64F0F0\", \"#956BA9\"])\n",
    "plt.title('cg03063658 (SH3RF3)')\n",
    "first_legend = plt.legend(loc='upper right')\n",
    "ax = plt.gca().add_artist(first_legend)\n",
    "\n",
    "plt.text(81, 113, \"FDR: 1.80e-15\", fontsize=25, verticalalignment='top', color=\"blue\")\n",
    "\n",
    "#plt.savefig(\"TSC2.pdf\")\n",
    "plt.show()"
   ]
  },
  {
   "cell_type": "code",
   "execution_count": 110,
   "id": "ad2bd1e7",
   "metadata": {},
   "outputs": [
    {
     "data": {
      "text/plain": [
       "1.797957731132405e-15"
      ]
     },
     "execution_count": 110,
     "metadata": {},
     "output_type": "execute_result"
    }
   ],
   "source": [
    "df_stat.loc[\"cg03063658\", \"Corrected P Value\"]"
   ]
  },
  {
   "cell_type": "code",
   "execution_count": null,
   "id": "eec21975",
   "metadata": {},
   "outputs": [],
   "source": []
  },
  {
   "cell_type": "code",
   "execution_count": 111,
   "id": "1806f969",
   "metadata": {},
   "outputs": [
    {
     "data": {
      "image/png": "[encoded data removed]",
      "text/plain": [
       "<Figure size 1080x720 with 1 Axes>"
      ]
     },
     "metadata": {
      "needs_background": "light"
     },
     "output_type": "display_data"
    }
   ],
   "source": [
    "x = df_clin_meth.loc['cg02326386'].tolist()[:205]\n",
    "x = [i*100 for i in x]\n",
    "#print(x)\n",
    "y = df_clin_meth.loc['cg02326386'].tolist()[206:]\n",
    "y = [i*100 for i in y]\n",
    "#print(y)\n",
    "\n",
    "bins = np.linspace(0, 100, 50)\n",
    "\n",
    "plt.hist([x, y], bins, label=['Normal', 'RCC'], color=[\"#64F0F0\", \"#956BA9\"])\n",
    "plt.title('cg02326386 (MOBKL2A)')\n",
    "first_legend = plt.legend(loc='upper right')\n",
    "ax = plt.gca().add_artist(first_legend)\n",
    "\n",
    "plt.text(81, 59, \"FDR: 1.80e-15\", fontsize=25, verticalalignment='top', color=\"blue\")\n",
    "\n",
    "#plt.savefig(\"TSC2.pdf\")\n",
    "plt.show()"
   ]
  },
  {
   "cell_type": "code",
   "execution_count": 112,
   "id": "b495c405",
   "metadata": {},
   "outputs": [
    {
     "data": {
      "text/plain": [
       "1.797957731132405e-15"
      ]
     },
     "execution_count": 112,
     "metadata": {},
     "output_type": "execute_result"
    }
   ],
   "source": [
    "df_stat.loc[\"cg02326386\", \"Corrected P Value\"]"
   ]
  },
  {
   "cell_type": "markdown",
   "id": "68808294",
   "metadata": {},
   "source": [
    "## Stat Anlysis for Subtypes KICH, KIRC, KIRP:"
   ]
  },
  {
   "cell_type": "markdown",
   "id": "ae32f570",
   "metadata": {},
   "source": [
    "## Boxplot Stuff"
   ]
  },
  {
   "cell_type": "code",
   "execution_count": 188,
   "id": "29cd417e",
   "metadata": {},
   "outputs": [],
   "source": [
    "df_boxplot = pd.DataFrame()"
   ]
  },
  {
   "cell_type": "code",
   "execution_count": 189,
   "id": "53119271",
   "metadata": {},
   "outputs": [],
   "source": [
    "df_boxplot[\"TCGA\"] = df_sorted.columns.tolist()"
   ]
  },
  {
   "cell_type": "code",
   "execution_count": 190,
   "id": "76e97ee6",
   "metadata": {},
   "outputs": [
    {
     "data": {
      "text/html": [
       "<div>\n",
       "<style scoped>\n",
       "    .dataframe tbody tr th:only-of-type {\n",
       "        vertical-align: middle;\n",
       "    }\n",
       "\n",
       "    .dataframe tbody tr th {\n",
       "        vertical-align: top;\n",
       "    }\n",
       "\n",
       "    .dataframe thead th {\n",
       "        text-align: right;\n",
       "    }\n",
       "</style>\n",
       "<table border=\"1\" class=\"dataframe\">\n",
       "  <thead>\n",
       "    <tr style=\"text-align: right;\">\n",
       "      <th></th>\n",
       "      <th>TCGA-CJ-4905-11A</th>\n",
       "      <th>TCGA-BP-5178-11A</th>\n",
       "      <th>TCGA-B0-4712-11A</th>\n",
       "      <th>TCGA-CZ-5466-11A</th>\n",
       "      <th>TCGA-B0-4713-11A</th>\n",
       "      <th>TCGA-BP-5177-11A</th>\n",
       "      <th>TCGA-B0-4714-11A</th>\n",
       "      <th>TCGA-CZ-4866-11A</th>\n",
       "      <th>TCGA-B0-4718-11A</th>\n",
       "      <th>TCGA-BP-5176-11A</th>\n",
       "      <th>...</th>\n",
       "      <th>TCGA-B4-5838-01A</th>\n",
       "      <th>TCGA-B4-5843-01A</th>\n",
       "      <th>TCGA-B4-5844-01A</th>\n",
       "      <th>TCGA-B8-4146-01B</th>\n",
       "      <th>TCGA-B8-4153-01B</th>\n",
       "      <th>TCGA-B8-4621-01A</th>\n",
       "      <th>TCGA-B8-4622-01A</th>\n",
       "      <th>TCGA-B8-5158-01A</th>\n",
       "      <th>TCGA-B4-5836-01A</th>\n",
       "      <th>TCGA-Y8-A8S1-01A</th>\n",
       "    </tr>\n",
       "  </thead>\n",
       "  <tbody>\n",
       "    <tr>\n",
       "      <th>kipan</th>\n",
       "      <td>Normal</td>\n",
       "      <td>Normal</td>\n",
       "      <td>Normal</td>\n",
       "      <td>Normal</td>\n",
       "      <td>Normal</td>\n",
       "      <td>Normal</td>\n",
       "      <td>Normal</td>\n",
       "      <td>Normal</td>\n",
       "      <td>Normal</td>\n",
       "      <td>Normal</td>\n",
       "      <td>...</td>\n",
       "      <td>RCC</td>\n",
       "      <td>RCC</td>\n",
       "      <td>RCC</td>\n",
       "      <td>RCC</td>\n",
       "      <td>RCC</td>\n",
       "      <td>RCC</td>\n",
       "      <td>RCC</td>\n",
       "      <td>RCC</td>\n",
       "      <td>RCC</td>\n",
       "      <td>RCC</td>\n",
       "    </tr>\n",
       "    <tr>\n",
       "      <th>subtype</th>\n",
       "      <td>Normal</td>\n",
       "      <td>Normal</td>\n",
       "      <td>Normal</td>\n",
       "      <td>Normal</td>\n",
       "      <td>Normal</td>\n",
       "      <td>Normal</td>\n",
       "      <td>Normal</td>\n",
       "      <td>Normal</td>\n",
       "      <td>Normal</td>\n",
       "      <td>Normal</td>\n",
       "      <td>...</td>\n",
       "      <td>kirc</td>\n",
       "      <td>kirc</td>\n",
       "      <td>kirc</td>\n",
       "      <td>kirc</td>\n",
       "      <td>kirc</td>\n",
       "      <td>kirc</td>\n",
       "      <td>kirc</td>\n",
       "      <td>kirc</td>\n",
       "      <td>kirc</td>\n",
       "      <td>kirp</td>\n",
       "    </tr>\n",
       "    <tr>\n",
       "      <th>days_to_death</th>\n",
       "      <td>NaN</td>\n",
       "      <td>NaN</td>\n",
       "      <td>NaN</td>\n",
       "      <td>NaN</td>\n",
       "      <td>NaN</td>\n",
       "      <td>NaN</td>\n",
       "      <td>NaN</td>\n",
       "      <td>NaN</td>\n",
       "      <td>NaN</td>\n",
       "      <td>NaN</td>\n",
       "      <td>...</td>\n",
       "      <td>NaN</td>\n",
       "      <td>NaN</td>\n",
       "      <td>NaN</td>\n",
       "      <td>NaN</td>\n",
       "      <td>NaN</td>\n",
       "      <td>NaN</td>\n",
       "      <td>NaN</td>\n",
       "      <td>NaN</td>\n",
       "      <td>NaN</td>\n",
       "      <td>NaN</td>\n",
       "    </tr>\n",
       "    <tr>\n",
       "      <th>vital_status</th>\n",
       "      <td>NaN</td>\n",
       "      <td>NaN</td>\n",
       "      <td>NaN</td>\n",
       "      <td>NaN</td>\n",
       "      <td>NaN</td>\n",
       "      <td>NaN</td>\n",
       "      <td>NaN</td>\n",
       "      <td>NaN</td>\n",
       "      <td>NaN</td>\n",
       "      <td>NaN</td>\n",
       "      <td>...</td>\n",
       "      <td>alive</td>\n",
       "      <td>alive</td>\n",
       "      <td>alive</td>\n",
       "      <td>alive</td>\n",
       "      <td>alive</td>\n",
       "      <td>alive</td>\n",
       "      <td>alive</td>\n",
       "      <td>alive</td>\n",
       "      <td>alive</td>\n",
       "      <td>alive</td>\n",
       "    </tr>\n",
       "    <tr>\n",
       "      <th>survival</th>\n",
       "      <td>Normal</td>\n",
       "      <td>Normal</td>\n",
       "      <td>Normal</td>\n",
       "      <td>Normal</td>\n",
       "      <td>Normal</td>\n",
       "      <td>Normal</td>\n",
       "      <td>Normal</td>\n",
       "      <td>Normal</td>\n",
       "      <td>Normal</td>\n",
       "      <td>Normal</td>\n",
       "      <td>...</td>\n",
       "      <td>lts</td>\n",
       "      <td>lts</td>\n",
       "      <td>lts</td>\n",
       "      <td>lts</td>\n",
       "      <td>lts</td>\n",
       "      <td>lts</td>\n",
       "      <td>lts</td>\n",
       "      <td>lts</td>\n",
       "      <td>lts</td>\n",
       "      <td>lts</td>\n",
       "    </tr>\n",
       "    <tr>\n",
       "      <th>age_at_initial_pathologic_diagnosis</th>\n",
       "      <td>NaN</td>\n",
       "      <td>NaN</td>\n",
       "      <td>NaN</td>\n",
       "      <td>NaN</td>\n",
       "      <td>NaN</td>\n",
       "      <td>NaN</td>\n",
       "      <td>NaN</td>\n",
       "      <td>NaN</td>\n",
       "      <td>NaN</td>\n",
       "      <td>NaN</td>\n",
       "      <td>...</td>\n",
       "      <td>52</td>\n",
       "      <td>45</td>\n",
       "      <td>61</td>\n",
       "      <td>41</td>\n",
       "      <td>74</td>\n",
       "      <td>63</td>\n",
       "      <td>57</td>\n",
       "      <td>56</td>\n",
       "      <td>61</td>\n",
       "      <td>61</td>\n",
       "    </tr>\n",
       "    <tr>\n",
       "      <th>gender</th>\n",
       "      <td>NaN</td>\n",
       "      <td>NaN</td>\n",
       "      <td>NaN</td>\n",
       "      <td>NaN</td>\n",
       "      <td>NaN</td>\n",
       "      <td>NaN</td>\n",
       "      <td>NaN</td>\n",
       "      <td>NaN</td>\n",
       "      <td>NaN</td>\n",
       "      <td>NaN</td>\n",
       "      <td>...</td>\n",
       "      <td>male</td>\n",
       "      <td>male</td>\n",
       "      <td>female</td>\n",
       "      <td>female</td>\n",
       "      <td>male</td>\n",
       "      <td>male</td>\n",
       "      <td>male</td>\n",
       "      <td>male</td>\n",
       "      <td>female</td>\n",
       "      <td>male</td>\n",
       "    </tr>\n",
       "    <tr>\n",
       "      <th>metastasis_info</th>\n",
       "      <td>NaN</td>\n",
       "      <td>NaN</td>\n",
       "      <td>NaN</td>\n",
       "      <td>NaN</td>\n",
       "      <td>NaN</td>\n",
       "      <td>NaN</td>\n",
       "      <td>NaN</td>\n",
       "      <td>NaN</td>\n",
       "      <td>NaN</td>\n",
       "      <td>NaN</td>\n",
       "      <td>...</td>\n",
       "      <td>NaN</td>\n",
       "      <td>NaN</td>\n",
       "      <td>NaN</td>\n",
       "      <td>tumor free</td>\n",
       "      <td>with tumor</td>\n",
       "      <td>tumor free</td>\n",
       "      <td>tumor free</td>\n",
       "      <td>tumor free</td>\n",
       "      <td>NaN</td>\n",
       "      <td>tumor free</td>\n",
       "    </tr>\n",
       "    <tr>\n",
       "      <th>stage</th>\n",
       "      <td>NaN</td>\n",
       "      <td>NaN</td>\n",
       "      <td>NaN</td>\n",
       "      <td>NaN</td>\n",
       "      <td>NaN</td>\n",
       "      <td>NaN</td>\n",
       "      <td>NaN</td>\n",
       "      <td>NaN</td>\n",
       "      <td>NaN</td>\n",
       "      <td>NaN</td>\n",
       "      <td>...</td>\n",
       "      <td>stage iv</td>\n",
       "      <td>stage i</td>\n",
       "      <td>stage ii</td>\n",
       "      <td>stage i</td>\n",
       "      <td>stage iii</td>\n",
       "      <td>stage i</td>\n",
       "      <td>stage iv</td>\n",
       "      <td>stage iii</td>\n",
       "      <td>stage i</td>\n",
       "      <td>stage i</td>\n",
       "    </tr>\n",
       "    <tr>\n",
       "      <th>cg00000029</th>\n",
       "      <td>0.347601</td>\n",
       "      <td>0.248976</td>\n",
       "      <td>0.270373</td>\n",
       "      <td>0.621374</td>\n",
       "      <td>0.403761</td>\n",
       "      <td>0.468852</td>\n",
       "      <td>0.263599</td>\n",
       "      <td>0.316744</td>\n",
       "      <td>0.379443</td>\n",
       "      <td>0.509899</td>\n",
       "      <td>...</td>\n",
       "      <td>0.508256</td>\n",
       "      <td>0.487548</td>\n",
       "      <td>0.649682</td>\n",
       "      <td>0.824019</td>\n",
       "      <td>0.461</td>\n",
       "      <td>0.381803</td>\n",
       "      <td>0.670973</td>\n",
       "      <td>0.467914</td>\n",
       "      <td>0.693535</td>\n",
       "      <td>0.581694</td>\n",
       "    </tr>\n",
       "  </tbody>\n",
       "</table>\n",
       "<p>10 rows × 865 columns</p>\n",
       "</div>"
      ],
      "text/plain": [
       "                                    TCGA-CJ-4905-11A TCGA-BP-5178-11A  \\\n",
       "kipan                                         Normal           Normal   \n",
       "subtype                                       Normal           Normal   \n",
       "days_to_death                                    NaN              NaN   \n",
       "vital_status                                     NaN              NaN   \n",
       "survival                                      Normal           Normal   \n",
       "age_at_initial_pathologic_diagnosis              NaN              NaN   \n",
       "gender                                           NaN              NaN   \n",
       "metastasis_info                                  NaN              NaN   \n",
       "stage                                            NaN              NaN   \n",
       "cg00000029                                  0.347601         0.248976   \n",
       "\n",
       "                                    TCGA-B0-4712-11A TCGA-CZ-5466-11A  \\\n",
       "kipan                                         Normal           Normal   \n",
       "subtype                                       Normal           Normal   \n",
       "days_to_death                                    NaN              NaN   \n",
       "vital_status                                     NaN              NaN   \n",
       "survival                                      Normal           Normal   \n",
       "age_at_initial_pathologic_diagnosis              NaN              NaN   \n",
       "gender                                           NaN              NaN   \n",
       "metastasis_info                                  NaN              NaN   \n",
       "stage                                            NaN              NaN   \n",
       "cg00000029                                  0.270373         0.621374   \n",
       "\n",
       "                                    TCGA-B0-4713-11A TCGA-BP-5177-11A  \\\n",
       "kipan                                         Normal           Normal   \n",
       "subtype                                       Normal           Normal   \n",
       "days_to_death                                    NaN              NaN   \n",
       "vital_status                                     NaN              NaN   \n",
       "survival                                      Normal           Normal   \n",
       "age_at_initial_pathologic_diagnosis              NaN              NaN   \n",
       "gender                                           NaN              NaN   \n",
       "metastasis_info                                  NaN              NaN   \n",
       "stage                                            NaN              NaN   \n",
       "cg00000029                                  0.403761         0.468852   \n",
       "\n",
       "                                    TCGA-B0-4714-11A TCGA-CZ-4866-11A  \\\n",
       "kipan                                         Normal           Normal   \n",
       "subtype                                       Normal           Normal   \n",
       "days_to_death                                    NaN              NaN   \n",
       "vital_status                                     NaN              NaN   \n",
       "survival                                      Normal           Normal   \n",
       "age_at_initial_pathologic_diagnosis              NaN              NaN   \n",
       "gender                                           NaN              NaN   \n",
       "metastasis_info                                  NaN              NaN   \n",
       "stage                                            NaN              NaN   \n",
       "cg00000029                                  0.263599         0.316744   \n",
       "\n",
       "                                    TCGA-B0-4718-11A TCGA-BP-5176-11A  ...  \\\n",
       "kipan                                         Normal           Normal  ...   \n",
       "subtype                                       Normal           Normal  ...   \n",
       "days_to_death                                    NaN              NaN  ...   \n",
       "vital_status                                     NaN              NaN  ...   \n",
       "survival                                      Normal           Normal  ...   \n",
       "age_at_initial_pathologic_diagnosis              NaN              NaN  ...   \n",
       "gender                                           NaN              NaN  ...   \n",
       "metastasis_info                                  NaN              NaN  ...   \n",
       "stage                                            NaN              NaN  ...   \n",
       "cg00000029                                  0.379443         0.509899  ...   \n",
       "\n",
       "                                    TCGA-B4-5838-01A TCGA-B4-5843-01A  \\\n",
       "kipan                                            RCC              RCC   \n",
       "subtype                                         kirc             kirc   \n",
       "days_to_death                                    NaN              NaN   \n",
       "vital_status                                   alive            alive   \n",
       "survival                                         lts              lts   \n",
       "age_at_initial_pathologic_diagnosis               52               45   \n",
       "gender                                          male             male   \n",
       "metastasis_info                                  NaN              NaN   \n",
       "stage                                       stage iv          stage i   \n",
       "cg00000029                                  0.508256         0.487548   \n",
       "\n",
       "                                    TCGA-B4-5844-01A TCGA-B8-4146-01B  \\\n",
       "kipan                                            RCC              RCC   \n",
       "subtype                                         kirc             kirc   \n",
       "days_to_death                                    NaN              NaN   \n",
       "vital_status                                   alive            alive   \n",
       "survival                                         lts              lts   \n",
       "age_at_initial_pathologic_diagnosis               61               41   \n",
       "gender                                        female           female   \n",
       "metastasis_info                                  NaN       tumor free   \n",
       "stage                                       stage ii          stage i   \n",
       "cg00000029                                  0.649682         0.824019   \n",
       "\n",
       "                                    TCGA-B8-4153-01B TCGA-B8-4621-01A  \\\n",
       "kipan                                            RCC              RCC   \n",
       "subtype                                         kirc             kirc   \n",
       "days_to_death                                    NaN              NaN   \n",
       "vital_status                                   alive            alive   \n",
       "survival                                         lts              lts   \n",
       "age_at_initial_pathologic_diagnosis               74               63   \n",
       "gender                                          male             male   \n",
       "metastasis_info                           with tumor       tumor free   \n",
       "stage                                      stage iii          stage i   \n",
       "cg00000029                                     0.461         0.381803   \n",
       "\n",
       "                                    TCGA-B8-4622-01A TCGA-B8-5158-01A  \\\n",
       "kipan                                            RCC              RCC   \n",
       "subtype                                         kirc             kirc   \n",
       "days_to_death                                    NaN              NaN   \n",
       "vital_status                                   alive            alive   \n",
       "survival                                         lts              lts   \n",
       "age_at_initial_pathologic_diagnosis               57               56   \n",
       "gender                                          male             male   \n",
       "metastasis_info                           tumor free       tumor free   \n",
       "stage                                       stage iv        stage iii   \n",
       "cg00000029                                  0.670973         0.467914   \n",
       "\n",
       "                                    TCGA-B4-5836-01A TCGA-Y8-A8S1-01A  \n",
       "kipan                                            RCC              RCC  \n",
       "subtype                                         kirc             kirp  \n",
       "days_to_death                                    NaN              NaN  \n",
       "vital_status                                   alive            alive  \n",
       "survival                                         lts              lts  \n",
       "age_at_initial_pathologic_diagnosis               61               61  \n",
       "gender                                        female             male  \n",
       "metastasis_info                                  NaN       tumor free  \n",
       "stage                                        stage i          stage i  \n",
       "cg00000029                                  0.693535         0.581694  \n",
       "\n",
       "[10 rows x 865 columns]"
      ]
     },
     "execution_count": 190,
     "metadata": {},
     "output_type": "execute_result"
    }
   ],
   "source": [
    "df_clin_meth.head(10)"
   ]
  },
  {
   "cell_type": "code",
   "execution_count": 191,
   "id": "878ea058",
   "metadata": {},
   "outputs": [],
   "source": [
    "#df_sorted"
   ]
  },
  {
   "cell_type": "code",
   "execution_count": 192,
   "id": "2f4f6f29",
   "metadata": {},
   "outputs": [],
   "source": [
    "df_clin_meth_temp = df_sorted.drop([\"kipan\", \"subtype\", \"days_to_death\", \"vital_status\", \"survival\", \"age_at_initial_pathologic_diagnosis\", \"gender\"], axis=0)"
   ]
  },
  {
   "cell_type": "code",
   "execution_count": 193,
   "id": "4b8e6743",
   "metadata": {},
   "outputs": [
    {
     "data": {
      "text/html": [
       "<div>\n",
       "<style scoped>\n",
       "    .dataframe tbody tr th:only-of-type {\n",
       "        vertical-align: middle;\n",
       "    }\n",
       "\n",
       "    .dataframe tbody tr th {\n",
       "        vertical-align: top;\n",
       "    }\n",
       "\n",
       "    .dataframe thead th {\n",
       "        text-align: right;\n",
       "    }\n",
       "</style>\n",
       "<table border=\"1\" class=\"dataframe\">\n",
       "  <thead>\n",
       "    <tr style=\"text-align: right;\">\n",
       "      <th></th>\n",
       "      <th>TCGA-CJ-4905-11A</th>\n",
       "      <th>TCGA-A3-3367-11A</th>\n",
       "      <th>TCGA-BQ-5892-11A</th>\n",
       "      <th>TCGA-A3-3370-11A</th>\n",
       "      <th>TCGA-A3-3373-11A</th>\n",
       "      <th>TCGA-BQ-5891-11A</th>\n",
       "      <th>TCGA-A3-3376-11A</th>\n",
       "      <th>TCGA-B0-5121-11A</th>\n",
       "      <th>TCGA-A3-3385-11A</th>\n",
       "      <th>TCGA-BQ-5890-11A</th>\n",
       "      <th>...</th>\n",
       "      <th>TCGA-J7-8537-01A</th>\n",
       "      <th>TCGA-J7-6720-01A</th>\n",
       "      <th>TCGA-IZ-A6M9-01A</th>\n",
       "      <th>TCGA-IZ-A6M8-01A</th>\n",
       "      <th>TCGA-IZ-8196-01A</th>\n",
       "      <th>TCGA-IZ-8195-01A</th>\n",
       "      <th>TCGA-IA-A83W-01A</th>\n",
       "      <th>TCGA-IA-A83V-01A</th>\n",
       "      <th>TCGA-BQ-5877-01A</th>\n",
       "      <th>TCGA-Y8-A8S1-01A</th>\n",
       "    </tr>\n",
       "  </thead>\n",
       "  <tbody>\n",
       "    <tr>\n",
       "      <th>metastasis_info</th>\n",
       "      <td>NaN</td>\n",
       "      <td>NaN</td>\n",
       "      <td>NaN</td>\n",
       "      <td>NaN</td>\n",
       "      <td>NaN</td>\n",
       "      <td>NaN</td>\n",
       "      <td>NaN</td>\n",
       "      <td>NaN</td>\n",
       "      <td>NaN</td>\n",
       "      <td>NaN</td>\n",
       "      <td>...</td>\n",
       "      <td>with tumor</td>\n",
       "      <td>tumor free</td>\n",
       "      <td>tumor free</td>\n",
       "      <td>tumor free</td>\n",
       "      <td>tumor free</td>\n",
       "      <td>tumor free</td>\n",
       "      <td>NaN</td>\n",
       "      <td>NaN</td>\n",
       "      <td>with tumor</td>\n",
       "      <td>tumor free</td>\n",
       "    </tr>\n",
       "    <tr>\n",
       "      <th>stage</th>\n",
       "      <td>NaN</td>\n",
       "      <td>NaN</td>\n",
       "      <td>NaN</td>\n",
       "      <td>NaN</td>\n",
       "      <td>NaN</td>\n",
       "      <td>NaN</td>\n",
       "      <td>NaN</td>\n",
       "      <td>NaN</td>\n",
       "      <td>NaN</td>\n",
       "      <td>NaN</td>\n",
       "      <td>...</td>\n",
       "      <td>stage iii</td>\n",
       "      <td>stage i</td>\n",
       "      <td>stage i</td>\n",
       "      <td>stage i</td>\n",
       "      <td>stage i</td>\n",
       "      <td>stage ii</td>\n",
       "      <td>stage i</td>\n",
       "      <td>stage i</td>\n",
       "      <td>stage iv</td>\n",
       "      <td>stage i</td>\n",
       "    </tr>\n",
       "    <tr>\n",
       "      <th>cg00000029</th>\n",
       "      <td>0.347601</td>\n",
       "      <td>0.378468</td>\n",
       "      <td>0.518723</td>\n",
       "      <td>0.402117</td>\n",
       "      <td>0.441971</td>\n",
       "      <td>0.362334</td>\n",
       "      <td>0.387277</td>\n",
       "      <td>0.404371</td>\n",
       "      <td>0.482538</td>\n",
       "      <td>0.50779</td>\n",
       "      <td>...</td>\n",
       "      <td>0.494306</td>\n",
       "      <td>0.309913</td>\n",
       "      <td>0.434439</td>\n",
       "      <td>0.252716</td>\n",
       "      <td>0.549741</td>\n",
       "      <td>0.865842</td>\n",
       "      <td>0.21544</td>\n",
       "      <td>0.420706</td>\n",
       "      <td>0.807433</td>\n",
       "      <td>0.581694</td>\n",
       "    </tr>\n",
       "    <tr>\n",
       "      <th>cg00000108</th>\n",
       "      <td>NaN</td>\n",
       "      <td>NaN</td>\n",
       "      <td>NaN</td>\n",
       "      <td>NaN</td>\n",
       "      <td>NaN</td>\n",
       "      <td>NaN</td>\n",
       "      <td>NaN</td>\n",
       "      <td>NaN</td>\n",
       "      <td>NaN</td>\n",
       "      <td>NaN</td>\n",
       "      <td>...</td>\n",
       "      <td>NaN</td>\n",
       "      <td>NaN</td>\n",
       "      <td>NaN</td>\n",
       "      <td>NaN</td>\n",
       "      <td>NaN</td>\n",
       "      <td>NaN</td>\n",
       "      <td>NaN</td>\n",
       "      <td>NaN</td>\n",
       "      <td>NaN</td>\n",
       "      <td>NaN</td>\n",
       "    </tr>\n",
       "    <tr>\n",
       "      <th>cg00000109</th>\n",
       "      <td>NaN</td>\n",
       "      <td>NaN</td>\n",
       "      <td>NaN</td>\n",
       "      <td>NaN</td>\n",
       "      <td>NaN</td>\n",
       "      <td>NaN</td>\n",
       "      <td>NaN</td>\n",
       "      <td>NaN</td>\n",
       "      <td>NaN</td>\n",
       "      <td>NaN</td>\n",
       "      <td>...</td>\n",
       "      <td>NaN</td>\n",
       "      <td>NaN</td>\n",
       "      <td>NaN</td>\n",
       "      <td>NaN</td>\n",
       "      <td>NaN</td>\n",
       "      <td>NaN</td>\n",
       "      <td>NaN</td>\n",
       "      <td>NaN</td>\n",
       "      <td>NaN</td>\n",
       "      <td>NaN</td>\n",
       "    </tr>\n",
       "  </tbody>\n",
       "</table>\n",
       "<p>5 rows × 865 columns</p>\n",
       "</div>"
      ],
      "text/plain": [
       "                TCGA-CJ-4905-11A TCGA-A3-3367-11A TCGA-BQ-5892-11A  \\\n",
       "metastasis_info              NaN              NaN              NaN   \n",
       "stage                        NaN              NaN              NaN   \n",
       "cg00000029              0.347601         0.378468         0.518723   \n",
       "cg00000108                   NaN              NaN              NaN   \n",
       "cg00000109                   NaN              NaN              NaN   \n",
       "\n",
       "                TCGA-A3-3370-11A TCGA-A3-3373-11A TCGA-BQ-5891-11A  \\\n",
       "metastasis_info              NaN              NaN              NaN   \n",
       "stage                        NaN              NaN              NaN   \n",
       "cg00000029              0.402117         0.441971         0.362334   \n",
       "cg00000108                   NaN              NaN              NaN   \n",
       "cg00000109                   NaN              NaN              NaN   \n",
       "\n",
       "                TCGA-A3-3376-11A TCGA-B0-5121-11A TCGA-A3-3385-11A  \\\n",
       "metastasis_info              NaN              NaN              NaN   \n",
       "stage                        NaN              NaN              NaN   \n",
       "cg00000029              0.387277         0.404371         0.482538   \n",
       "cg00000108                   NaN              NaN              NaN   \n",
       "cg00000109                   NaN              NaN              NaN   \n",
       "\n",
       "                TCGA-BQ-5890-11A  ... TCGA-J7-8537-01A TCGA-J7-6720-01A  \\\n",
       "metastasis_info              NaN  ...       with tumor       tumor free   \n",
       "stage                        NaN  ...        stage iii          stage i   \n",
       "cg00000029               0.50779  ...         0.494306         0.309913   \n",
       "cg00000108                   NaN  ...              NaN              NaN   \n",
       "cg00000109                   NaN  ...              NaN              NaN   \n",
       "\n",
       "                TCGA-IZ-A6M9-01A TCGA-IZ-A6M8-01A TCGA-IZ-8196-01A  \\\n",
       "metastasis_info       tumor free       tumor free       tumor free   \n",
       "stage                    stage i          stage i          stage i   \n",
       "cg00000029              0.434439         0.252716         0.549741   \n",
       "cg00000108                   NaN              NaN              NaN   \n",
       "cg00000109                   NaN              NaN              NaN   \n",
       "\n",
       "                TCGA-IZ-8195-01A TCGA-IA-A83W-01A TCGA-IA-A83V-01A  \\\n",
       "metastasis_info       tumor free              NaN              NaN   \n",
       "stage                   stage ii          stage i          stage i   \n",
       "cg00000029              0.865842          0.21544         0.420706   \n",
       "cg00000108                   NaN              NaN              NaN   \n",
       "cg00000109                   NaN              NaN              NaN   \n",
       "\n",
       "                TCGA-BQ-5877-01A TCGA-Y8-A8S1-01A  \n",
       "metastasis_info       with tumor       tumor free  \n",
       "stage                   stage iv          stage i  \n",
       "cg00000029              0.807433         0.581694  \n",
       "cg00000108                   NaN              NaN  \n",
       "cg00000109                   NaN              NaN  \n",
       "\n",
       "[5 rows x 865 columns]"
      ]
     },
     "execution_count": 193,
     "metadata": {},
     "output_type": "execute_result"
    }
   ],
   "source": [
    "df_clin_meth_temp.head()"
   ]
  },
  {
   "cell_type": "code",
   "execution_count": 194,
   "id": "20750e62",
   "metadata": {},
   "outputs": [
    {
     "ename": "TypeError",
     "evalue": "cannot perform reduce with flexible type",
     "output_type": "error",
     "traceback": [
      "\u001b[0;31m---------------------------------------------------------------------------\u001b[0m",
      "\u001b[0;31mTypeError\u001b[0m                                 Traceback (most recent call last)",
      "Input \u001b[0;32mIn [194]\u001b[0m, in \u001b[0;36m<cell line: 4>\u001b[0;34m()\u001b[0m\n\u001b[1;32m      3\u001b[0m means_samples \u001b[38;5;241m=\u001b[39m []\n\u001b[1;32m      4\u001b[0m \u001b[38;5;28;01mfor\u001b[39;00m i \u001b[38;5;129;01min\u001b[39;00m \u001b[38;5;28mrange\u001b[39m (\u001b[38;5;241m0\u001b[39m, \u001b[38;5;28mlen\u001b[39m(df_clin_meth_temp\u001b[38;5;241m.\u001b[39miloc[\u001b[38;5;241m1\u001b[39m, :])):\n\u001b[0;32m----> 5\u001b[0m     means_samples\u001b[38;5;241m.\u001b[39mappend(\u001b[43mnp\u001b[49m\u001b[38;5;241;43m.\u001b[39;49m\u001b[43mnanmean\u001b[49m\u001b[43m(\u001b[49m\u001b[43mdf_clin_meth_temp\u001b[49m\u001b[38;5;241;43m.\u001b[39;49m\u001b[43miloc\u001b[49m\u001b[43m[\u001b[49m\u001b[38;5;241;43m0\u001b[39;49m\u001b[43m:\u001b[49m\u001b[43m,\u001b[49m\u001b[43m \u001b[49m\u001b[43mi\u001b[49m\u001b[43m]\u001b[49m\u001b[38;5;241;43m.\u001b[39;49m\u001b[43mtolist\u001b[49m\u001b[43m(\u001b[49m\u001b[43m)\u001b[49m\u001b[43m)\u001b[49m)\n",
      "File \u001b[0;32m<__array_function__ internals>:5\u001b[0m, in \u001b[0;36mnanmean\u001b[0;34m(*args, **kwargs)\u001b[0m\n",
      "File \u001b[0;32m~/opt/anaconda3/lib/python3.9/site-packages/numpy/lib/nanfunctions.py:939\u001b[0m, in \u001b[0;36mnanmean\u001b[0;34m(a, axis, dtype, out, keepdims)\u001b[0m\n\u001b[1;32m    937\u001b[0m arr, mask \u001b[38;5;241m=\u001b[39m _replace_nan(a, \u001b[38;5;241m0\u001b[39m)\n\u001b[1;32m    938\u001b[0m \u001b[38;5;28;01mif\u001b[39;00m mask \u001b[38;5;129;01mis\u001b[39;00m \u001b[38;5;28;01mNone\u001b[39;00m:\n\u001b[0;32m--> 939\u001b[0m     \u001b[38;5;28;01mreturn\u001b[39;00m \u001b[43mnp\u001b[49m\u001b[38;5;241;43m.\u001b[39;49m\u001b[43mmean\u001b[49m\u001b[43m(\u001b[49m\u001b[43marr\u001b[49m\u001b[43m,\u001b[49m\u001b[43m \u001b[49m\u001b[43maxis\u001b[49m\u001b[38;5;241;43m=\u001b[39;49m\u001b[43maxis\u001b[49m\u001b[43m,\u001b[49m\u001b[43m \u001b[49m\u001b[43mdtype\u001b[49m\u001b[38;5;241;43m=\u001b[39;49m\u001b[43mdtype\u001b[49m\u001b[43m,\u001b[49m\u001b[43m \u001b[49m\u001b[43mout\u001b[49m\u001b[38;5;241;43m=\u001b[39;49m\u001b[43mout\u001b[49m\u001b[43m,\u001b[49m\u001b[43m \u001b[49m\u001b[43mkeepdims\u001b[49m\u001b[38;5;241;43m=\u001b[39;49m\u001b[43mkeepdims\u001b[49m\u001b[43m)\u001b[49m\n\u001b[1;32m    941\u001b[0m \u001b[38;5;28;01mif\u001b[39;00m dtype \u001b[38;5;129;01mis\u001b[39;00m \u001b[38;5;129;01mnot\u001b[39;00m \u001b[38;5;28;01mNone\u001b[39;00m:\n\u001b[1;32m    942\u001b[0m     dtype \u001b[38;5;241m=\u001b[39m np\u001b[38;5;241m.\u001b[39mdtype(dtype)\n",
      "File \u001b[0;32m<__array_function__ internals>:5\u001b[0m, in \u001b[0;36mmean\u001b[0;34m(*args, **kwargs)\u001b[0m\n",
      "File \u001b[0;32m~/opt/anaconda3/lib/python3.9/site-packages/numpy/core/fromnumeric.py:3440\u001b[0m, in \u001b[0;36mmean\u001b[0;34m(a, axis, dtype, out, keepdims, where)\u001b[0m\n\u001b[1;32m   3437\u001b[0m     \u001b[38;5;28;01melse\u001b[39;00m:\n\u001b[1;32m   3438\u001b[0m         \u001b[38;5;28;01mreturn\u001b[39;00m mean(axis\u001b[38;5;241m=\u001b[39maxis, dtype\u001b[38;5;241m=\u001b[39mdtype, out\u001b[38;5;241m=\u001b[39mout, \u001b[38;5;241m*\u001b[39m\u001b[38;5;241m*\u001b[39mkwargs)\n\u001b[0;32m-> 3440\u001b[0m \u001b[38;5;28;01mreturn\u001b[39;00m \u001b[43m_methods\u001b[49m\u001b[38;5;241;43m.\u001b[39;49m\u001b[43m_mean\u001b[49m\u001b[43m(\u001b[49m\u001b[43ma\u001b[49m\u001b[43m,\u001b[49m\u001b[43m \u001b[49m\u001b[43maxis\u001b[49m\u001b[38;5;241;43m=\u001b[39;49m\u001b[43maxis\u001b[49m\u001b[43m,\u001b[49m\u001b[43m \u001b[49m\u001b[43mdtype\u001b[49m\u001b[38;5;241;43m=\u001b[39;49m\u001b[43mdtype\u001b[49m\u001b[43m,\u001b[49m\n\u001b[1;32m   3441\u001b[0m \u001b[43m                      \u001b[49m\u001b[43mout\u001b[49m\u001b[38;5;241;43m=\u001b[39;49m\u001b[43mout\u001b[49m\u001b[43m,\u001b[49m\u001b[43m \u001b[49m\u001b[38;5;241;43m*\u001b[39;49m\u001b[38;5;241;43m*\u001b[39;49m\u001b[43mkwargs\u001b[49m\u001b[43m)\u001b[49m\n",
      "File \u001b[0;32m~/opt/anaconda3/lib/python3.9/site-packages/numpy/core/_methods.py:179\u001b[0m, in \u001b[0;36m_mean\u001b[0;34m(a, axis, dtype, out, keepdims, where)\u001b[0m\n\u001b[1;32m    176\u001b[0m         dtype \u001b[38;5;241m=\u001b[39m mu\u001b[38;5;241m.\u001b[39mdtype(\u001b[38;5;124m'\u001b[39m\u001b[38;5;124mf4\u001b[39m\u001b[38;5;124m'\u001b[39m)\n\u001b[1;32m    177\u001b[0m         is_float16_result \u001b[38;5;241m=\u001b[39m \u001b[38;5;28;01mTrue\u001b[39;00m\n\u001b[0;32m--> 179\u001b[0m ret \u001b[38;5;241m=\u001b[39m \u001b[43mumr_sum\u001b[49m\u001b[43m(\u001b[49m\u001b[43marr\u001b[49m\u001b[43m,\u001b[49m\u001b[43m \u001b[49m\u001b[43maxis\u001b[49m\u001b[43m,\u001b[49m\u001b[43m \u001b[49m\u001b[43mdtype\u001b[49m\u001b[43m,\u001b[49m\u001b[43m \u001b[49m\u001b[43mout\u001b[49m\u001b[43m,\u001b[49m\u001b[43m \u001b[49m\u001b[43mkeepdims\u001b[49m\u001b[43m,\u001b[49m\u001b[43m \u001b[49m\u001b[43mwhere\u001b[49m\u001b[38;5;241;43m=\u001b[39;49m\u001b[43mwhere\u001b[49m\u001b[43m)\u001b[49m\n\u001b[1;32m    180\u001b[0m \u001b[38;5;28;01mif\u001b[39;00m \u001b[38;5;28misinstance\u001b[39m(ret, mu\u001b[38;5;241m.\u001b[39mndarray):\n\u001b[1;32m    181\u001b[0m     ret \u001b[38;5;241m=\u001b[39m um\u001b[38;5;241m.\u001b[39mtrue_divide(\n\u001b[1;32m    182\u001b[0m             ret, rcount, out\u001b[38;5;241m=\u001b[39mret, casting\u001b[38;5;241m=\u001b[39m\u001b[38;5;124m'\u001b[39m\u001b[38;5;124munsafe\u001b[39m\u001b[38;5;124m'\u001b[39m, subok\u001b[38;5;241m=\u001b[39m\u001b[38;5;28;01mFalse\u001b[39;00m)\n",
      "\u001b[0;31mTypeError\u001b[0m: cannot perform reduce with flexible type"
     ]
    }
   ],
   "source": [
    "from statistics import mean\n",
    "\n",
    "means_samples = []\n",
    "for i in range (0, len(df_clin_meth_temp.iloc[1, :])):\n",
    "    means_samples.append(np.nanmean(df_clin_meth_temp.iloc[0:, i].tolist()))\n",
    "#means_normal[0:100]"
   ]
  },
  {
   "cell_type": "code",
   "execution_count": null,
   "id": "d7b3aee1",
   "metadata": {},
   "outputs": [],
   "source": [
    "#means_samples"
   ]
  },
  {
   "cell_type": "code",
   "execution_count": null,
   "id": "87e301a5",
   "metadata": {},
   "outputs": [],
   "source": [
    "df_boxplot[\"Mean Samples\"] = means_samples"
   ]
  },
  {
   "cell_type": "code",
   "execution_count": null,
   "id": "3030536d",
   "metadata": {},
   "outputs": [],
   "source": [
    "df_boxplot[\"subtype\"] = df_sorted.loc[\"subtype\",:].tolist()"
   ]
  },
  {
   "cell_type": "code",
   "execution_count": null,
   "id": "20228b22",
   "metadata": {},
   "outputs": [],
   "source": [
    "df_boxplot"
   ]
  },
  {
   "cell_type": "code",
   "execution_count": null,
   "id": "3596587a",
   "metadata": {},
   "outputs": [],
   "source": [
    "import plotly.express as px\n",
    "df = df_boxplot\n",
    "fig = px.box(df, x=\"subtype\", y='Mean Samples', color=\"subtype\", color_discrete_sequence=[\"#64F0F0\", \"#7E2E1F\",\"#FFA026\",\"#FF0000\"], points=\"all\", title=\"Mean Methlyation of Samples Per Subtype\", width=880, height=700)\n",
    "fig.update_yaxes(showgrid=True, gridwidth=1, gridcolor='Grey')\n",
    "fig.update_xaxes(showline=True, linewidth=2, linecolor='black', mirror=True)\n",
    "fig.update_yaxes(showline=True, linewidth=2, linecolor='black', mirror=True)\n",
    "fig.update_layout(plot_bgcolor=\"white\")\n",
    "fig.update_yaxes(range=[0.3, 0.6])\n",
    "fig.update_layout(font_size=24)\n",
    "# fig.update_layout(\n",
    "#     title={\n",
    "#         'text': \"Plot Title\",\n",
    "#         'y':0.9,\n",
    "#         'x':0.5,\n",
    "#         'xanchor': 'center',\n",
    "#         'yanchor': 'top'})\n",
    "fig.show()"
   ]
  },
  {
   "cell_type": "code",
   "execution_count": null,
   "id": "e1c32129",
   "metadata": {},
   "outputs": [],
   "source": [
    "means_kich = []\n",
    "for i in range (7, len(df_sorted)):\n",
    "    means_kich.append(mean(df_sorted.iloc[i, 205:271].tolist()))"
   ]
  },
  {
   "cell_type": "code",
   "execution_count": null,
   "id": "8c638f23",
   "metadata": {},
   "outputs": [],
   "source": [
    "means_kirc = []\n",
    "for i in range (7, len(df_sorted)):\n",
    "    means_kirc.append(mean(df_sorted.iloc[i, 271:590].tolist()))"
   ]
  },
  {
   "cell_type": "code",
   "execution_count": null,
   "id": "fff73d50",
   "metadata": {},
   "outputs": [],
   "source": [
    "z = df_sorted.loc['cg01288184'].tolist()[590:]"
   ]
  },
  {
   "cell_type": "code",
   "execution_count": null,
   "id": "77f9efed",
   "metadata": {},
   "outputs": [],
   "source": [
    "x = df_clin_meth.loc['cg07093324'].tolist()[:205]"
   ]
  },
  {
   "cell_type": "code",
   "execution_count": null,
   "id": "b9cf6ca5",
   "metadata": {},
   "outputs": [],
   "source": [
    "mean_kich = np.nanmean(df_boxplot.iloc[205:271, 1].tolist())\n",
    "mean_kich"
   ]
  },
  {
   "cell_type": "code",
   "execution_count": null,
   "id": "dfa619f4",
   "metadata": {},
   "outputs": [],
   "source": [
    "std_kich = np.nanstd(df_boxplot.iloc[205:271, 1].tolist())\n",
    "std_kich"
   ]
  },
  {
   "cell_type": "code",
   "execution_count": null,
   "id": "b5d196ed",
   "metadata": {},
   "outputs": [],
   "source": [
    "var_kich = np.nanvar(df_boxplot.iloc[205:271, 1].tolist())\n",
    "var_kich"
   ]
  },
  {
   "cell_type": "code",
   "execution_count": null,
   "id": "0fe3bc4c",
   "metadata": {},
   "outputs": [],
   "source": [
    "mean_kirc = np.nanmean(df_boxplot.iloc[271:590, 1].tolist())\n",
    "mean_kirc"
   ]
  },
  {
   "cell_type": "code",
   "execution_count": null,
   "id": "40407358",
   "metadata": {},
   "outputs": [],
   "source": [
    "std_kirc = np.nanstd(df_boxplot.iloc[271:590, 1].tolist())\n",
    "std_kirc"
   ]
  },
  {
   "cell_type": "code",
   "execution_count": null,
   "id": "74163783",
   "metadata": {},
   "outputs": [],
   "source": [
    "var_kirc = np.nanvar(df_boxplot.iloc[271:590, 1].tolist())\n",
    "var_kirc"
   ]
  },
  {
   "cell_type": "code",
   "execution_count": null,
   "id": "cb51d936",
   "metadata": {},
   "outputs": [],
   "source": [
    "mean_kirp = np.nanmean(df_boxplot.iloc[590:, 1].tolist())\n",
    "mean_kirp"
   ]
  },
  {
   "cell_type": "code",
   "execution_count": null,
   "id": "9b68fdb5",
   "metadata": {},
   "outputs": [],
   "source": [
    "std_kirp = np.nanstd(df_boxplot.iloc[590:, 1].tolist())\n",
    "std_kirp"
   ]
  },
  {
   "cell_type": "code",
   "execution_count": null,
   "id": "b827a55f",
   "metadata": {},
   "outputs": [],
   "source": [
    "var_kirp = np.nanvar(df_boxplot.iloc[590:, 1].tolist())\n",
    "var_kirp"
   ]
  },
  {
   "cell_type": "code",
   "execution_count": null,
   "id": "dcbf5046",
   "metadata": {},
   "outputs": [],
   "source": [
    "mean_normal = np.nanmean(df_boxplot.iloc[:205, 1].tolist())\n",
    "mean_normal"
   ]
  },
  {
   "cell_type": "code",
   "execution_count": null,
   "id": "a4eaaa0a",
   "metadata": {},
   "outputs": [],
   "source": [
    "std_normal = np.nanstd(df_boxplot.iloc[:205, 1].tolist())\n",
    "std_normal"
   ]
  },
  {
   "cell_type": "code",
   "execution_count": null,
   "id": "2d481a02",
   "metadata": {},
   "outputs": [],
   "source": [
    "var_normal = np.nanvar(df_boxplot.iloc[:205, 1].tolist())\n",
    "var_normal"
   ]
  },
  {
   "cell_type": "markdown",
   "id": "fc9e011b",
   "metadata": {},
   "source": [
    "## Other Data Table Stuff"
   ]
  },
  {
   "cell_type": "code",
   "execution_count": null,
   "id": "a1ebe811",
   "metadata": {},
   "outputs": [],
   "source": [
    "subtype_list = df_clin_meth.loc[\"subtype\"].tolist()[205:]\n",
    "survival_list = df_clin_meth.loc[\"survival\"].tolist()[205:]"
   ]
  },
  {
   "cell_type": "code",
   "execution_count": null,
   "id": "b9c203ee",
   "metadata": {},
   "outputs": [],
   "source": [
    "gender_list = df_clin_meth.loc[\"gender\"].tolist()[205:]"
   ]
  },
  {
   "cell_type": "code",
   "execution_count": null,
   "id": "44621b35",
   "metadata": {},
   "outputs": [],
   "source": [
    "#survival_list"
   ]
  },
  {
   "cell_type": "code",
   "execution_count": null,
   "id": "982fd01e",
   "metadata": {},
   "outputs": [],
   "source": [
    "df_clin_meth.head(10)"
   ]
  },
  {
   "cell_type": "code",
   "execution_count": null,
   "id": "97b0d8dc",
   "metadata": {},
   "outputs": [],
   "source": [
    "len(subtype_list)"
   ]
  },
  {
   "cell_type": "code",
   "execution_count": null,
   "id": "09e9f710",
   "metadata": {},
   "outputs": [],
   "source": [
    "len(survival_list)"
   ]
  },
  {
   "cell_type": "code",
   "execution_count": null,
   "id": "f81590e9",
   "metadata": {},
   "outputs": [],
   "source": [
    "kirp = 0\n",
    "kich = 0\n",
    "kirc = 0\n",
    "kirp_s = 0\n",
    "kirc_s = 0\n",
    "kich_s = 0\n",
    "kirp_ns = 0\n",
    "kirc_ns = 0\n",
    "kich_ns = 0\n",
    "\n",
    "kirp_f = 0\n",
    "kich_f = 0\n",
    "kirc_f = 0\n",
    "kirp_m = 0\n",
    "kich_m = 0\n",
    "kirc_m = 0\n",
    "for i in range(0, len(subtype_list)):\n",
    "    if subtype_list[i] == \"kirp\":\n",
    "        kirp = kirp + 1\n",
    "        if(survival_list[i] == \"lts\"):\n",
    "            kirp_s  = kirp_s + 1\n",
    "        elif(survival_list[i] == \"non-lts\"):\n",
    "            kirp_ns = kirp_ns + 1\n",
    "        if(gender_list[i] == \"male\"):\n",
    "            kirp_m  = kirp_m + 1\n",
    "        elif(gender_list[i] == \"female\"):\n",
    "            kirp_f  = kirp_f + 1\n",
    "    elif subtype_list[i] == \"kirc\":\n",
    "        kirc = kirc + 1\n",
    "        if(survival_list[i] == \"lts\"):\n",
    "            kirc_s  = kirc_s + 1\n",
    "        elif(survival_list[i] == \"non-lts\"):\n",
    "            kirc_ns = kirc_ns + 1 \n",
    "        if(gender_list[i] == \"male\"):\n",
    "            kirc_m  = kirc_m + 1\n",
    "        elif(gender_list[i] == \"female\"):\n",
    "            kirc_f  = kirc_f + 1\n",
    "    else:\n",
    "        kich = kich + 1\n",
    "        if(survival_list[i] == \"lts\"):\n",
    "            kich_s  = kich_s + 1\n",
    "        elif(survival_list[i] == \"non-lts\"):\n",
    "            kich_ns = kich_ns + 1\n",
    "        if(gender_list[i] == \"male\"):\n",
    "            kich_m  = kich_m + 1\n",
    "        elif(gender_list[i] == \"female\"):\n",
    "            kich_f  = kich_f + 1"
   ]
  },
  {
   "cell_type": "code",
   "execution_count": null,
   "id": "a6a5d432",
   "metadata": {},
   "outputs": [],
   "source": [
    "incidence_kirp = kirp/len(subtype_list)\n",
    "incidence_kirp"
   ]
  },
  {
   "cell_type": "code",
   "execution_count": null,
   "id": "8aafcf6d",
   "metadata": {},
   "outputs": [],
   "source": [
    "incidence_kirc = kirc/len(subtype_list)\n",
    "incidence_kirc"
   ]
  },
  {
   "cell_type": "code",
   "execution_count": null,
   "id": "dc6cd15e",
   "metadata": {},
   "outputs": [],
   "source": [
    "incidence_kich = kich/len(subtype_list)\n",
    "incidence_kich"
   ]
  },
  {
   "cell_type": "code",
   "execution_count": null,
   "id": "63574910",
   "metadata": {},
   "outputs": [],
   "source": [
    "survival_kirp = kirp_s/len(subtype_list)\n",
    "survival_kirp"
   ]
  },
  {
   "cell_type": "code",
   "execution_count": null,
   "id": "547ed5cd",
   "metadata": {},
   "outputs": [],
   "source": [
    "survival_kirc = kirc_s/len(subtype_list)\n",
    "survival_kirc"
   ]
  },
  {
   "cell_type": "code",
   "execution_count": null,
   "id": "bf73ad6e",
   "metadata": {},
   "outputs": [],
   "source": [
    "survival_kich = kich_s/len(subtype_list)\n",
    "survival_kich"
   ]
  },
  {
   "cell_type": "code",
   "execution_count": null,
   "id": "7f9617d7",
   "metadata": {},
   "outputs": [],
   "source": [
    "kirp_f"
   ]
  },
  {
   "cell_type": "code",
   "execution_count": null,
   "id": "b916b8aa",
   "metadata": {},
   "outputs": [],
   "source": [
    "kich_f"
   ]
  },
  {
   "cell_type": "code",
   "execution_count": null,
   "id": "521917dc",
   "metadata": {},
   "outputs": [],
   "source": [
    "kirc_f"
   ]
  },
  {
   "cell_type": "code",
   "execution_count": null,
   "id": "2a1a878d",
   "metadata": {},
   "outputs": [],
   "source": [
    "kirp_m"
   ]
  },
  {
   "cell_type": "code",
   "execution_count": null,
   "id": "0b13a9ef",
   "metadata": {},
   "outputs": [],
   "source": [
    "kich_m"
   ]
  },
  {
   "cell_type": "code",
   "execution_count": null,
   "id": "cdcef973",
   "metadata": {},
   "outputs": [],
   "source": [
    "kirc_m"
   ]
  },
  {
   "cell_type": "code",
   "execution_count": null,
   "id": "545ceb8e",
   "metadata": {},
   "outputs": [],
   "source": [
    "kirp_s"
   ]
  },
  {
   "cell_type": "code",
   "execution_count": null,
   "id": "fea6e2f8",
   "metadata": {},
   "outputs": [],
   "source": [
    "kirp_ns"
   ]
  },
  {
   "cell_type": "code",
   "execution_count": null,
   "id": "6cad2a10",
   "metadata": {},
   "outputs": [],
   "source": [
    "kirc_s"
   ]
  },
  {
   "cell_type": "code",
   "execution_count": null,
   "id": "a8c11acd",
   "metadata": {},
   "outputs": [],
   "source": [
    "kirc_ns"
   ]
  },
  {
   "cell_type": "code",
   "execution_count": null,
   "id": "a7c417bf",
   "metadata": {},
   "outputs": [],
   "source": [
    "kich_s"
   ]
  },
  {
   "cell_type": "code",
   "execution_count": null,
   "id": "680cbeb9",
   "metadata": {},
   "outputs": [],
   "source": [
    "kich_ns"
   ]
  },
  {
   "cell_type": "code",
   "execution_count": null,
   "id": "803f2ebe",
   "metadata": {},
   "outputs": [],
   "source": []
  },
  {
   "cell_type": "markdown",
   "id": "7e69e268",
   "metadata": {},
   "source": [
    "## Code for Metastasis vs Subtype:"
   ]
  },
  {
   "cell_type": "code",
   "execution_count": null,
   "id": "4c526a6e",
   "metadata": {},
   "outputs": [],
   "source": [
    "kirp = 0\n",
    "kich = 0\n",
    "kirc = 0\n",
    "kirp_meta = 0\n",
    "kirc_meta = 0\n",
    "kich_meta = 0\n",
    "kirp_nmeta = 0\n",
    "kirc_nmeta = 0\n",
    "kich_nmeta = 0\n",
    "\n",
    "for i in range(0, len(subtype_list)):\n",
    "    if subtype_list[i] == \"kirp\":\n",
    "        kirp = kirp + 1\n",
    "        if(metastasis_list[i] == \"with tumor\"):\n",
    "            kirp_meta  = kirp_meta + 1\n",
    "        elif(metastasis_list[i] == \"tumor free\"):\n",
    "            kirp_nmeta = kirp_nmeta + 1\n",
    "    elif subtype_list[i] == \"kirc\":\n",
    "        kirc = kirc + 1\n",
    "        if(metastasis_list[i] == \"with tumor\"):\n",
    "            kirc_meta  = kirc_meta + 1\n",
    "        elif(metastasis_list[i] == \"tumor free\"):\n",
    "            kirc_nmeta = kirc_nmeta + 1 \n",
    "    else:\n",
    "        kich = kich + 1\n",
    "        if(metastasis_list[i] == \"with tumor\"):\n",
    "            kich_meta  = kich_meta + 1\n",
    "        elif(metastasis_list[i] == \"tumor free\"):\n",
    "            kich_nmeta = kich_nmeta + 1"
   ]
  },
  {
   "cell_type": "code",
   "execution_count": null,
   "id": "20d88d7c",
   "metadata": {},
   "outputs": [],
   "source": [
    "kirp_meta "
   ]
  },
  {
   "cell_type": "code",
   "execution_count": null,
   "id": "ff06d43c",
   "metadata": {},
   "outputs": [],
   "source": [
    "kirc_meta"
   ]
  },
  {
   "cell_type": "code",
   "execution_count": null,
   "id": "798db05f",
   "metadata": {},
   "outputs": [],
   "source": [
    "kich_meta"
   ]
  },
  {
   "cell_type": "code",
   "execution_count": null,
   "id": "cbd31e8a",
   "metadata": {},
   "outputs": [],
   "source": [
    "kirp_nmeta"
   ]
  },
  {
   "cell_type": "code",
   "execution_count": null,
   "id": "ea8cce02",
   "metadata": {},
   "outputs": [],
   "source": [
    "kirc_nmeta"
   ]
  },
  {
   "cell_type": "code",
   "execution_count": null,
   "id": "42ea154b",
   "metadata": {},
   "outputs": [],
   "source": [
    "kich_nmeta"
   ]
  },
  {
   "cell_type": "code",
   "execution_count": null,
   "id": "d61ecd61",
   "metadata": {},
   "outputs": [],
   "source": []
  },
  {
   "cell_type": "code",
   "execution_count": null,
   "id": "a0b2723e",
   "metadata": {},
   "outputs": [],
   "source": []
  },
  {
   "cell_type": "code",
   "execution_count": null,
   "id": "103823fa",
   "metadata": {},
   "outputs": [],
   "source": [
    "df_clin_meth.iloc[7, 205:].isna().sum()"
   ]
  },
  {
   "cell_type": "code",
   "execution_count": null,
   "id": "cb0e1531",
   "metadata": {},
   "outputs": [],
   "source": [
    "len(df_clin_meth.iloc[1,:])"
   ]
  },
  {
   "cell_type": "code",
   "execution_count": null,
   "id": "74024a8e",
   "metadata": {},
   "outputs": [],
   "source": [
    "865-205"
   ]
  },
  {
   "cell_type": "code",
   "execution_count": null,
   "id": "53138b35",
   "metadata": {},
   "outputs": [],
   "source": [
    "660-99"
   ]
  },
  {
   "cell_type": "code",
   "execution_count": null,
   "id": "32406d1b",
   "metadata": {},
   "outputs": [],
   "source": [
    "metastasis_list = df_clin_meth.loc[\"metastasis_info\"].tolist()[205:]"
   ]
  },
  {
   "cell_type": "code",
   "execution_count": null,
   "id": "6b135595",
   "metadata": {},
   "outputs": [],
   "source": [
    "raw_clin_kipan.loc[:, 'patient.follow_ups.follow_up.person_neoplasm_cancer_status']"
   ]
  },
  {
   "cell_type": "code",
   "execution_count": null,
   "id": "2cd8713f",
   "metadata": {},
   "outputs": [],
   "source": []
  },
  {
   "cell_type": "code",
   "execution_count": null,
   "id": "41d7aedf",
   "metadata": {},
   "outputs": [],
   "source": [
    "raw_clin_kipan['patient.new_tumor_events.new_tumor_event_after_initial_treatment'].isna().sum()"
   ]
  },
  {
   "cell_type": "code",
   "execution_count": null,
   "id": "5583987e",
   "metadata": {},
   "outputs": [],
   "source": [
    "raw_clin_kipan['patient.primary_therapy_outcome_success'].isna().sum()"
   ]
  },
  {
   "cell_type": "code",
   "execution_count": null,
   "id": "d74df6b3",
   "metadata": {},
   "outputs": [],
   "source": [
    "raw_clin_kipan['patient.follow_ups.follow_up.person_neoplasm_cancer_status'].isna().sum()"
   ]
  },
  {
   "cell_type": "code",
   "execution_count": null,
   "id": "125f4a63",
   "metadata": {},
   "outputs": [],
   "source": [
    "raw_clin_kipan['patient.new_tumor_events.new_tumor_event_after_initial_treatment'].isna().sum()"
   ]
  },
  {
   "cell_type": "code",
   "execution_count": null,
   "id": "c29b32c8",
   "metadata": {},
   "outputs": [],
   "source": [
    "df_clin_meth.head(10)"
   ]
  },
  {
   "cell_type": "code",
   "execution_count": null,
   "id": "bb5535a8",
   "metadata": {},
   "outputs": [],
   "source": [
    "df_tumors = df_clin_meth.iloc[:, 205:]\n",
    "df_tumors.head(10)"
   ]
  },
  {
   "cell_type": "code",
   "execution_count": null,
   "id": "118b2245",
   "metadata": {},
   "outputs": [],
   "source": [
    "df_tumors.sort_values(\"subtype\", axis=1)"
   ]
  },
  {
   "cell_type": "markdown",
   "id": "c8542f04",
   "metadata": {},
   "source": [
    "# Logistic Regression Normal or Tumor?"
   ]
  },
  {
   "cell_type": "code",
   "execution_count": null,
   "id": "03f3c131",
   "metadata": {},
   "outputs": [],
   "source": []
  }
 ],
 "metadata": {
  "kernelspec": {
   "display_name": "Python 3 (ipykernel)",
   "language": "python",
   "name": "python3"
  },
  "language_info": {
   "codemirror_mode": {
    "name": "ipython",
    "version": 3
   },
   "file_extension": ".py",
   "mimetype": "text/x-python",
   "name": "python",
   "nbconvert_exporter": "python",
   "pygments_lexer": "ipython3",
   "version": "3.9.12"
  }
 },
 "nbformat": 4,
 "nbformat_minor": 5
}
