{
 "cells": [
  {
   "cell_type": "markdown",
   "id": "1d7d7c4f",
   "metadata": {},
   "source": [
    "# Analysis of TCGA DNA Methylation Data and Clinical Data"
   ]
  },
  {
   "cell_type": "markdown",
   "id": "9bdab0a6",
   "metadata": {},
   "source": [
    "## Data Processing"
   ]
  },
  {
   "cell_type": "code",
   "execution_count": 3,
   "id": "6cac5edd",
   "metadata": {},
   "outputs": [
    {
     "name": "stdout",
     "output_type": "stream",
     "text": [
      "/Users/tanishagupta/GRIPS\r\n"
     ]
    }
   ],
   "source": [
    "import numpy as np # linear algebra\n",
    "import pandas as pd # data processing, CSV file I/O (e.g. pd.read_csv)\n",
    "import os\n",
    "from sklearn.preprocessing import LabelEncoder\n",
    "!pwd"
   ]
  },
  {
   "cell_type": "code",
   "execution_count": 4,
   "id": "60f8b57f",
   "metadata": {},
   "outputs": [],
   "source": [
    "#pulls raw KIPAN data from local drive and strips away unecessary information\n",
    "raw_clin_kipan = pd.read_csv('KIPAN.clin.merged.txt', sep='\\t', header=None ).T\n",
    "\n",
    "raw_clin_kipan.columns = raw_clin_kipan.iloc[0]\n",
    "raw_clin_kipan = raw_clin_kipan[1:]\n",
    "#raw_clin_kipan"
   ]
  },
  {
   "cell_type": "code",
   "execution_count": 5,
   "id": "f0dd826d",
   "metadata": {},
   "outputs": [],
   "source": [
    "#finds columns with \"barcode\" in the name. This is essential for finding the correct IDs to match with the methylation data. \n",
    "selected_columns = raw_clin_kipan.columns.to_numpy()[raw_clin_kipan.columns.str.contains('barcode')]\n",
    "#selected_columns = [ i for i in selected_columns if 'drug_barcode' not in i]\n",
    "selected_columns = [ i for i in selected_columns if '-' not in i]\n",
    "#selected_columns"
   ]
  },
  {
   "cell_type": "code",
   "execution_count": 6,
   "id": "97675291",
   "metadata": {},
   "outputs": [],
   "source": [
    "#selects only the data with the barcode titled columns\n",
    "raw_clin_kipan_barcode = raw_clin_kipan.loc[:,selected_columns]\n",
    "#raw_clin_kipan_barcode"
   ]
  },
  {
   "cell_type": "code",
   "execution_count": 7,
   "id": "e4befc1f",
   "metadata": {},
   "outputs": [],
   "source": [
    "#sets the new column names\n",
    "raw_clin_kipan_barcode.columns = [s.split('.')[-1] for s in selected_columns]\n",
    "#raw_clin_kipan_barcode"
   ]
  },
  {
   "cell_type": "code",
   "execution_count": 8,
   "id": "328bc2bd",
   "metadata": {},
   "outputs": [
    {
     "data": {
      "text/html": [
       "<div>\n",
       "<style scoped>\n",
       "    .dataframe tbody tr th:only-of-type {\n",
       "        vertical-align: middle;\n",
       "    }\n",
       "\n",
       "    .dataframe tbody tr th {\n",
       "        vertical-align: top;\n",
       "    }\n",
       "\n",
       "    .dataframe thead th {\n",
       "        text-align: right;\n",
       "    }\n",
       "</style>\n",
       "<table border=\"1\" class=\"dataframe\">\n",
       "  <thead>\n",
       "    <tr style=\"text-align: right;\">\n",
       "      <th></th>\n",
       "      <th>bcr_patient_barcode</th>\n",
       "      <th>bcr_sample_barcode</th>\n",
       "      <th>bcr_aliquot_barcode</th>\n",
       "      <th>bcr_analyte_barcode</th>\n",
       "      <th>bcr_portion_barcode</th>\n",
       "      <th>bcr_slide_barcode</th>\n",
       "    </tr>\n",
       "  </thead>\n",
       "  <tbody>\n",
       "    <tr>\n",
       "      <th>1</th>\n",
       "      <td>tcga-kl-8328</td>\n",
       "      <td>tcga-kl-8328-01a</td>\n",
       "      <td>tcga-kl-8328-01a-11d-2308-01</td>\n",
       "      <td>tcga-kl-8328-01a-11d</td>\n",
       "      <td>tcga-kl-8328-01a-11</td>\n",
       "      <td>tcga-kl-8328-01a-01-bs1</td>\n",
       "    </tr>\n",
       "    <tr>\n",
       "      <th>2</th>\n",
       "      <td>tcga-kl-8339</td>\n",
       "      <td>tcga-kl-8339-01a</td>\n",
       "      <td>tcga-kl-8339-01a-11d-2308-01</td>\n",
       "      <td>tcga-kl-8339-01a-11d</td>\n",
       "      <td>tcga-kl-8339-01a-11</td>\n",
       "      <td>tcga-kl-8339-01a-01-bs1</td>\n",
       "    </tr>\n",
       "    <tr>\n",
       "      <th>3</th>\n",
       "      <td>tcga-km-8439</td>\n",
       "      <td>tcga-km-8439-01a</td>\n",
       "      <td>tcga-km-8439-01a-11d-2308-01</td>\n",
       "      <td>tcga-km-8439-01a-11d</td>\n",
       "      <td>tcga-km-8439-01a-11</td>\n",
       "      <td>tcga-km-8439-01a-01-ts1</td>\n",
       "    </tr>\n",
       "    <tr>\n",
       "      <th>4</th>\n",
       "      <td>tcga-km-8441</td>\n",
       "      <td>tcga-km-8441-01a</td>\n",
       "      <td>tcga-km-8441-01a-11d-2308-01</td>\n",
       "      <td>tcga-km-8441-01a-11d</td>\n",
       "      <td>tcga-km-8441-01a-11</td>\n",
       "      <td>tcga-km-8441-01a-01-ts1</td>\n",
       "    </tr>\n",
       "    <tr>\n",
       "      <th>5</th>\n",
       "      <td>tcga-km-8442</td>\n",
       "      <td>tcga-km-8442-01a</td>\n",
       "      <td>tcga-km-8442-01a-11d-2308-01</td>\n",
       "      <td>tcga-km-8442-01a-11d</td>\n",
       "      <td>tcga-km-8442-01a-11</td>\n",
       "      <td>tcga-km-8442-01a-01-ts1</td>\n",
       "    </tr>\n",
       "    <tr>\n",
       "      <th>...</th>\n",
       "      <td>...</td>\n",
       "      <td>...</td>\n",
       "      <td>...</td>\n",
       "      <td>...</td>\n",
       "      <td>...</td>\n",
       "      <td>...</td>\n",
       "    </tr>\n",
       "    <tr>\n",
       "      <th>937</th>\n",
       "      <td>tcga-y8-a896</td>\n",
       "      <td>tcga-y8-a896-01a</td>\n",
       "      <td>tcga-y8-a896-01a-11d-a35y-01</td>\n",
       "      <td>tcga-y8-a896-01a-11d</td>\n",
       "      <td>tcga-y8-a896-01a-11</td>\n",
       "      <td>tcga-y8-a896-01a-01-ts1</td>\n",
       "    </tr>\n",
       "    <tr>\n",
       "      <th>938</th>\n",
       "      <td>tcga-y8-a897</td>\n",
       "      <td>tcga-y8-a897-01a</td>\n",
       "      <td>tcga-y8-a897-01a-11d-a35y-01</td>\n",
       "      <td>tcga-y8-a897-01a-11d</td>\n",
       "      <td>tcga-y8-a897-01a-11</td>\n",
       "      <td>tcga-y8-a897-01a-01-ts1</td>\n",
       "    </tr>\n",
       "    <tr>\n",
       "      <th>939</th>\n",
       "      <td>tcga-y8-a8ry</td>\n",
       "      <td>tcga-y8-a8ry-01a</td>\n",
       "      <td>tcga-y8-a8ry-01a-11d-a36w-01</td>\n",
       "      <td>tcga-y8-a8ry-01a-11d</td>\n",
       "      <td>tcga-y8-a8ry-01a-11</td>\n",
       "      <td>tcga-y8-a8ry-01a-01-ts1</td>\n",
       "    </tr>\n",
       "    <tr>\n",
       "      <th>940</th>\n",
       "      <td>tcga-y8-a8s0</td>\n",
       "      <td>tcga-y8-a8s0-01a</td>\n",
       "      <td>tcga-y8-a8s0-01a-11d-a36w-01</td>\n",
       "      <td>tcga-y8-a8s0-01a-11d</td>\n",
       "      <td>tcga-y8-a8s0-01a-11</td>\n",
       "      <td>tcga-y8-a8s0-01a-01-ts1</td>\n",
       "    </tr>\n",
       "    <tr>\n",
       "      <th>941</th>\n",
       "      <td>tcga-y8-a8s1</td>\n",
       "      <td>tcga-y8-a8s1-01a</td>\n",
       "      <td>tcga-y8-a8s1-01a-11d-a36w-01</td>\n",
       "      <td>tcga-y8-a8s1-01a-11d</td>\n",
       "      <td>tcga-y8-a8s1-01a-11</td>\n",
       "      <td>tcga-y8-a8s1-01a-01-ts1</td>\n",
       "    </tr>\n",
       "  </tbody>\n",
       "</table>\n",
       "<p>941 rows × 6 columns</p>\n",
       "</div>"
      ],
      "text/plain": [
       "    bcr_patient_barcode bcr_sample_barcode           bcr_aliquot_barcode  \\\n",
       "1          tcga-kl-8328   tcga-kl-8328-01a  tcga-kl-8328-01a-11d-2308-01   \n",
       "2          tcga-kl-8339   tcga-kl-8339-01a  tcga-kl-8339-01a-11d-2308-01   \n",
       "3          tcga-km-8439   tcga-km-8439-01a  tcga-km-8439-01a-11d-2308-01   \n",
       "4          tcga-km-8441   tcga-km-8441-01a  tcga-km-8441-01a-11d-2308-01   \n",
       "5          tcga-km-8442   tcga-km-8442-01a  tcga-km-8442-01a-11d-2308-01   \n",
       "..                  ...                ...                           ...   \n",
       "937        tcga-y8-a896   tcga-y8-a896-01a  tcga-y8-a896-01a-11d-a35y-01   \n",
       "938        tcga-y8-a897   tcga-y8-a897-01a  tcga-y8-a897-01a-11d-a35y-01   \n",
       "939        tcga-y8-a8ry   tcga-y8-a8ry-01a  tcga-y8-a8ry-01a-11d-a36w-01   \n",
       "940        tcga-y8-a8s0   tcga-y8-a8s0-01a  tcga-y8-a8s0-01a-11d-a36w-01   \n",
       "941        tcga-y8-a8s1   tcga-y8-a8s1-01a  tcga-y8-a8s1-01a-11d-a36w-01   \n",
       "\n",
       "      bcr_analyte_barcode  bcr_portion_barcode        bcr_slide_barcode  \n",
       "1    tcga-kl-8328-01a-11d  tcga-kl-8328-01a-11  tcga-kl-8328-01a-01-bs1  \n",
       "2    tcga-kl-8339-01a-11d  tcga-kl-8339-01a-11  tcga-kl-8339-01a-01-bs1  \n",
       "3    tcga-km-8439-01a-11d  tcga-km-8439-01a-11  tcga-km-8439-01a-01-ts1  \n",
       "4    tcga-km-8441-01a-11d  tcga-km-8441-01a-11  tcga-km-8441-01a-01-ts1  \n",
       "5    tcga-km-8442-01a-11d  tcga-km-8442-01a-11  tcga-km-8442-01a-01-ts1  \n",
       "..                    ...                  ...                      ...  \n",
       "937  tcga-y8-a896-01a-11d  tcga-y8-a896-01a-11  tcga-y8-a896-01a-01-ts1  \n",
       "938  tcga-y8-a897-01a-11d  tcga-y8-a897-01a-11  tcga-y8-a897-01a-01-ts1  \n",
       "939  tcga-y8-a8ry-01a-11d  tcga-y8-a8ry-01a-11  tcga-y8-a8ry-01a-01-ts1  \n",
       "940  tcga-y8-a8s0-01a-11d  tcga-y8-a8s0-01a-11  tcga-y8-a8s0-01a-01-ts1  \n",
       "941  tcga-y8-a8s1-01a-11d  tcga-y8-a8s1-01a-11  tcga-y8-a8s1-01a-01-ts1  \n",
       "\n",
       "[941 rows x 6 columns]"
      ]
     },
     "execution_count": 8,
     "metadata": {},
     "output_type": "execute_result"
    }
   ],
   "source": [
    "#drop the barcode columns that are not correct\n",
    "raw_clin_kipan_barcode.drop(['bcr_drug_barcode','bcr_radiation_barcode',\n",
    "                             'biospecimen_barcode_bottom','bcr_followup_barcode',\n",
    "                             'shipment_portion_bcr_aliquot_barcode','bcr_omf_barcode'], \n",
    "                            axis=1, errors='ignore')"
   ]
  },
  {
   "cell_type": "code",
   "execution_count": 9,
   "id": "29a650de",
   "metadata": {},
   "outputs": [],
   "source": [
    "# vital_status: The survival state of the person registered on the protocol.\n",
    "# days_to_death: Number of days between the date used for index and the date from a person's date of death represented as a calculated number of days.\n",
    "\n",
    "tcga_id_kipan='patient.samples.sample.portions.portion.analytes.analyte.aliquots.aliquot.bcr_aliquot_barcode'\n",
    "\n",
    "clin_kipan = raw_clin_kipan.loc[:,[tcga_id_kipan, 'admin.disease_code',\n",
    "'patient.days_to_death','patient.vital_status', \n",
    "'patient.age_at_initial_pathologic_diagnosis', 'patient.gender', 'patient.follow_ups.follow_up.person_neoplasm_cancer_status', \n",
    "                                  'patient.stage_event.pathologic_stage']]\n",
    "                                #, 'patient.karnofsky_performance_score']]\n",
    "\n",
    "#clin_kipan"
   ]
  },
  {
   "cell_type": "code",
   "execution_count": 10,
   "id": "1b3969c1",
   "metadata": {},
   "outputs": [],
   "source": [
    "#set appropriate index for the data table. Sort indexes\n",
    "clin_kipan = clin_kipan.set_index(tcga_id_kipan)\n",
    "clin_kipan.index = clin_kipan.index.str.upper()\n",
    "clin_kipan.sort_index(inplace=True)"
   ]
  },
  {
   "cell_type": "code",
   "execution_count": 11,
   "id": "05d5380d",
   "metadata": {},
   "outputs": [],
   "source": [
    "#clin_kipan.columns"
   ]
  },
  {
   "cell_type": "code",
   "execution_count": 12,
   "id": "6befaa7d",
   "metadata": {},
   "outputs": [],
   "source": [
    "clin_kipan = clin_kipan[clin_kipan.index.notnull()]\n",
    "\n",
    "clin_kipan.index = ['-'.join( s.split('-')[:4] ) for s in clin_kipan.index.tolist() ]\n",
    "#clin_kipan.index"
   ]
  },
  {
   "cell_type": "code",
   "execution_count": 13,
   "id": "57220771",
   "metadata": {},
   "outputs": [],
   "source": [
    "#rename appropriate columns\n",
    "clin_kipan.rename(columns = {'patient.days_to_death':'days_to_death', 'patient.vital_status':'vital_status', 'patient.age_at_initial_pathologic_diagnosis':'age_at_initial_pathologic_diagnosis', 'patient.gender':'gender', 'admin.disease_code':'subtype', 'patient.follow_ups.follow_up.person_neoplasm_cancer_status':'metastasis_info', 'patient.stage_event.pathologic_stage':'stage'}, inplace = True)"
   ]
  },
  {
   "cell_type": "code",
   "execution_count": 14,
   "id": "6251b498",
   "metadata": {},
   "outputs": [],
   "source": [
    "#convert days to death values to floats\n",
    "vals = clin_kipan['days_to_death'].astype(np.float32)\n",
    "\n",
    "#create lts and non-lts variable for survival\n",
    "#current long term survival is two years\n",
    "clin_kipan['survival'] = 'non-lts'\n",
    "clin_kipan.loc[pd.to_numeric(clin_kipan.days_to_death).ge(5*365) | clin_kipan.days_to_death.isna(), 'survival'] = 'lts'\n",
    "#clin_kipan"
   ]
  },
  {
   "cell_type": "code",
   "execution_count": 15,
   "id": "05a64f46",
   "metadata": {},
   "outputs": [],
   "source": [
    "#read in raw METHYLATION data\n",
    "meth_kipan = pd.read_csv('KIPAN.hm450.tsv', delim_whitespace=True, header=[0] ).set_index('Composite_Element_REF').drop(['Gene_Symbol','Chromosome','Genomic_Coordinate'], axis=1 ).T"
   ]
  },
  {
   "cell_type": "code",
   "execution_count": 16,
   "id": "46b1db84",
   "metadata": {},
   "outputs": [
    {
     "data": {
      "text/html": [
       "<div>\n",
       "<style scoped>\n",
       "    .dataframe tbody tr th:only-of-type {\n",
       "        vertical-align: middle;\n",
       "    }\n",
       "\n",
       "    .dataframe tbody tr th {\n",
       "        vertical-align: top;\n",
       "    }\n",
       "\n",
       "    .dataframe thead th {\n",
       "        text-align: right;\n",
       "    }\n",
       "</style>\n",
       "<table border=\"1\" class=\"dataframe\">\n",
       "  <thead>\n",
       "    <tr style=\"text-align: right;\">\n",
       "      <th>Composite_Element_REF</th>\n",
       "      <th>cg00000029</th>\n",
       "      <th>cg00000108</th>\n",
       "      <th>cg00000109</th>\n",
       "      <th>cg00000165</th>\n",
       "      <th>cg00000236</th>\n",
       "      <th>cg00000289</th>\n",
       "      <th>cg00000292</th>\n",
       "      <th>cg00000321</th>\n",
       "      <th>cg00000363</th>\n",
       "      <th>cg00000622</th>\n",
       "      <th>...</th>\n",
       "      <th>cg09560636</th>\n",
       "      <th>cg09560650</th>\n",
       "      <th>cg09560658</th>\n",
       "      <th>cg09560723</th>\n",
       "      <th>cg09560763</th>\n",
       "      <th>cg09560811</th>\n",
       "      <th>cg09560911</th>\n",
       "      <th>cg09560912</th>\n",
       "      <th>cg09560953</th>\n",
       "      <th>cg09560979</th>\n",
       "    </tr>\n",
       "  </thead>\n",
       "  <tbody>\n",
       "    <tr>\n",
       "      <th>TCGA-2K-A9WE-01A-11D-A383-05</th>\n",
       "      <td>0.461441</td>\n",
       "      <td>NaN</td>\n",
       "      <td>NaN</td>\n",
       "      <td>0.143910</td>\n",
       "      <td>0.847165</td>\n",
       "      <td>0.737362</td>\n",
       "      <td>0.716795</td>\n",
       "      <td>0.351877</td>\n",
       "      <td>0.248987</td>\n",
       "      <td>0.012136</td>\n",
       "      <td>...</td>\n",
       "      <td>NaN</td>\n",
       "      <td>NaN</td>\n",
       "      <td>0.929777</td>\n",
       "      <td>NaN</td>\n",
       "      <td>0.821841</td>\n",
       "      <td>0.927202</td>\n",
       "      <td>0.018890</td>\n",
       "      <td>NaN</td>\n",
       "      <td>0.844136</td>\n",
       "      <td>NaN</td>\n",
       "    </tr>\n",
       "    <tr>\n",
       "      <th>TCGA-2Z-A9J1-01A-11D-A383-05</th>\n",
       "      <td>0.595894</td>\n",
       "      <td>NaN</td>\n",
       "      <td>NaN</td>\n",
       "      <td>0.080724</td>\n",
       "      <td>0.867306</td>\n",
       "      <td>0.706806</td>\n",
       "      <td>0.217862</td>\n",
       "      <td>0.169408</td>\n",
       "      <td>0.173115</td>\n",
       "      <td>0.010890</td>\n",
       "      <td>...</td>\n",
       "      <td>NaN</td>\n",
       "      <td>NaN</td>\n",
       "      <td>0.684141</td>\n",
       "      <td>NaN</td>\n",
       "      <td>0.287309</td>\n",
       "      <td>0.932596</td>\n",
       "      <td>0.018205</td>\n",
       "      <td>NaN</td>\n",
       "      <td>0.253988</td>\n",
       "      <td>NaN</td>\n",
       "    </tr>\n",
       "    <tr>\n",
       "      <th>TCGA-2Z-A9J2-01A-11D-A383-05</th>\n",
       "      <td>0.481305</td>\n",
       "      <td>NaN</td>\n",
       "      <td>NaN</td>\n",
       "      <td>0.437447</td>\n",
       "      <td>0.898927</td>\n",
       "      <td>0.758109</td>\n",
       "      <td>0.868605</td>\n",
       "      <td>0.577745</td>\n",
       "      <td>0.567242</td>\n",
       "      <td>0.012268</td>\n",
       "      <td>...</td>\n",
       "      <td>NaN</td>\n",
       "      <td>NaN</td>\n",
       "      <td>0.934065</td>\n",
       "      <td>NaN</td>\n",
       "      <td>0.393975</td>\n",
       "      <td>0.949127</td>\n",
       "      <td>0.027293</td>\n",
       "      <td>NaN</td>\n",
       "      <td>0.898587</td>\n",
       "      <td>NaN</td>\n",
       "    </tr>\n",
       "    <tr>\n",
       "      <th>TCGA-2Z-A9J3-01A-12D-A383-05</th>\n",
       "      <td>0.553850</td>\n",
       "      <td>NaN</td>\n",
       "      <td>NaN</td>\n",
       "      <td>0.064233</td>\n",
       "      <td>0.917291</td>\n",
       "      <td>0.675538</td>\n",
       "      <td>0.543087</td>\n",
       "      <td>0.850444</td>\n",
       "      <td>0.470811</td>\n",
       "      <td>0.012568</td>\n",
       "      <td>...</td>\n",
       "      <td>NaN</td>\n",
       "      <td>NaN</td>\n",
       "      <td>0.939414</td>\n",
       "      <td>NaN</td>\n",
       "      <td>0.198644</td>\n",
       "      <td>0.944607</td>\n",
       "      <td>0.019058</td>\n",
       "      <td>NaN</td>\n",
       "      <td>0.648340</td>\n",
       "      <td>NaN</td>\n",
       "    </tr>\n",
       "    <tr>\n",
       "      <th>TCGA-2Z-A9J5-01A-21D-A383-05</th>\n",
       "      <td>0.184349</td>\n",
       "      <td>NaN</td>\n",
       "      <td>NaN</td>\n",
       "      <td>0.126119</td>\n",
       "      <td>0.928018</td>\n",
       "      <td>0.677846</td>\n",
       "      <td>0.850474</td>\n",
       "      <td>0.444735</td>\n",
       "      <td>0.204529</td>\n",
       "      <td>0.012233</td>\n",
       "      <td>...</td>\n",
       "      <td>NaN</td>\n",
       "      <td>NaN</td>\n",
       "      <td>0.926087</td>\n",
       "      <td>NaN</td>\n",
       "      <td>0.589858</td>\n",
       "      <td>0.931093</td>\n",
       "      <td>0.029658</td>\n",
       "      <td>NaN</td>\n",
       "      <td>0.722906</td>\n",
       "      <td>NaN</td>\n",
       "    </tr>\n",
       "  </tbody>\n",
       "</table>\n",
       "<p>5 rows × 183201 columns</p>\n",
       "</div>"
      ],
      "text/plain": [
       "Composite_Element_REF         cg00000029  cg00000108  cg00000109  cg00000165  \\\n",
       "TCGA-2K-A9WE-01A-11D-A383-05    0.461441         NaN         NaN    0.143910   \n",
       "TCGA-2Z-A9J1-01A-11D-A383-05    0.595894         NaN         NaN    0.080724   \n",
       "TCGA-2Z-A9J2-01A-11D-A383-05    0.481305         NaN         NaN    0.437447   \n",
       "TCGA-2Z-A9J3-01A-12D-A383-05    0.553850         NaN         NaN    0.064233   \n",
       "TCGA-2Z-A9J5-01A-21D-A383-05    0.184349         NaN         NaN    0.126119   \n",
       "\n",
       "Composite_Element_REF         cg00000236  cg00000289  cg00000292  cg00000321  \\\n",
       "TCGA-2K-A9WE-01A-11D-A383-05    0.847165    0.737362    0.716795    0.351877   \n",
       "TCGA-2Z-A9J1-01A-11D-A383-05    0.867306    0.706806    0.217862    0.169408   \n",
       "TCGA-2Z-A9J2-01A-11D-A383-05    0.898927    0.758109    0.868605    0.577745   \n",
       "TCGA-2Z-A9J3-01A-12D-A383-05    0.917291    0.675538    0.543087    0.850444   \n",
       "TCGA-2Z-A9J5-01A-21D-A383-05    0.928018    0.677846    0.850474    0.444735   \n",
       "\n",
       "Composite_Element_REF         cg00000363  cg00000622  ...  cg09560636  \\\n",
       "TCGA-2K-A9WE-01A-11D-A383-05    0.248987    0.012136  ...         NaN   \n",
       "TCGA-2Z-A9J1-01A-11D-A383-05    0.173115    0.010890  ...         NaN   \n",
       "TCGA-2Z-A9J2-01A-11D-A383-05    0.567242    0.012268  ...         NaN   \n",
       "TCGA-2Z-A9J3-01A-12D-A383-05    0.470811    0.012568  ...         NaN   \n",
       "TCGA-2Z-A9J5-01A-21D-A383-05    0.204529    0.012233  ...         NaN   \n",
       "\n",
       "Composite_Element_REF         cg09560650  cg09560658  cg09560723  cg09560763  \\\n",
       "TCGA-2K-A9WE-01A-11D-A383-05         NaN    0.929777         NaN    0.821841   \n",
       "TCGA-2Z-A9J1-01A-11D-A383-05         NaN    0.684141         NaN    0.287309   \n",
       "TCGA-2Z-A9J2-01A-11D-A383-05         NaN    0.934065         NaN    0.393975   \n",
       "TCGA-2Z-A9J3-01A-12D-A383-05         NaN    0.939414         NaN    0.198644   \n",
       "TCGA-2Z-A9J5-01A-21D-A383-05         NaN    0.926087         NaN    0.589858   \n",
       "\n",
       "Composite_Element_REF         cg09560811  cg09560911  cg09560912  cg09560953  \\\n",
       "TCGA-2K-A9WE-01A-11D-A383-05    0.927202    0.018890         NaN    0.844136   \n",
       "TCGA-2Z-A9J1-01A-11D-A383-05    0.932596    0.018205         NaN    0.253988   \n",
       "TCGA-2Z-A9J2-01A-11D-A383-05    0.949127    0.027293         NaN    0.898587   \n",
       "TCGA-2Z-A9J3-01A-12D-A383-05    0.944607    0.019058         NaN    0.648340   \n",
       "TCGA-2Z-A9J5-01A-21D-A383-05    0.931093    0.029658         NaN    0.722906   \n",
       "\n",
       "Composite_Element_REF         cg09560979  \n",
       "TCGA-2K-A9WE-01A-11D-A383-05         NaN  \n",
       "TCGA-2Z-A9J1-01A-11D-A383-05         NaN  \n",
       "TCGA-2Z-A9J2-01A-11D-A383-05         NaN  \n",
       "TCGA-2Z-A9J3-01A-12D-A383-05         NaN  \n",
       "TCGA-2Z-A9J5-01A-21D-A383-05         NaN  \n",
       "\n",
       "[5 rows x 183201 columns]"
      ]
     },
     "execution_count": 16,
     "metadata": {},
     "output_type": "execute_result"
    }
   ],
   "source": [
    "#sort methylation data by index\n",
    "meth_kipan.sort_index().head()"
   ]
  },
  {
   "cell_type": "markdown",
   "id": "417f53d2",
   "metadata": {},
   "source": [
    "## Determining overlap between methylation and clinical data "
   ]
  },
  {
   "cell_type": "code",
   "execution_count": 17,
   "id": "4c79430f",
   "metadata": {},
   "outputs": [
    {
     "data": {
      "text/plain": [
       "867"
      ]
     },
     "execution_count": 17,
     "metadata": {},
     "output_type": "execute_result"
    }
   ],
   "source": [
    "len( set(meth_kipan.index) )"
   ]
  },
  {
   "cell_type": "code",
   "execution_count": 18,
   "id": "71741583",
   "metadata": {},
   "outputs": [
    {
     "data": {
      "text/plain": [
       "867"
      ]
     },
     "execution_count": 18,
     "metadata": {},
     "output_type": "execute_result"
    }
   ],
   "source": [
    "len ( set( [ '-'.join( i.split('-')[:4] ) for i in meth_kipan.index ] ) )"
   ]
  },
  {
   "cell_type": "code",
   "execution_count": 19,
   "id": "32a78d69",
   "metadata": {},
   "outputs": [],
   "source": [
    "meth_kipan.index = [ '-'.join( i.split('-')[:4] ) for i in meth_kipan.index ]\n",
    "meth_kipan.sort_index(inplace=True)\n",
    "#meth_kipan"
   ]
  },
  {
   "cell_type": "code",
   "execution_count": 20,
   "id": "b2e376e6",
   "metadata": {},
   "outputs": [
    {
     "data": {
      "text/plain": [
       "660"
      ]
     },
     "execution_count": 20,
     "metadata": {},
     "output_type": "execute_result"
    }
   ],
   "source": [
    "len( set( clin_kipan.index ) & set( meth_kipan.index ) )"
   ]
  },
  {
   "cell_type": "code",
   "execution_count": 21,
   "id": "8e5ce484",
   "metadata": {},
   "outputs": [
    {
     "data": {
      "text/plain": [
       "281"
      ]
     },
     "execution_count": 21,
     "metadata": {},
     "output_type": "execute_result"
    }
   ],
   "source": [
    "len( set( clin_kipan.index ) - set( meth_kipan.index ) )"
   ]
  },
  {
   "cell_type": "code",
   "execution_count": 22,
   "id": "5d2ccacc",
   "metadata": {},
   "outputs": [
    {
     "data": {
      "text/plain": [
       "207"
      ]
     },
     "execution_count": 22,
     "metadata": {},
     "output_type": "execute_result"
    }
   ],
   "source": [
    "len( set( meth_kipan.index ) - set( clin_kipan.index ) )"
   ]
  },
  {
   "cell_type": "code",
   "execution_count": 23,
   "id": "975b8031",
   "metadata": {},
   "outputs": [],
   "source": [
    "#set( meth_kipan.index ) - set( clin_kipan.index )"
   ]
  },
  {
   "cell_type": "code",
   "execution_count": 24,
   "id": "6a427bf8",
   "metadata": {},
   "outputs": [
    {
     "data": {
      "text/plain": [
       "Counter({'01A': 656, '11A': 205, '01B': 4, '05A': 2})"
      ]
     },
     "execution_count": 24,
     "metadata": {},
     "output_type": "execute_result"
    }
   ],
   "source": [
    "#determine the number of type of TCGA ID\n",
    "from collections import Counter\n",
    "\n",
    "Counter( [i.split('-')[3] for i in meth_kipan.index] )"
   ]
  },
  {
   "cell_type": "code",
   "execution_count": 25,
   "id": "c1514c8d",
   "metadata": {},
   "outputs": [
    {
     "data": {
      "text/plain": [
       "Counter({'01A': 656, '01B': 4})"
      ]
     },
     "execution_count": 25,
     "metadata": {},
     "output_type": "execute_result"
    }
   ],
   "source": [
    "Counter( [i.split('-')[3] for i in np.array( set( clin_kipan.index ) & set( meth_kipan.index ) ).tolist()])"
   ]
  },
  {
   "cell_type": "code",
   "execution_count": 26,
   "id": "4de2aed3",
   "metadata": {},
   "outputs": [],
   "source": [
    "#drop these two because they're not matched anywhere\n",
    "meth_kipan.drop( ['TCGA-DV-A4W0-05A','TCGA-UZ-A9PS-05A'], axis=0, inplace=True, errors = 'ignore')\n",
    "#meth_kipan"
   ]
  },
  {
   "cell_type": "code",
   "execution_count": 27,
   "id": "f0f67ed4",
   "metadata": {},
   "outputs": [],
   "source": [
    "#create a df for normal\n",
    "clin_normal = pd.DataFrame( index = meth_kipan.index[meth_kipan.index.str.contains('11A')], columns = clin_kipan.columns )\n",
    "#clin_normal"
   ]
  },
  {
   "cell_type": "code",
   "execution_count": 28,
   "id": "3a34c680",
   "metadata": {},
   "outputs": [],
   "source": [
    "#set subtype to normal\n",
    "clin_normal['subtype'] = 'Normal'\n",
    "#clin_normal"
   ]
  },
  {
   "cell_type": "code",
   "execution_count": 29,
   "id": "39a718cb",
   "metadata": {},
   "outputs": [],
   "source": [
    "#set kipan values to RCC for all clin_kipan data\n",
    "clin_kipan['kipan'] = 'RCC'\n",
    "#clin_kipan"
   ]
  },
  {
   "cell_type": "code",
   "execution_count": 30,
   "id": "ff9c0e71",
   "metadata": {},
   "outputs": [],
   "source": [
    "clin_normal['kipan'] = 'Normal'\n",
    "clin_normal['survival'] = 'Normal'\n",
    "#clin_normal"
   ]
  },
  {
   "cell_type": "code",
   "execution_count": 31,
   "id": "6eced781",
   "metadata": {},
   "outputs": [],
   "source": [
    "#create a df with all normal and tumor values for clinical data\n",
    "clin_all = pd.concat( [clin_normal, clin_kipan], axis=0 )\n",
    "clin_all.sort_index( inplace = True )"
   ]
  },
  {
   "cell_type": "code",
   "execution_count": 32,
   "id": "362118f9",
   "metadata": {},
   "outputs": [],
   "source": [
    "#clin_all['kipan']"
   ]
  },
  {
   "cell_type": "code",
   "execution_count": 33,
   "id": "13a1affa",
   "metadata": {},
   "outputs": [],
   "source": [
    "#rename the columns\n",
    "clin_all = clin_all[['kipan','subtype', 'days_to_death', 'vital_status','survival',\n",
    "       'age_at_initial_pathologic_diagnosis', 'gender', 'metastasis_info', 'stage']]\n",
    "#clin_all"
   ]
  },
  {
   "cell_type": "markdown",
   "id": "07c43d97",
   "metadata": {},
   "source": [
    "## Merging of Two Datasets: clinical and methylation"
   ]
  },
  {
   "cell_type": "code",
   "execution_count": 34,
   "id": "0ab873f5",
   "metadata": {},
   "outputs": [],
   "source": [
    "#final merged df\n",
    "df_clin_meth = pd.concat([clin_all, meth_kipan], axis='columns', join='inner').sort_values(['kipan'], axis=0)\n",
    "#df_clin_meth"
   ]
  },
  {
   "cell_type": "code",
   "execution_count": 35,
   "id": "1de58ba4",
   "metadata": {},
   "outputs": [
    {
     "data": {
      "text/plain": [
       "Counter({'Normal': 205, 'kirp': 275, 'kirc': 319, 'kich': 66})"
      ]
     },
     "execution_count": 35,
     "metadata": {},
     "output_type": "execute_result"
    }
   ],
   "source": [
    "#determine number of each subtype, very useful for future calcs\n",
    "Counter( df_clin_meth['subtype'] )"
   ]
  },
  {
   "cell_type": "code",
   "execution_count": 36,
   "id": "7ca5d1b5",
   "metadata": {},
   "outputs": [],
   "source": [
    "#transpose merged df for ease of use\n",
    "df_clin_meth = df_clin_meth.T"
   ]
  },
  {
   "cell_type": "code",
   "execution_count": 37,
   "id": "36beddf1",
   "metadata": {},
   "outputs": [],
   "source": [
    "#df_clin_meth.head(10)"
   ]
  },
  {
   "cell_type": "markdown",
   "id": "8478b5e4",
   "metadata": {},
   "source": [
    "# Data Table Creation!"
   ]
  },
  {
   "cell_type": "code",
   "execution_count": 38,
   "id": "da051f83",
   "metadata": {},
   "outputs": [],
   "source": [
    "df_clin_kich = df_clin_meth.iloc[:, 205:]"
   ]
  },
  {
   "cell_type": "code",
   "execution_count": 39,
   "id": "40912705",
   "metadata": {},
   "outputs": [],
   "source": [
    "df_clin_kich = df_clin_kich.sort_values(['subtype'], axis=1)"
   ]
  },
  {
   "cell_type": "code",
   "execution_count": 40,
   "id": "6c8fd43a",
   "metadata": {},
   "outputs": [],
   "source": [
    "df_clin_kich = df_clin_kich.iloc[:, 0:66]"
   ]
  },
  {
   "cell_type": "code",
   "execution_count": 41,
   "id": "42884644",
   "metadata": {},
   "outputs": [],
   "source": [
    "df_clin_kirc = df_clin_meth.iloc[:, 205:]"
   ]
  },
  {
   "cell_type": "code",
   "execution_count": 42,
   "id": "9107f7bf",
   "metadata": {},
   "outputs": [],
   "source": [
    "df_clin_kirc = df_clin_kirc.sort_values(['subtype'], axis=1)"
   ]
  },
  {
   "cell_type": "code",
   "execution_count": 43,
   "id": "dfd7564d",
   "metadata": {},
   "outputs": [],
   "source": [
    "df_clin_kirc = df_clin_kirc.iloc[:, 66:385]"
   ]
  },
  {
   "cell_type": "code",
   "execution_count": 44,
   "id": "d5b05371",
   "metadata": {},
   "outputs": [],
   "source": [
    "df_clin_kirp = df_clin_meth.iloc[:, 205:]"
   ]
  },
  {
   "cell_type": "code",
   "execution_count": 45,
   "id": "a2b1f5d5",
   "metadata": {},
   "outputs": [],
   "source": [
    "df_clin_kirp = df_clin_kirp.sort_values(['subtype'], axis=1)"
   ]
  },
  {
   "cell_type": "code",
   "execution_count": 46,
   "id": "2b3f0107",
   "metadata": {},
   "outputs": [],
   "source": [
    "df_clin_kirp = df_clin_kirp.iloc[:, 385:]"
   ]
  },
  {
   "cell_type": "markdown",
   "id": "c49b4053",
   "metadata": {},
   "source": [
    "# Subtying Stat Analysis:"
   ]
  },
  {
   "cell_type": "code",
   "execution_count": 47,
   "id": "7ca5f091",
   "metadata": {},
   "outputs": [],
   "source": [
    "df_stat_temp = pd.DataFrame()"
   ]
  },
  {
   "cell_type": "code",
   "execution_count": 48,
   "id": "92907f4f",
   "metadata": {},
   "outputs": [],
   "source": [
    "df_stat_temp['ID'] = df_clin_meth.index.tolist()[9:]"
   ]
  },
  {
   "cell_type": "code",
   "execution_count": 49,
   "id": "84effa53",
   "metadata": {},
   "outputs": [],
   "source": [
    "df_sorted = df_clin_meth.sort_values(\"subtype\", axis=1)"
   ]
  },
  {
   "cell_type": "code",
   "execution_count": 52,
   "id": "7f0c8503",
   "metadata": {},
   "outputs": [],
   "source": [
    "from statistics import mean\n",
    "means_kich = []\n",
    "for i in range (9, len(df_sorted)):\n",
    "    means_kich.append(mean(df_sorted.iloc[i, 205:271].tolist()))"
   ]
  },
  {
   "cell_type": "code",
   "execution_count": 53,
   "id": "da5c7153",
   "metadata": {},
   "outputs": [],
   "source": [
    "means_kirc = []\n",
    "for i in range (9, len(df_sorted)):\n",
    "    means_kirc.append(mean(df_sorted.iloc[i, 271:590].tolist()))"
   ]
  },
  {
   "cell_type": "code",
   "execution_count": 54,
   "id": "59d03200",
   "metadata": {},
   "outputs": [],
   "source": [
    "means_kirp = []\n",
    "for i in range (9, len(df_sorted)):\n",
    "    means_kirp.append(mean(df_sorted.iloc[i, 590:len(df_sorted)].tolist()))"
   ]
  },
  {
   "cell_type": "code",
   "execution_count": 55,
   "id": "fa0df7b3",
   "metadata": {},
   "outputs": [],
   "source": [
    "df_stat_temp[\"KICH Means\"] = means_kich"
   ]
  },
  {
   "cell_type": "code",
   "execution_count": 56,
   "id": "fc8ede5e",
   "metadata": {},
   "outputs": [],
   "source": [
    "df_stat_temp[\"KIRC Means\"] = means_kirc"
   ]
  },
  {
   "cell_type": "code",
   "execution_count": 57,
   "id": "f3a9e04f",
   "metadata": {},
   "outputs": [],
   "source": [
    "df_stat_temp[\"KIRP Means\"] = means_kirp"
   ]
  },
  {
   "cell_type": "code",
   "execution_count": 58,
   "id": "a15ec68b",
   "metadata": {},
   "outputs": [
    {
     "ename": "NameError",
     "evalue": "name 'df_stat' is not defined",
     "output_type": "error",
     "traceback": [
      "\u001b[0;31m---------------------------------------------------------------------------\u001b[0m",
      "\u001b[0;31mNameError\u001b[0m                                 Traceback (most recent call last)",
      "Input \u001b[0;32mIn [58]\u001b[0m, in \u001b[0;36m<cell line: 2>\u001b[0;34m()\u001b[0m\n\u001b[1;32m      1\u001b[0m diff_kich_kirc \u001b[38;5;241m=\u001b[39m []\n\u001b[0;32m----> 2\u001b[0m \u001b[38;5;28;01mfor\u001b[39;00m i \u001b[38;5;129;01min\u001b[39;00m \u001b[38;5;28mrange\u001b[39m (\u001b[38;5;241m0\u001b[39m, \u001b[38;5;28mlen\u001b[39m(\u001b[43mdf_stat\u001b[49m)):\n\u001b[1;32m      3\u001b[0m     diff_kich_kirc\u001b[38;5;241m.\u001b[39mappend(means_kich[i] \u001b[38;5;241m-\u001b[39m means_kirc[i])\n",
      "\u001b[0;31mNameError\u001b[0m: name 'df_stat' is not defined"
     ]
    }
   ],
   "source": [
    "diff_kich_kirc = []\n",
    "for i in range (0, len(df_stat_temp)):\n",
    "    diff_kich_kirc.append(means_kich[i] - means_kirc[i])"
   ]
  },
  {
   "cell_type": "code",
   "execution_count": null,
   "id": "577c103e",
   "metadata": {},
   "outputs": [],
   "source": [
    "diff_kirc_kirp = []\n",
    "for i in range (0, len(df_stat_temp)):\n",
    "    diff_kirc_kirp.append(means_kirc[i] - means_kirp[i])"
   ]
  },
  {
   "cell_type": "code",
   "execution_count": null,
   "id": "3f9bf67d",
   "metadata": {},
   "outputs": [],
   "source": [
    "diff_kirp_kich = []\n",
    "for i in range (0, len(df_stat_temp)):\n",
    "    diff_kirp_kich.append(means_kirp[i] - means_kich[i])"
   ]
  },
  {
   "cell_type": "code",
   "execution_count": null,
   "id": "aae3a179",
   "metadata": {},
   "outputs": [],
   "source": [
    "df_stat_temp[\"CH - RC\"] = diff_kich_kirc"
   ]
  },
  {
   "cell_type": "code",
   "execution_count": null,
   "id": "ab49aa7c",
   "metadata": {},
   "outputs": [],
   "source": [
    "df_stat_temp[\"RC - RP\"] = diff_kirc_kirp"
   ]
  },
  {
   "cell_type": "code",
   "execution_count": null,
   "id": "04da52c3",
   "metadata": {},
   "outputs": [],
   "source": [
    "df_stat_temp[\"RP - CH\"] = diff_kirp_kich"
   ]
  },
  {
   "cell_type": "code",
   "execution_count": null,
   "id": "1a14b45c",
   "metadata": {},
   "outputs": [],
   "source": [
    "df_stat_temp.sort_values(\"CH - RC\", axis=0).head(10)"
   ]
  },
  {
   "cell_type": "code",
   "execution_count": null,
   "id": "bcbc0856",
   "metadata": {},
   "outputs": [],
   "source": [
    "df_temp = df_stat_temp.sort_values(\"CH - RC\", axis=0).head(183201-20000)"
   ]
  },
  {
   "cell_type": "code",
   "execution_count": null,
   "id": "8cb06570",
   "metadata": {},
   "outputs": [],
   "source": [
    "df_temp = df_temp.tail(20000)"
   ]
  },
  {
   "cell_type": "code",
   "execution_count": null,
   "id": "37c47476",
   "metadata": {},
   "outputs": [],
   "source": [
    "df_temp = df_temp.head(2000)"
   ]
  },
  {
   "cell_type": "code",
   "execution_count": null,
   "id": "bca6ff16",
   "metadata": {},
   "outputs": [],
   "source": [
    "df_temp = df_temp.tail(400)"
   ]
  },
  {
   "cell_type": "code",
   "execution_count": null,
   "id": "d6f13967",
   "metadata": {},
   "outputs": [],
   "source": [
    "df_temp = df_temp.head(200)"
   ]
  },
  {
   "cell_type": "code",
   "execution_count": null,
   "id": "a4207d7b",
   "metadata": {},
   "outputs": [],
   "source": [
    "df_temp = df_temp.head(100)"
   ]
  },
  {
   "cell_type": "code",
   "execution_count": null,
   "id": "d41ef9d1",
   "metadata": {},
   "outputs": [],
   "source": [
    "df_stat_temp.sort_values(\"RC - RP\", axis=0).head(10)"
   ]
  },
  {
   "cell_type": "code",
   "execution_count": null,
   "id": "ce7ee9c3",
   "metadata": {},
   "outputs": [],
   "source": [
    "df_temp = df_stat_temp.sort_values(\"RC - RP\", axis=0).tail(40000)"
   ]
  },
  {
   "cell_type": "code",
   "execution_count": null,
   "id": "e3075b13",
   "metadata": {},
   "outputs": [],
   "source": [
    "df_temp = df_temp.head(3000)"
   ]
  },
  {
   "cell_type": "code",
   "execution_count": null,
   "id": "17c5d0a2",
   "metadata": {},
   "outputs": [],
   "source": [
    "df_temp = df_temp.head(1500)"
   ]
  },
  {
   "cell_type": "code",
   "execution_count": null,
   "id": "67ceb220",
   "metadata": {},
   "outputs": [],
   "source": [
    "df_temp = df_temp.head(1250)"
   ]
  },
  {
   "cell_type": "code",
   "execution_count": null,
   "id": "9de4c8d2",
   "metadata": {},
   "outputs": [],
   "source": [
    "df_temp = df_temp.tail(250)"
   ]
  },
  {
   "cell_type": "code",
   "execution_count": null,
   "id": "4cc45d52",
   "metadata": {},
   "outputs": [],
   "source": [
    "df_stat_temp.sort_values(\"RP - CH\", axis=0).head(10)"
   ]
  },
  {
   "cell_type": "code",
   "execution_count": null,
   "id": "6392242b",
   "metadata": {},
   "outputs": [],
   "source": [
    "df_temp = df_stat_temp.sort_values(\"RP - CH\", axis=0)"
   ]
  },
  {
   "cell_type": "code",
   "execution_count": null,
   "id": "9018d215",
   "metadata": {},
   "outputs": [],
   "source": [
    "df_temp = df_temp.tail(40000)"
   ]
  },
  {
   "cell_type": "code",
   "execution_count": null,
   "id": "847d47f6",
   "metadata": {},
   "outputs": [],
   "source": [
    "df_temp = df_temp.head(10000)"
   ]
  },
  {
   "cell_type": "code",
   "execution_count": null,
   "id": "cedec20d",
   "metadata": {},
   "outputs": [],
   "source": [
    "df_temp = df_temp.head(3000)"
   ]
  },
  {
   "cell_type": "code",
   "execution_count": null,
   "id": "32f5d981",
   "metadata": {},
   "outputs": [],
   "source": [
    "df_temp = df_temp.tail(1000)"
   ]
  },
  {
   "cell_type": "code",
   "execution_count": null,
   "id": "43e1fa1a",
   "metadata": {},
   "outputs": [],
   "source": [
    "df_temp = df_temp.head(200)"
   ]
  },
  {
   "cell_type": "markdown",
   "id": "341591f2",
   "metadata": {},
   "source": [
    "# KIRC-KICH"
   ]
  },
  {
   "cell_type": "code",
   "execution_count": null,
   "id": "4b802a70",
   "metadata": {},
   "outputs": [],
   "source": [
    "import matplotlib.patches as mpatches\n",
    "\n",
    "\n",
    "x = df_sorted.loc['cg08435683'].tolist()[205:271]\n",
    "x = [i*100 for i in x]\n",
    "#print(x)\n",
    "y = df_sorted.loc['cg08435683'].tolist()[271:590]\n",
    "y = [i*100 for i in y]\n",
    "#print(y)\n",
    "z = df_sorted.loc['cg08435683'].tolist()[590:]\n",
    "z = [i*100 for i in z]\n",
    "bins = np.linspace(0, 100, 50)\n",
    "\n",
    "plt.hist([x, y, z], bins, label=['KICH', 'KIRC' 'KIRP'], color=[\"#7E2E1F\", \"#FFA026\", \"#FF0000\"])\n",
    "plt.title('cg08435683 (SLC23A2)')\n",
    "#colors = [(0.494, 0.180, 0.122), (1, 0.627, 0.149), (1, 0, 0)]\n",
    "handle_1 = mpatches.Rectangle((0,0),1,1, color=(0.494, 0.180, 0.122), ec=\"k\")\n",
    "handle_2 = mpatches.Rectangle((0,0),1,1, color=(1, 0.627, 0.149), ec=\"k\")\n",
    "handle_3 = mpatches.Rectangle((0,0),1,1, color=(1, 0, 0), ec=\"k\")\n",
    "handles = [handle_1, handle_2, handle_3]\n",
    "labels = ['KICH', 'KIRC', 'KIRP']\n",
    "plt.legend(handles, labels)\n",
    "\n",
    "plt.show()"
   ]
  },
  {
   "cell_type": "code",
   "execution_count": null,
   "id": "ba469ad9",
   "metadata": {},
   "outputs": [],
   "source": [
    "x = df_sorted.loc['cg01020475'].tolist()[205:271]\n",
    "x = [i*100 for i in x]\n",
    "#print(x)\n",
    "y = df_sorted.loc['cg01020475'].tolist()[271:590]\n",
    "y = [i*100 for i in y]\n",
    "#print(y)\n",
    "z = df_sorted.loc['cg01020475'].tolist()[590:]\n",
    "z = [i*100 for i in z]\n",
    "bins = np.linspace(0, 100, 50)\n",
    "\n",
    "plt.hist([x, y, z], bins, label=['KICH', 'KIRC' 'KIRP'], color=[\"#7E2E1F\", \"#FFA026\", \"#FF0000\"])\n",
    "plt.title('cg01020475 (ATP4B)')\n",
    "#colors = [(0.494, 0.180, 0.122), (1, 0.627, 0.149), (1, 0, 0)]\n",
    "handle_1 = mpatches.Rectangle((0,0),1,1, color=(0.494, 0.180, 0.122), ec=\"k\")\n",
    "handle_2 = mpatches.Rectangle((0,0),1,1, color=(1, 0.627, 0.149), ec=\"k\")\n",
    "handle_3 = mpatches.Rectangle((0,0),1,1, color=(1, 0, 0), ec=\"k\")\n",
    "handles = [handle_1, handle_2, handle_3]\n",
    "labels = ['KICH', 'KIRC', 'KIRP']\n",
    "plt.legend(handles, labels)\n",
    "\n",
    "plt.show()"
   ]
  },
  {
   "cell_type": "markdown",
   "id": "a4fd6fde",
   "metadata": {},
   "source": [
    "# KICH - KIRC"
   ]
  },
  {
   "cell_type": "code",
   "execution_count": null,
   "id": "a84b10ba",
   "metadata": {},
   "outputs": [],
   "source": [
    "x = df_sorted.loc['cg01288184'].tolist()[205:271]\n",
    "x = [i*100 for i in x]\n",
    "#print(x)\n",
    "y = df_sorted.loc['cg01288184'].tolist()[271:590]\n",
    "y = [i*100 for i in y]\n",
    "#print(y)\n",
    "z = df_sorted.loc['cg01288184'].tolist()[590:]\n",
    "z = [i*100 for i in z]\n",
    "bins = np.linspace(0, 100, 50)\n",
    "\n",
    "plt.hist([x, y, z], bins, label=['KICH', 'KIRC' 'KIRP'], color=[\"#7E2E1F\", \"#FFA026\", \"#FF0000\"])\n",
    "plt.title('cg01288184 (CABLES1)')\n",
    "#colors = [(0.494, 0.180, 0.122), (1, 0.627, 0.149), (1, 0, 0)]\n",
    "handle_1 = mpatches.Rectangle((0,0),1,1, color=(0.494, 0.180, 0.122), ec=\"k\")\n",
    "handle_2 = mpatches.Rectangle((0,0),1,1, color=(1, 0.627, 0.149), ec=\"k\")\n",
    "handle_3 = mpatches.Rectangle((0,0),1,1, color=(1, 0, 0), ec=\"k\")\n",
    "handles = [handle_1, handle_2, handle_3]\n",
    "labels = ['KICH', 'KIRC', 'KIRP']\n",
    "plt.legend(handles, labels)\n",
    "\n",
    "plt.show()"
   ]
  },
  {
   "cell_type": "code",
   "execution_count": null,
   "id": "7cb9fe74",
   "metadata": {},
   "outputs": [],
   "source": [
    "x = df_sorted.loc['cg09479286'].tolist()[205:271]\n",
    "x = [i*100 for i in x]\n",
    "#print(x)\n",
    "y = df_sorted.loc['cg09479286'].tolist()[271:590]\n",
    "y = [i*100 for i in y]\n",
    "#print(y)\n",
    "z = df_sorted.loc['cg09479286'].tolist()[590:]\n",
    "z = [i*100 for i in z]\n",
    "bins = np.linspace(0, 100, 50)\n",
    "\n",
    "plt.hist([x, y, z], bins, label=['KICH', 'KIRC' 'KIRP'], color=[\"#7E2E1F\", \"#FFA026\", \"#FF0000\"])\n",
    "plt.title('cg09479286 (NOSTRIN)')\n",
    "#colors = [(0.494, 0.180, 0.122), (1, 0.627, 0.149), (1, 0, 0)]\n",
    "handle_1 = mpatches.Rectangle((0,0),1,1, color=(0.494, 0.180, 0.122), ec=\"k\")\n",
    "handle_2 = mpatches.Rectangle((0,0),1,1, color=(1, 0.627, 0.149), ec=\"k\")\n",
    "handle_3 = mpatches.Rectangle((0,0),1,1, color=(1, 0, 0), ec=\"k\")\n",
    "handles = [handle_1, handle_2, handle_3]\n",
    "labels = ['KICH', 'KIRC', 'KIRP']\n",
    "plt.legend(handles, labels)\n",
    "\n",
    "plt.show()"
   ]
  },
  {
   "cell_type": "markdown",
   "id": "f4509647",
   "metadata": {},
   "source": [
    "# KIRP - KIRC"
   ]
  },
  {
   "cell_type": "code",
   "execution_count": null,
   "id": "609a4850",
   "metadata": {},
   "outputs": [],
   "source": [
    "x = df_sorted.loc['cg00204802'].tolist()[205:271]\n",
    "x = [i*100 for i in x]\n",
    "#print(x)\n",
    "y = df_sorted.loc['cg00204802'].tolist()[271:590]\n",
    "y = [i*100 for i in y]\n",
    "#print(y)\n",
    "z = df_sorted.loc['cg00204802'].tolist()[590:]\n",
    "z = [i*100 for i in z]\n",
    "bins = np.linspace(0, 100, 50)\n",
    "\n",
    "plt.hist([x, y, z], bins, label=['KICH', 'KIRC' 'KIRP'], color=[\"#7E2E1F\", \"#FFA026\", \"#FF0000\"])\n",
    "plt.title('cg00204802 (ATP11A)')\n",
    "#colors = [(0.494, 0.180, 0.122), (1, 0.627, 0.149), (1, 0, 0)]\n",
    "handle_1 = mpatches.Rectangle((0,0),1,1, color=(0.494, 0.180, 0.122), ec=\"k\")\n",
    "handle_2 = mpatches.Rectangle((0,0),1,1, color=(1, 0.627, 0.149), ec=\"k\")\n",
    "handle_3 = mpatches.Rectangle((0,0),1,1, color=(1, 0, 0), ec=\"k\")\n",
    "handles = [handle_1, handle_2, handle_3]\n",
    "labels = ['KICH', 'KIRC', 'KIRP']\n",
    "plt.legend(handles, labels)\n",
    "\n",
    "plt.show()"
   ]
  },
  {
   "cell_type": "code",
   "execution_count": null,
   "id": "bbf2285d",
   "metadata": {},
   "outputs": [],
   "source": [
    "x = df_sorted.loc['cg01623261'].tolist()[205:271]\n",
    "x = [i*100 for i in x]\n",
    "#print(x)\n",
    "y = df_sorted.loc['cg01623261'].tolist()[271:590]\n",
    "y = [i*100 for i in y]\n",
    "#print(y)\n",
    "z = df_sorted.loc['cg01623261'].tolist()[590:]\n",
    "z = [i*100 for i in z]\n",
    "bins = np.linspace(0, 100, 50)\n",
    "\n",
    "plt.hist([x, y, z], bins, label=['KICH', 'KIRC' 'KIRP'], color=[\"#7E2E1F\", \"#FFA026\", \"#FF0000\"])\n",
    "plt.title('cg01623261 (BAHCC1)')\n",
    "#colors = [(0.494, 0.180, 0.122), (1, 0.627, 0.149), (1, 0, 0)]\n",
    "handle_1 = mpatches.Rectangle((0,0),1,1, color=(0.494, 0.180, 0.122), ec=\"k\")\n",
    "handle_2 = mpatches.Rectangle((0,0),1,1, color=(1, 0.627, 0.149), ec=\"k\")\n",
    "handle_3 = mpatches.Rectangle((0,0),1,1, color=(1, 0, 0), ec=\"k\")\n",
    "handles = [handle_1, handle_2, handle_3]\n",
    "labels = ['KICH', 'KIRC', 'KIRP']\n",
    "plt.legend(handles, labels)\n",
    "\n",
    "plt.show()"
   ]
  },
  {
   "cell_type": "markdown",
   "id": "bcc1aef2",
   "metadata": {},
   "source": [
    "# KIRC-KIRP"
   ]
  },
  {
   "cell_type": "code",
   "execution_count": null,
   "id": "6d613928",
   "metadata": {},
   "outputs": [],
   "source": [
    "x = df_sorted.loc['cg00263677'].tolist()[205:271]\n",
    "x = [i*100 for i in x]\n",
    "#print(x)\n",
    "y = df_sorted.loc['cg00263677'].tolist()[271:590]\n",
    "y = [i*100 for i in y]\n",
    "#print(y)\n",
    "z = df_sorted.loc['cg00263677'].tolist()[590:]\n",
    "z = [i*100 for i in z]\n",
    "bins = np.linspace(0, 100, 50)\n",
    "\n",
    "plt.hist([x, y, z], bins, label=['KICH', 'KIRC' 'KIRP'], color=[\"#7E2E1F\", \"#FFA026\", \"#FF0000\"])\n",
    "plt.title('cg00263677 (CRISPLD2)')\n",
    "#colors = [(0.494, 0.180, 0.122), (1, 0.627, 0.149), (1, 0, 0)]\n",
    "handle_1 = mpatches.Rectangle((0,0),1,1, color=(0.494, 0.180, 0.122), ec=\"k\")\n",
    "handle_2 = mpatches.Rectangle((0,0),1,1, color=(1, 0.627, 0.149), ec=\"k\")\n",
    "handle_3 = mpatches.Rectangle((0,0),1,1, color=(1, 0, 0), ec=\"k\")\n",
    "handles = [handle_1, handle_2, handle_3]\n",
    "labels = ['KICH', 'KIRC', 'KIRP']\n",
    "plt.legend(handles, labels)\n",
    "\n",
    "plt.show()"
   ]
  },
  {
   "cell_type": "code",
   "execution_count": null,
   "id": "7d42e5c5",
   "metadata": {},
   "outputs": [],
   "source": [
    "x = df_sorted.loc['cg04125586'].tolist()[205:271]\n",
    "x = [i*100 for i in x]\n",
    "#print(x)\n",
    "y = df_sorted.loc['cg04125586'].tolist()[271:590]\n",
    "y = [i*100 for i in y]\n",
    "#print(y)\n",
    "z = df_sorted.loc['cg04125586'].tolist()[590:]\n",
    "z = [i*100 for i in z]\n",
    "bins = np.linspace(0, 100, 50)\n",
    "\n",
    "plt.hist([x, y, z], bins, label=['KICH', 'KIRC' 'KIRP'], color=[\"#7E2E1F\", \"#FFA026\", \"#FF0000\"])\n",
    "plt.title('cg04125586 (ELF3)')\n",
    "#colors = [(0.494, 0.180, 0.122), (1, 0.627, 0.149), (1, 0, 0)]\n",
    "handle_1 = mpatches.Rectangle((0,0),1,1, color=(0.494, 0.180, 0.122), ec=\"k\")\n",
    "handle_2 = mpatches.Rectangle((0,0),1,1, color=(1, 0.627, 0.149), ec=\"k\")\n",
    "handle_3 = mpatches.Rectangle((0,0),1,1, color=(1, 0, 0), ec=\"k\")\n",
    "handles = [handle_1, handle_2, handle_3]\n",
    "labels = ['KICH', 'KIRC', 'KIRP']\n",
    "plt.legend(handles, labels)\n",
    "\n",
    "plt.show()"
   ]
  },
  {
   "cell_type": "markdown",
   "id": "20989d3b",
   "metadata": {},
   "source": [
    "# KICH - KIRP"
   ]
  },
  {
   "cell_type": "code",
   "execution_count": null,
   "id": "3595c09a",
   "metadata": {},
   "outputs": [],
   "source": [
    "x = df_sorted.loc['cg02748089'].tolist()[205:271]\n",
    "x = [i*100 for i in x]\n",
    "#print(x)\n",
    "y = df_sorted.loc['cg02748089'].tolist()[271:590]\n",
    "y = [i*100 for i in y]\n",
    "#print(y)\n",
    "z = df_sorted.loc['cg02748089'].tolist()[590:]\n",
    "z = [i*100 for i in z]\n",
    "bins = np.linspace(0, 100, 50)\n",
    "\n",
    "plt.hist([x, y, z], bins, label=['KICH', 'KIRC' 'KIRP'], color=[\"#7E2E1F\", \"#FFA026\", \"#FF0000\"])\n",
    "plt.title('cg02748089 (WWOX)')\n",
    "#colors = [(0.494, 0.180, 0.122), (1, 0.627, 0.149), (1, 0, 0)]\n",
    "handle_1 = mpatches.Rectangle((0,0),1,1, color=(0.494, 0.180, 0.122), ec=\"k\")\n",
    "handle_2 = mpatches.Rectangle((0,0),1,1, color=(1, 0.627, 0.149), ec=\"k\")\n",
    "handle_3 = mpatches.Rectangle((0,0),1,1, color=(1, 0, 0), ec=\"k\")\n",
    "handles = [handle_1, handle_2, handle_3]\n",
    "labels = ['KICH', 'KIRC', 'KIRP']\n",
    "plt.legend(handles, labels)\n",
    "\n",
    "plt.show()"
   ]
  },
  {
   "cell_type": "code",
   "execution_count": null,
   "id": "4ff06bec",
   "metadata": {},
   "outputs": [],
   "source": [
    "x = df_sorted.loc['cg02772121'].tolist()[205:271]\n",
    "x = [i*100 for i in x]\n",
    "#print(x)\n",
    "y = df_sorted.loc['cg02772121'].tolist()[271:590]\n",
    "y = [i*100 for i in y]\n",
    "#print(y)\n",
    "z = df_sorted.loc['cg02772121'].tolist()[590:]\n",
    "z = [i*100 for i in z]\n",
    "bins = np.linspace(0, 100, 50)\n",
    "\n",
    "plt.hist([x, y, z], bins, label=['KICH', 'KIRC' 'KIRP'], color=[\"#7E2E1F\", \"#FFA026\", \"#FF0000\"])\n",
    "plt.title('cg02772121 (TRIM15)')\n",
    "#colors = [(0.494, 0.180, 0.122), (1, 0.627, 0.149), (1, 0, 0)]\n",
    "handle_1 = mpatches.Rectangle((0,0),1,1, color=(0.494, 0.180, 0.122), ec=\"k\")\n",
    "handle_2 = mpatches.Rectangle((0,0),1,1, color=(1, 0.627, 0.149), ec=\"k\")\n",
    "handle_3 = mpatches.Rectangle((0,0),1,1, color=(1, 0, 0), ec=\"k\")\n",
    "handles = [handle_1, handle_2, handle_3]\n",
    "labels = ['KICH', 'KIRC', 'KIRP']\n",
    "plt.legend(handles, labels)\n",
    "\n",
    "plt.show()"
   ]
  },
  {
   "cell_type": "markdown",
   "id": "5359c5b3",
   "metadata": {},
   "source": [
    "# KIRP - KICH"
   ]
  },
  {
   "cell_type": "code",
   "execution_count": null,
   "id": "a11fe5b7",
   "metadata": {},
   "outputs": [],
   "source": [
    "x = df_sorted.loc['cg02670123'].tolist()[205:271]\n",
    "x = [i*100 for i in x]\n",
    "#print(x)\n",
    "y = df_sorted.loc['cg02670123'].tolist()[271:590]\n",
    "y = [i*100 for i in y]\n",
    "#print(y)\n",
    "z = df_sorted.loc['cg02670123'].tolist()[590:]\n",
    "z = [i*100 for i in z]\n",
    "bins = np.linspace(0, 100, 50)\n",
    "\n",
    "plt.hist([x, y, z], bins, label=['KICH', 'KIRC' 'KIRP'], color=[\"#7E2E1F\", \"#FFA026\", \"#FF0000\"])\n",
    "plt.title('cg02670123 (ITGA6)')\n",
    "#colors = [(0.494, 0.180, 0.122), (1, 0.627, 0.149), (1, 0, 0)]\n",
    "handle_1 = mpatches.Rectangle((0,0),1,1, color=(0.494, 0.180, 0.122), ec=\"k\")\n",
    "handle_2 = mpatches.Rectangle((0,0),1,1, color=(1, 0.627, 0.149), ec=\"k\")\n",
    "handle_3 = mpatches.Rectangle((0,0),1,1, color=(1, 0, 0), ec=\"k\")\n",
    "handles = [handle_1, handle_2, handle_3]\n",
    "labels = ['KICH', 'KIRC', 'KIRP']\n",
    "plt.legend(handles, labels)\n",
    "\n",
    "plt.show()"
   ]
  },
  {
   "cell_type": "code",
   "execution_count": null,
   "id": "0f45742a",
   "metadata": {},
   "outputs": [],
   "source": [
    "x = df_sorted.loc['cg08435683'].tolist()[205:271]\n",
    "x = [i*100 for i in x]\n",
    "#print(x)\n",
    "y = df_sorted.loc['cg08435683'].tolist()[271:590]\n",
    "y = [i*100 for i in y]\n",
    "#print(y)\n",
    "z = df_sorted.loc['cg08435683'].tolist()[590:]\n",
    "z = [i*100 for i in z]\n",
    "bins = np.linspace(0, 100, 50)\n",
    "\n",
    "plt.hist([x, y, z], bins, label=['KICH', 'KIRC' 'KIRP'], color=[\"#7E2E1F\", \"#FFA026\", \"#FF0000\"])\n",
    "plt.title('cg08435683 (SLC23A2)')\n",
    "#colors = [(0.494, 0.180, 0.122), (1, 0.627, 0.149), (1, 0, 0)]\n",
    "handle_1 = mpatches.Rectangle((0,0),1,1, color=(0.494, 0.180, 0.122), ec=\"k\")\n",
    "handle_2 = mpatches.Rectangle((0,0),1,1, color=(1, 0.627, 0.149), ec=\"k\")\n",
    "handle_3 = mpatches.Rectangle((0,0),1,1, color=(1, 0, 0), ec=\"k\")\n",
    "handles = [handle_1, handle_2, handle_3]\n",
    "labels = ['KICH', 'KIRC', 'KIRP']\n",
    "plt.legend(handles, labels)\n",
    "\n",
    "plt.show()"
   ]
  },
  {
   "cell_type": "markdown",
   "id": "cff9baa4",
   "metadata": {},
   "source": [
    "# DMC Stats"
   ]
  },
  {
   "cell_type": "code",
   "execution_count": null,
   "id": "253bb83b",
   "metadata": {},
   "outputs": [],
   "source": [
    "#this is for normal - tumor\n",
    "import numpy as np\n",
    "\n",
    "pos_list = 0\n",
    "neg_list = 0\n",
    "for i in range(0, len(df_stat_temp)):\n",
    "    if(True != np.isnan(df_stat_temp.iloc[i, 4])):\n",
    "        if(df_stat_temp.iloc[i, 4] > 0):\n",
    "            pos_list += 1\n",
    "        else:\n",
    "            neg_list += 1"
   ]
  },
  {
   "cell_type": "code",
   "execution_count": null,
   "id": "fa596fd6",
   "metadata": {},
   "outputs": [],
   "source": [
    "diff_kich_normal = []\n",
    "for i in range (0, len(df_stat)):\n",
    "    diff_kich_normal.append(means_kich[i] - means_normal[i])"
   ]
  },
  {
   "cell_type": "code",
   "execution_count": null,
   "id": "5c970054",
   "metadata": {},
   "outputs": [],
   "source": [
    "diff_kirc_normal = []\n",
    "for i in range (0, len(df_stat)):\n",
    "    diff_kirc_normal.append(means_kirc[i] - means_normal[i])"
   ]
  },
  {
   "cell_type": "code",
   "execution_count": null,
   "id": "2e1f1525",
   "metadata": {},
   "outputs": [],
   "source": [
    "diff_kirp_normal = []\n",
    "for i in range (0, len(df_stat)):\n",
    "    diff_kirp_normal.append(means_kirp[i] - means_normal[i])"
   ]
  },
  {
   "cell_type": "code",
   "execution_count": null,
   "id": "cb88308d",
   "metadata": {},
   "outputs": [],
   "source": [
    "df_stat_temp[\"CH - N\"] = diff_kich_normal"
   ]
  },
  {
   "cell_type": "code",
   "execution_count": null,
   "id": "b9d8d5dd",
   "metadata": {},
   "outputs": [],
   "source": [
    "df_stat_temp[\"RC - N\"] = diff_kirc_normal"
   ]
  },
  {
   "cell_type": "code",
   "execution_count": null,
   "id": "5b04cabd",
   "metadata": {},
   "outputs": [],
   "source": [
    "df_stat_temp[\"RP - N\"] = diff_kirp_normal"
   ]
  },
  {
   "cell_type": "code",
   "execution_count": null,
   "id": "12dca2d4",
   "metadata": {},
   "outputs": [],
   "source": [
    "#this is for KICH - N\n",
    "import numpy as np\n",
    "\n",
    "pos_list = 0\n",
    "neg_list = 0\n",
    "for i in range(0, len(df_stat_temp)):\n",
    "    if(True != np.isnan(df_stat_temp.iloc[i, 11])):\n",
    "        if(df_stat_temp.iloc[i, 11] > 0):\n",
    "            pos_list += 1\n",
    "        else:\n",
    "            neg_list += 1"
   ]
  },
  {
   "cell_type": "code",
   "execution_count": null,
   "id": "51a5bb4e",
   "metadata": {},
   "outputs": [],
   "source": [
    "#this is for KIRC - N\n",
    "import numpy as np\n",
    "\n",
    "pos_list = 0\n",
    "neg_list = 0\n",
    "for i in range(0, len(df_stat_temp)):\n",
    "    if(True != np.isnan(df_stat_temp.iloc[i, 12])):\n",
    "        if(df_stat_temp.iloc[i, 12] > 0):\n",
    "            pos_list += 1\n",
    "        else:\n",
    "            neg_list += 1"
   ]
  },
  {
   "cell_type": "code",
   "execution_count": null,
   "id": "cca2c966",
   "metadata": {},
   "outputs": [],
   "source": [
    "#this is for KIRP - N\n",
    "import numpy as np\n",
    "\n",
    "pos_list = 0\n",
    "neg_list = 0\n",
    "for i in range(0, len(df_stat_temp)):\n",
    "    if(True != np.isnan(df_stat_temp.iloc[i, 13])):\n",
    "        if(df_stat_temp.iloc[i, 13] > 0):\n",
    "            pos_list += 1\n",
    "        else:\n",
    "            neg_list += 1"
   ]
  },
  {
   "cell_type": "code",
   "execution_count": null,
   "id": "88ce8f68",
   "metadata": {},
   "outputs": [],
   "source": [
    "pos_list"
   ]
  },
  {
   "cell_type": "code",
   "execution_count": null,
   "id": "d17dd110",
   "metadata": {},
   "outputs": [],
   "source": [
    "neg_list"
   ]
  },
  {
   "cell_type": "markdown",
   "id": "6b300b1b",
   "metadata": {},
   "source": [
    "# Log Reg for Subtyping KICH (Tumor Only Dataset):"
   ]
  },
  {
   "cell_type": "code",
   "execution_count": null,
   "id": "65e4bf58",
   "metadata": {},
   "outputs": [],
   "source": [
    "df_temp = df_clin_meth.iloc[205:,:]\n",
    "#pd.concat([df_clin_meth.iloc[0:5,:], df_clin_meth.iloc[205:210,:]])"
   ]
  },
  {
   "cell_type": "code",
   "execution_count": null,
   "id": "84e89bb6",
   "metadata": {},
   "outputs": [],
   "source": [
    "listy = df_temp[\"subtype\"].tolist()"
   ]
  },
  {
   "cell_type": "code",
   "execution_count": null,
   "id": "81fa3967",
   "metadata": {},
   "outputs": [],
   "source": [
    "#df_temp[\"subtype\"].tolist()"
   ]
  },
  {
   "cell_type": "code",
   "execution_count": null,
   "id": "93d71de3",
   "metadata": {},
   "outputs": [],
   "source": [
    "labels = []\n",
    "for i in range(0, len(listy)):\n",
    "    if(listy[i] == \"kich\"):\n",
    "        labels.append(1)\n",
    "    else:\n",
    "        labels.append(0)"
   ]
  },
  {
   "cell_type": "code",
   "execution_count": null,
   "id": "2edfe2c6",
   "metadata": {},
   "outputs": [],
   "source": [
    "X = df_temp.loc[:, ['cg08435683','cg01020475','cg01288184','cg09479286','cg02748089','cg02772121','cg02670123','cg08435683']].dropna(axis=1) # Features\n",
    "y = labels # Target variable"
   ]
  },
  {
   "cell_type": "code",
   "execution_count": null,
   "id": "06ff0de6",
   "metadata": {},
   "outputs": [],
   "source": [
    "import numpy as np\n",
    "import pandas as pd\n",
    "from sklearn.model_selection import KFold\n",
    "from sklearn.model_selection import cross_val_score\n",
    "from sklearn.linear_model import LogisticRegression\n",
    "from sklearn.metrics import confusion_matrix\n",
    "from sklearn.metrics import classification_report"
   ]
  },
  {
   "cell_type": "code",
   "execution_count": null,
   "id": "08aaf2b5",
   "metadata": {},
   "outputs": [],
   "source": [
    "# 5 folds selected\n",
    "kfold = KFold(n_splits=5, random_state=0, shuffle=True)\n",
    "model = LogisticRegression(solver='liblinear')\n",
    "results = cross_val_score(model, X, y, cv=kfold)\n",
    "print(results)\n",
    "# Output the accuracy. Calculate the mean and std across all folds. \n",
    "print(\"Accuracy: %.3f%% (%.3f%%)\" % (results.mean()*100.0, results.std()*100.0))"
   ]
  },
  {
   "cell_type": "code",
   "execution_count": null,
   "id": "3579f11f",
   "metadata": {},
   "outputs": [],
   "source": [
    "from sklearn.metrics import roc_curve,auc\n",
    "from scipy import interp\n",
    "tprs = []\n",
    "aucs = []\n",
    "mean_fpr = np.linspace(0,1,100)\n",
    "i = 1\n",
    "for train,test in kfold.split(X,y):\n",
    "    prediction = model.fit(X,y).predict_proba(X)\n",
    "    fpr, tpr, t = roc_curve(y, prediction[:, 1])\n",
    "    tprs.append(interp(mean_fpr, fpr, tpr))\n",
    "    roc_auc = auc(fpr, tpr)\n",
    "    aucs.append(roc_auc)\n",
    "    #plt.plot(fpr, tpr, lw=2, alpha=0.3, label='ROC fold %d (AUC = %0.2f)' % (i, roc_auc))\n",
    "    i= i+1\n",
    "\n",
    "plt.plot([0,1],[0,1],linestyle = '--',lw = 2,color = 'black')\n",
    "mean_tpr = np.mean(tprs, axis=0)\n",
    "mean_auc = auc(mean_fpr, mean_tpr)\n",
    "plt.plot(mean_fpr, mean_tpr, color='blue',\n",
    "         label=r'Mean ROC (AUC = %0.2f )' % (mean_auc),lw=2, alpha=1)\n",
    "\n",
    "plt.xlabel('False Positive Rate')\n",
    "plt.ylabel('True Positive Rate')\n",
    "plt.title('K-Fold Validation for KICH vs. OTHER ROC Curve (tumor only data))')\n",
    "plt.legend(loc=\"lower right\")\n",
    "plt.text(0.32,0.7,'More accurate area',fontsize = 12)\n",
    "plt.text(0.63,0.4,'Less accurate area',fontsize = 12)\n",
    "plt.show()"
   ]
  },
  {
   "cell_type": "code",
   "execution_count": null,
   "id": "fcf7fc6e",
   "metadata": {},
   "outputs": [],
   "source": [
    "test_size = 0.5\n",
    "seed = 0\n",
    "\n",
    "from sklearn.model_selection import train_test_split\n",
    "\n",
    "X_train, X_test, y_train, y_test = train_test_split(X, y, test_size=test_size,\n",
    "random_state=seed)\n",
    "\n",
    "model2 = LogisticRegression(solver='liblinear')\n",
    "model2.fit(X_train, y_train)\n",
    "\n",
    "predicted = model2.predict(X_test)\n",
    "matrix = confusion_matrix(y_test, predicted)\n",
    "print(matrix)\n",
    "report = classification_report(y_test, predicted)\n",
    "print(report)"
   ]
  },
  {
   "cell_type": "code",
   "execution_count": null,
   "id": "a4aac7e9",
   "metadata": {},
   "outputs": [],
   "source": [
    "#define metrics\n",
    "\n",
    "y_pred_proba = model2.predict_proba(X_test)[::,1]\n",
    "fpr2, tpr2, _ = metrics.roc_curve(y_test,  y_pred_proba)\n",
    "auc2 = metrics.roc_auc_score(y_test, y_pred_proba)\n",
    "\n",
    "#create ROC curve\n",
    "plt.plot(fpr,tpr,label=\"Validation=\"+str(round(roc_auc, 4)),color=\"#7E2E1F\", linewidth=3, linestyle='dashed')\n",
    "plt.plot(fpr2,tpr2,label=\"Test=\"+str(round(auc2, 4)),color=\"#7E2E1F\", linewidth=3)\n",
    "plt.ylabel('True Positive Rate')\n",
    "plt.xlabel('False Positive Rate')\n",
    "plt.legend(loc=4)\n",
    "plt.title(\"KICH vs. OTHER ROC Curve (tumor only data)\")\n",
    "plt.show()"
   ]
  },
  {
   "cell_type": "markdown",
   "id": "62c1e174",
   "metadata": {},
   "source": [
    "# Log Reg for Subtyping KIRC (Tumor Only Dataset):"
   ]
  },
  {
   "cell_type": "code",
   "execution_count": null,
   "id": "fcbc1362",
   "metadata": {},
   "outputs": [],
   "source": [
    "df_temp = df_clin_meth.iloc[205:,:]\n",
    "#pd.concat([df_clin_meth.iloc[0:5,:], df_clin_meth.iloc[205:210,:]])"
   ]
  },
  {
   "cell_type": "code",
   "execution_count": null,
   "id": "54898a09",
   "metadata": {},
   "outputs": [],
   "source": [
    "listy = df_temp[\"subtype\"].tolist()"
   ]
  },
  {
   "cell_type": "code",
   "execution_count": null,
   "id": "f38c5682",
   "metadata": {},
   "outputs": [],
   "source": [
    "labels = []\n",
    "for i in range(0, len(listy)):\n",
    "    if(listy[i] == \"kirc\"):\n",
    "        labels.append(1)\n",
    "    else:\n",
    "        labels.append(0)"
   ]
  },
  {
   "cell_type": "code",
   "execution_count": null,
   "id": "0c3fef58",
   "metadata": {},
   "outputs": [],
   "source": [
    "X = df_temp.loc[:, ['cg08435683', 'cg01020475', 'cg01288184', 'cg09479286','cg00204802','cg01623261','cg00263677', 'cg04125586']].dropna(axis=1) # Features\n",
    "y = labels # Target variable"
   ]
  },
  {
   "cell_type": "code",
   "execution_count": null,
   "id": "67d872d8",
   "metadata": {},
   "outputs": [],
   "source": [
    "import numpy as np\n",
    "import pandas as pd\n",
    "from sklearn.model_selection import KFold\n",
    "from sklearn.model_selection import cross_val_score\n",
    "from sklearn.linear_model import LogisticRegression\n",
    "from sklearn.metrics import confusion_matrix\n",
    "from sklearn.metrics import classification_report"
   ]
  },
  {
   "cell_type": "code",
   "execution_count": null,
   "id": "0c3405c2",
   "metadata": {},
   "outputs": [],
   "source": [
    "# 5 folds selected\n",
    "kfold = KFold(n_splits=5, random_state=0, shuffle=True)\n",
    "model = LogisticRegression(solver='liblinear')\n",
    "results = cross_val_score(model, X, y, cv=kfold)\n",
    "print(results)\n",
    "# Output the accuracy. Calculate the mean and std across all folds. \n",
    "print(\"Accuracy: %.3f%% (%.3f%%)\" % (results.mean()*100.0, results.std()*100.0))"
   ]
  },
  {
   "cell_type": "code",
   "execution_count": null,
   "id": "a2d344ee",
   "metadata": {},
   "outputs": [],
   "source": [
    "from sklearn.metrics import roc_curve,auc\n",
    "from scipy import interp\n",
    "tprs = []\n",
    "aucs = []\n",
    "mean_fpr = np.linspace(0,1,100)\n",
    "i = 1\n",
    "for train,test in kfold.split(X,y):\n",
    "    prediction = model.fit(X,y).predict_proba(X)\n",
    "    fpr, tpr, t = roc_curve(y, prediction[:, 1])\n",
    "    tprs.append(interp(mean_fpr, fpr, tpr))\n",
    "    roc_auc = auc(fpr, tpr)\n",
    "    aucs.append(roc_auc)\n",
    "    #plt.plot(fpr, tpr, lw=2, alpha=0.3, label='ROC fold %d (AUC = %0.2f)' % (i, roc_auc))\n",
    "    i= i+1\n",
    "\n",
    "plt.plot([0,1],[0,1],linestyle = '--',lw = 2,color = 'black')\n",
    "mean_tpr = np.mean(tprs, axis=0)\n",
    "mean_auc = auc(mean_fpr, mean_tpr)\n",
    "plt.plot(mean_fpr, mean_tpr, color='blue',\n",
    "         label=r'Mean ROC (AUC = %0.2f )' % (mean_auc),lw=2, alpha=1)\n",
    "\n",
    "plt.xlabel('False Positive Rate')\n",
    "plt.ylabel('True Positive Rate')\n",
    "plt.title('K-Fold Validation for KIRC vs. OTHER ROC Curve (tumor only data))')\n",
    "plt.legend(loc=\"lower right\")\n",
    "plt.text(0.32,0.7,'More accurate area',fontsize = 12)\n",
    "plt.text(0.63,0.4,'Less accurate area',fontsize = 12)\n",
    "plt.show()"
   ]
  },
  {
   "cell_type": "code",
   "execution_count": null,
   "id": "8d478f23",
   "metadata": {},
   "outputs": [],
   "source": [
    "test_size = 0.5\n",
    "seed = 0\n",
    "\n",
    "from sklearn.model_selection import train_test_split\n",
    "\n",
    "X_train, X_test, y_train, y_test = train_test_split(X, y, test_size=test_size,\n",
    "random_state=seed)\n",
    "\n",
    "model2 = LogisticRegression(solver='liblinear')\n",
    "model2.fit(X_train, y_train)\n",
    "\n",
    "predicted = model2.predict(X_test)\n",
    "matrix = confusion_matrix(y_test, predicted)\n",
    "print(matrix)\n",
    "report = classification_report(y_test, predicted)\n",
    "print(report)"
   ]
  },
  {
   "cell_type": "code",
   "execution_count": null,
   "id": "c1a4cd7f",
   "metadata": {},
   "outputs": [],
   "source": [
    "#transform confusion matrix into array\n",
    "#the matrix is stored in a vaiable called confmtrx\n",
    "confmtrx = np.array(matrix)\n",
    "#Create DataFrame from confmtrx array \n",
    "#rows for test: Churn, No_Churn designation as index \n",
    "#columns for preds: Pred_Churn, Pred_NoChurn as column\n",
    "pd.DataFrame(confmtrx, index=['Normal','KIRC'],\n",
    "columns=['Predicted_Normal', 'Predicted_KIRC', ])"
   ]
  },
  {
   "cell_type": "code",
   "execution_count": null,
   "id": "c391a361",
   "metadata": {},
   "outputs": [],
   "source": [
    "y_pred_proba = model2.predict_proba(X_test)[::,1]\n",
    "fpr2, tpr2, _ = metrics.roc_curve(y_test,  y_pred_proba)\n",
    "auc2 = metrics.roc_auc_score(y_test, y_pred_proba)\n",
    "\n",
    "#create ROC curve\n",
    "plt.plot(fpr,tpr,label=\"Validation=\"+str(round(roc_auc, 4)),color=\"#FF0000\", linewidth=3, linestyle='dashed')\n",
    "plt.plot(fpr2,tpr2,label=\"Test=\"+str(round(auc2, 4)),color=\"#FF0000\", linewidth=3)\n",
    "plt.ylabel('True Positive Rate')\n",
    "plt.xlabel('False Positive Rate')\n",
    "plt.legend(loc=4)\n",
    "plt.title(\"KIRC vs. OTHER ROC Curve (tumor only data)\")\n",
    "plt.show()"
   ]
  },
  {
   "cell_type": "markdown",
   "id": "a5f18154",
   "metadata": {},
   "source": [
    "# Log Reg for Subtyping KIRP (Tumor Only Dataset):"
   ]
  },
  {
   "cell_type": "code",
   "execution_count": null,
   "id": "c9acc76b",
   "metadata": {},
   "outputs": [],
   "source": [
    "df_temp = df_clin_meth.iloc[205:,:]\n",
    "#pd.concat([df_clin_meth.iloc[0:5,:], df_clin_meth.iloc[205:210,:]])"
   ]
  },
  {
   "cell_type": "code",
   "execution_count": null,
   "id": "b2ba4ea3",
   "metadata": {},
   "outputs": [],
   "source": [
    "listy = df_temp[\"subtype\"].tolist()"
   ]
  },
  {
   "cell_type": "code",
   "execution_count": null,
   "id": "9cd970f8",
   "metadata": {},
   "outputs": [],
   "source": [
    "labels = []\n",
    "for i in range(0, len(listy)):\n",
    "    if(listy[i] == \"kirp\"):\n",
    "        labels.append(1)\n",
    "    else:\n",
    "        labels.append(0)"
   ]
  },
  {
   "cell_type": "code",
   "execution_count": null,
   "id": "fcd8ce62",
   "metadata": {},
   "outputs": [],
   "source": [
    "X = df_temp.loc[:, ['cg00204802', 'cg01623261', 'cg00263677', 'cg04125586','cg02748089','cg02772121','cg02670123', 'cg08435683']].dropna(axis=1) # Features\n",
    "y = labels # Target variable"
   ]
  },
  {
   "cell_type": "code",
   "execution_count": null,
   "id": "a11d0bdf",
   "metadata": {},
   "outputs": [],
   "source": [
    "# 5 folds selected\n",
    "kfold = KFold(n_splits=5, random_state=0, shuffle=True)\n",
    "model = LogisticRegression(solver='liblinear')\n",
    "results = cross_val_score(model, X, y, cv=kfold)\n",
    "print(results)\n",
    "# Output the accuracy. Calculate the mean and std across all folds. \n",
    "print(\"Accuracy: %.3f%% (%.3f%%)\" % (results.mean()*100.0, results.std()*100.0))"
   ]
  },
  {
   "cell_type": "code",
   "execution_count": null,
   "id": "7dc6bf69",
   "metadata": {},
   "outputs": [],
   "source": [
    "from sklearn.metrics import roc_curve,auc\n",
    "from scipy import interp\n",
    "tprs = []\n",
    "aucs = []\n",
    "mean_fpr = np.linspace(0,1,100)\n",
    "i = 1\n",
    "for train,test in kfold.split(X,y):\n",
    "    prediction = model.fit(X,y).predict_proba(X)\n",
    "    fpr, tpr, t = roc_curve(y, prediction[:, 1])\n",
    "    tprs.append(interp(mean_fpr, fpr, tpr))\n",
    "    roc_auc = auc(fpr, tpr)\n",
    "    aucs.append(roc_auc)\n",
    "    #plt.plot(fpr, tpr, lw=2, alpha=0.3, label='ROC fold %d (AUC = %0.2f)' % (i, roc_auc))\n",
    "    i= i+1\n",
    "\n",
    "plt.plot([0,1],[0,1],linestyle = '--',lw = 2,color = 'black')\n",
    "mean_tpr = np.mean(tprs, axis=0)\n",
    "mean_auc = auc(mean_fpr, mean_tpr)\n",
    "plt.plot(mean_fpr, mean_tpr, color='blue',\n",
    "         label=r'Mean ROC (AUC = %0.2f )' % (mean_auc),lw=2, alpha=1)\n",
    "\n",
    "plt.xlabel('False Positive Rate')\n",
    "plt.ylabel('True Positive Rate')\n",
    "plt.title('K-Fold Validation for KIRC vs. OTHER ROC Curve (including normal data))')\n",
    "plt.legend(loc=\"lower right\")\n",
    "plt.text(0.32,0.7,'More accurate area',fontsize = 12)\n",
    "plt.text(0.63,0.4,'Less accurate area',fontsize = 12)\n",
    "plt.show()"
   ]
  },
  {
   "cell_type": "code",
   "execution_count": null,
   "id": "f1f27114",
   "metadata": {},
   "outputs": [],
   "source": [
    "test_size = 0.5\n",
    "seed = 0\n",
    "\n",
    "from sklearn.model_selection import train_test_split\n",
    "\n",
    "X_train, X_test, y_train, y_test = train_test_split(X, y, test_size=test_size,\n",
    "random_state=seed)\n",
    "\n",
    "model2 = LogisticRegression(solver='liblinear')\n",
    "model2.fit(X_train, y_train)\n",
    "\n",
    "predicted = model2.predict(X_test)\n",
    "matrix = confusion_matrix(y_test, predicted)\n",
    "print(matrix)\n",
    "report = classification_report(y_test, predicted)\n",
    "print(report)"
   ]
  },
  {
   "cell_type": "code",
   "execution_count": null,
   "id": "e941ebc6",
   "metadata": {},
   "outputs": [],
   "source": [
    "y_pred_proba = model2.predict_proba(X_test)[::,1]\n",
    "fpr2, tpr2, _ = metrics.roc_curve(y_test,  y_pred_proba)\n",
    "auc2 = metrics.roc_auc_score(y_test, y_pred_proba)\n",
    "\n",
    "#create ROC curve\n",
    "plt.plot(fpr,tpr,label=\"Validation=\"+str(round(roc_auc, 4)),color=\"#7E2E1F\", linewidth=3, linestyle='dashed')\n",
    "plt.plot(fpr2,tpr2,label=\"Test=\"+str(round(auc2, 4)),color=\"#7E2E1F\", linewidth=3)\n",
    "plt.ylabel('True Positive Rate')\n",
    "plt.xlabel('False Positive Rate')\n",
    "plt.legend(loc=4)\n",
    "plt.title(\"KIRP vs. OTHER ROC Curve (tumor only data)\")\n",
    "plt.show()"
   ]
  },
  {
   "cell_type": "code",
   "execution_count": null,
   "id": "36e370b0",
   "metadata": {},
   "outputs": [],
   "source": []
  },
  {
   "cell_type": "code",
   "execution_count": null,
   "id": "f1380ded",
   "metadata": {},
   "outputs": [],
   "source": [
    "#df_clin_meth.drop[['cg0876543', 'cg9056743']]"
   ]
  },
  {
   "cell_type": "markdown",
   "id": "7fc7ddd6",
   "metadata": {},
   "source": [
    "# KICH or Not? (Using all the data, real world simulation):"
   ]
  },
  {
   "cell_type": "code",
   "execution_count": null,
   "id": "89d6e045",
   "metadata": {},
   "outputs": [],
   "source": [
    "df_temp = df_clin_meth"
   ]
  },
  {
   "cell_type": "code",
   "execution_count": null,
   "id": "34e3de84",
   "metadata": {},
   "outputs": [],
   "source": [
    "listy = df_temp[\"subtype\"].tolist()"
   ]
  },
  {
   "cell_type": "code",
   "execution_count": null,
   "id": "3910aeaf",
   "metadata": {},
   "outputs": [],
   "source": [
    "labels = []\n",
    "for i in range(0, len(listy)):\n",
    "    if(listy[i] == \"kich\"):\n",
    "        labels.append(1)\n",
    "    else:\n",
    "        labels.append(0)"
   ]
  },
  {
   "cell_type": "code",
   "execution_count": null,
   "id": "74bb35ff",
   "metadata": {},
   "outputs": [],
   "source": [
    "X = df_temp.loc[:, ['cg06607764', 'cg00713400', 'cg07355189','cg06330323','cg00716257','cg07600533','cg00849267','cg04972436','cg06474225','cg02578087','cg02952295','cg01890836','cg05343811','cg07093324','cg03063658','cg02326386',]].dropna(axis=1) # Features\n",
    "y = labels # Target variable"
   ]
  },
  {
   "cell_type": "code",
   "execution_count": null,
   "id": "6da24878",
   "metadata": {},
   "outputs": [],
   "source": [
    "# 5 folds selected\n",
    "kfold = KFold(n_splits=5, random_state=0, shuffle=True)\n",
    "model = LogisticRegression(solver='liblinear')\n",
    "results = cross_val_score(model, X, y, cv=kfold)\n",
    "print(results)\n",
    "# Output the accuracy. Calculate the mean and std across all folds. \n",
    "print(\"Accuracy: %.3f%% (%.3f%%)\" % (results.mean()*100.0, results.std()*100.0))"
   ]
  },
  {
   "cell_type": "code",
   "execution_count": null,
   "id": "f8ceb9bd",
   "metadata": {},
   "outputs": [],
   "source": [
    "from sklearn.metrics import roc_curve,auc\n",
    "from scipy import interp\n",
    "tprs = []\n",
    "aucs = []\n",
    "mean_fpr = np.linspace(0,1,100)\n",
    "i = 1\n",
    "for train,test in kfold.split(X,y):\n",
    "    prediction = model.fit(X,y).predict_proba(X)\n",
    "    fpr, tpr, t = roc_curve(y, prediction[:, 1])\n",
    "    tprs.append(interp(mean_fpr, fpr, tpr))\n",
    "    roc_auc = auc(fpr, tpr)\n",
    "    aucs.append(roc_auc)\n",
    "    #plt.plot(fpr, tpr, lw=2, alpha=0.3, label='ROC fold %d (AUC = %0.2f)' % (i, roc_auc))\n",
    "    i= i+1\n",
    "\n",
    "plt.plot([0,1],[0,1],linestyle = '--',lw = 2,color = 'black')\n",
    "mean_tpr = np.mean(tprs, axis=0)\n",
    "mean_auc = auc(mean_fpr, mean_tpr)\n",
    "plt.plot(mean_fpr, mean_tpr, color='blue',\n",
    "         label=r'Mean ROC (AUC = %0.2f )' % (mean_auc),lw=2, alpha=1)\n",
    "\n",
    "plt.xlabel('False Positive Rate')\n",
    "plt.ylabel('True Positive Rate')\n",
    "plt.title('K-Fold Validation for KIRC vs. OTHER ROC Curve (including normal data))')\n",
    "plt.legend(loc=\"lower right\")\n",
    "plt.text(0.32,0.7,'More accurate area',fontsize = 12)\n",
    "plt.text(0.63,0.4,'Less accurate area',fontsize = 12)\n",
    "plt.show()"
   ]
  },
  {
   "cell_type": "code",
   "execution_count": null,
   "id": "0f404954",
   "metadata": {},
   "outputs": [],
   "source": [
    "test_size = 0.5\n",
    "seed = 0\n",
    "\n",
    "from sklearn.model_selection import train_test_split\n",
    "\n",
    "X_train, X_test, y_train, y_test = train_test_split(X, y, test_size=test_size,\n",
    "random_state=seed)\n",
    "\n",
    "model2 = LogisticRegression(solver='liblinear')\n",
    "model2.fit(X_train, y_train)\n",
    "\n",
    "predicted = model2.predict(X_test)\n",
    "matrix = confusion_matrix(y_test, predicted)\n",
    "print(matrix)\n",
    "report = classification_report(y_test, predicted)\n",
    "print(report)"
   ]
  },
  {
   "cell_type": "code",
   "execution_count": null,
   "id": "ba8d5e2c",
   "metadata": {},
   "outputs": [],
   "source": [
    "y_pred_proba = model2.predict_proba(X_test)[::,1]\n",
    "fpr2, tpr2, _ = metrics.roc_curve(y_test,  y_pred_proba)\n",
    "auc2 = metrics.roc_auc_score(y_test, y_pred_proba)\n",
    "\n",
    "#create ROC curve\n",
    "plt.plot(fpr,tpr,label=\"Validation=\"+str(round(roc_auc, 4)),color=\"#FFA026\", linewidth=3, linestyle='dashed')\n",
    "plt.plot(fpr2,tpr2,label=\"Test=\"+str(round(auc2, 4)),color=\"#FFA026\", linewidth=3)\n",
    "plt.ylabel('True Positive Rate')\n",
    "plt.xlabel('False Positive Rate')\n",
    "plt.legend(loc=4)\n",
    "plt.title(\"KICH vs. OTHER ROC Curve (including normal data)\")\n",
    "plt.show()"
   ]
  },
  {
   "cell_type": "markdown",
   "id": "792610dd",
   "metadata": {},
   "source": [
    "# KIRC or Not? (Using all the data, real world simulation):"
   ]
  },
  {
   "cell_type": "code",
   "execution_count": null,
   "id": "c0a2ad05",
   "metadata": {},
   "outputs": [],
   "source": [
    "df_temp = df_clin_meth"
   ]
  },
  {
   "cell_type": "code",
   "execution_count": null,
   "id": "95e36c9f",
   "metadata": {},
   "outputs": [],
   "source": [
    "listy = df_temp[\"subtype\"].tolist()"
   ]
  },
  {
   "cell_type": "code",
   "execution_count": null,
   "id": "44624543",
   "metadata": {},
   "outputs": [],
   "source": [
    "labels = []\n",
    "for i in range(0, len(listy)):\n",
    "    if(listy[i] == \"kirc\"):\n",
    "        labels.append(1)\n",
    "    else:\n",
    "        labels.append(0)"
   ]
  },
  {
   "cell_type": "code",
   "execution_count": null,
   "id": "62723883",
   "metadata": {},
   "outputs": [],
   "source": [
    "X = df_temp.loc[:, ['cg06607764', 'cg00713400', 'cg07355189','cg06330323','cg00716257','cg07600533','cg00849267','cg04972436','cg06474225','cg02578087','cg02952295','cg01890836','cg05343811','cg07093324','cg03063658','cg02326386',]].dropna(axis=1) # Features\n",
    "y = labels # Target variable"
   ]
  },
  {
   "cell_type": "code",
   "execution_count": null,
   "id": "2535e2d9",
   "metadata": {},
   "outputs": [],
   "source": [
    "# 5 folds selected\n",
    "kfold = KFold(n_splits=5, random_state=0, shuffle=True)\n",
    "model = LogisticRegression(solver='liblinear')\n",
    "results = cross_val_score(model, X, y, cv=kfold)\n",
    "print(results)\n",
    "# Output the accuracy. Calculate the mean and std across all folds. \n",
    "print(\"Accuracy: %.3f%% (%.3f%%)\" % (results.mean()*100.0, results.std()*100.0))"
   ]
  },
  {
   "cell_type": "code",
   "execution_count": null,
   "id": "30cf3a0f",
   "metadata": {},
   "outputs": [],
   "source": [
    "from sklearn.metrics import roc_curve,auc\n",
    "from scipy import interp\n",
    "tprs = []\n",
    "aucs = []\n",
    "mean_fpr = np.linspace(0,1,100)\n",
    "i = 1\n",
    "for train,test in kfold.split(X,y):\n",
    "    prediction = model.fit(X,y).predict_proba(X)\n",
    "    fpr, tpr, t = roc_curve(y, prediction[:, 1])\n",
    "    tprs.append(interp(mean_fpr, fpr, tpr))\n",
    "    roc_auc = auc(fpr, tpr)\n",
    "    aucs.append(roc_auc)\n",
    "    #plt.plot(fpr, tpr, lw=2, alpha=0.3, label='ROC fold %d (AUC = %0.2f)' % (i, roc_auc))\n",
    "    i= i+1\n",
    "\n",
    "plt.plot([0,1],[0,1],linestyle = '--',lw = 2,color = 'black')\n",
    "mean_tpr = np.mean(tprs, axis=0)\n",
    "mean_auc = auc(mean_fpr, mean_tpr)\n",
    "plt.plot(mean_fpr, mean_tpr, color='blue',\n",
    "         label=r'Mean ROC (AUC = %0.2f )' % (mean_auc),lw=2, alpha=1)\n",
    "\n",
    "plt.xlabel('False Positive Rate')\n",
    "plt.ylabel('True Positive Rate')\n",
    "plt.title('K-Fold Validation for KIRC vs. OTHER ROC Curve (including normal data))')\n",
    "plt.legend(loc=\"lower right\")\n",
    "plt.text(0.32,0.7,'More accurate area',fontsize = 12)\n",
    "plt.text(0.63,0.4,'Less accurate area',fontsize = 12)\n",
    "plt.show()"
   ]
  },
  {
   "cell_type": "code",
   "execution_count": null,
   "id": "fb656938",
   "metadata": {},
   "outputs": [],
   "source": [
    "test_size = 0.5\n",
    "seed = 0\n",
    "\n",
    "from sklearn.model_selection import train_test_split\n",
    "\n",
    "X_train, X_test, y_train, y_test = train_test_split(X, y, test_size=test_size,\n",
    "random_state=seed)\n",
    "\n",
    "model2 = LogisticRegression(solver='liblinear')\n",
    "model2.fit(X_train, y_train)\n",
    "\n",
    "predicted = model2.predict(X_test)\n",
    "matrix = confusion_matrix(y_test, predicted)\n",
    "print(matrix)\n",
    "report = classification_report(y_test, predicted)\n",
    "print(report)"
   ]
  },
  {
   "cell_type": "code",
   "execution_count": null,
   "id": "cfc04260",
   "metadata": {},
   "outputs": [],
   "source": [
    "y_pred_proba = model2.predict_proba(X_test)[::,1]\n",
    "fpr2, tpr2, _ = metrics.roc_curve(y_test,  y_pred_proba)\n",
    "auc2 = metrics.roc_auc_score(y_test, y_pred_proba)\n",
    "\n",
    "#create ROC curve\n",
    "plt.plot(fpr,tpr,label=\"Validation=\"+str(round(roc_auc, 4)),color=\"#FF0000\", linewidth=3, linestyle='dashed')\n",
    "plt.plot(fpr2,tpr2,label=\"Test=\"+str(round(auc2, 4)),color=\"#FF0000\", linewidth=3)\n",
    "plt.ylabel('True Positive Rate')\n",
    "plt.xlabel('False Positive Rate')\n",
    "plt.legend(loc=4)\n",
    "plt.title(\"KIRC vs. OTHER ROC Curve (including normal data)\")\n",
    "plt.show()"
   ]
  },
  {
   "cell_type": "markdown",
   "id": "89e2942e",
   "metadata": {},
   "source": [
    "# KIRP or Not? (Using all the data, real world simulation):"
   ]
  },
  {
   "cell_type": "code",
   "execution_count": null,
   "id": "13437fc3",
   "metadata": {},
   "outputs": [],
   "source": [
    "df_temp = df_clin_meth.dropna(axis=1)"
   ]
  },
  {
   "cell_type": "code",
   "execution_count": null,
   "id": "61029574",
   "metadata": {},
   "outputs": [],
   "source": [
    "listy = df_temp[\"subtype\"].tolist()"
   ]
  },
  {
   "cell_type": "code",
   "execution_count": null,
   "id": "e6057fa1",
   "metadata": {},
   "outputs": [],
   "source": [
    "labels = []\n",
    "for i in range(0, len(listy)):\n",
    "    if(listy[i] == \"kirp\"):\n",
    "        labels.append(1)\n",
    "    else:\n",
    "        labels.append(0)"
   ]
  },
  {
   "cell_type": "code",
   "execution_count": null,
   "id": "764ba7a8",
   "metadata": {},
   "outputs": [],
   "source": [
    "df_temp[\"subtype_encoded\"] = labels"
   ]
  },
  {
   "cell_type": "code",
   "execution_count": null,
   "id": "09cbffb4",
   "metadata": {},
   "outputs": [],
   "source": [
    "X = df_temp.loc[:, ['cg06607764', 'cg00713400', 'cg07355189','cg06330323','cg00716257','cg07600533','cg00849267','cg04972436','cg06474225','cg02578087','cg02952295','cg01890836','cg05343811','cg07093324','cg03063658','cg02326386',]].dropna(axis=1) # Features\n",
    "y = labels # Target variable"
   ]
  },
  {
   "cell_type": "code",
   "execution_count": null,
   "id": "322be0a7",
   "metadata": {},
   "outputs": [],
   "source": [
    "# 5 folds selected\n",
    "kfold = KFold(n_splits=5, random_state=0, shuffle=True)\n",
    "model = LogisticRegression(solver='liblinear')\n",
    "results = cross_val_score(model, X, y, cv=kfold)\n",
    "print(results)\n",
    "# Output the accuracy. Calculate the mean and std across all folds. \n",
    "print(\"Accuracy: %.3f%% (%.3f%%)\" % (results.mean()*100.0, results.std()*100.0))"
   ]
  },
  {
   "cell_type": "code",
   "execution_count": null,
   "id": "17a72101",
   "metadata": {},
   "outputs": [],
   "source": [
    "from sklearn.metrics import roc_curve,auc\n",
    "from scipy import interp\n",
    "tprs = []\n",
    "aucs = []\n",
    "mean_fpr = np.linspace(0,1,100)\n",
    "i = 1\n",
    "for train,test in kfold.split(X,y):\n",
    "    prediction = model.fit(X,y).predict_proba(X)\n",
    "    fpr, tpr, t = roc_curve(y, prediction[:, 1])\n",
    "    tprs.append(interp(mean_fpr, fpr, tpr))\n",
    "    roc_auc = auc(fpr, tpr)\n",
    "    aucs.append(roc_auc)\n",
    "    #plt.plot(fpr, tpr, lw=2, alpha=0.3, label='ROC fold %d (AUC = %0.2f)' % (i, roc_auc))\n",
    "    i= i+1\n",
    "\n",
    "plt.plot([0,1],[0,1],linestyle = '--',lw = 2,color = 'black')\n",
    "mean_tpr = np.mean(tprs, axis=0)\n",
    "mean_auc = auc(mean_fpr, mean_tpr)\n",
    "plt.plot(mean_fpr, mean_tpr, color='blue',\n",
    "         label=r'Mean ROC (AUC = %0.2f )' % (mean_auc),lw=2, alpha=1)\n",
    "\n",
    "plt.xlabel('False Positive Rate')\n",
    "plt.ylabel('True Positive Rate')\n",
    "plt.title('K-Fold Validation for LTS vs. STS (2yr)')\n",
    "plt.legend(loc=\"lower right\")\n",
    "plt.text(0.32,0.7,'More accurate area',fontsize = 12)\n",
    "plt.text(0.63,0.4,'Less accurate area',fontsize = 12)\n",
    "plt.show()\n",
    "\n",
    "#change the legend to match"
   ]
  },
  {
   "cell_type": "code",
   "execution_count": null,
   "id": "a9417aab",
   "metadata": {},
   "outputs": [],
   "source": [
    "test_size = 0.5\n",
    "seed = 0\n",
    "\n",
    "from sklearn.model_selection import train_test_split\n",
    "\n",
    "X_train, X_test, y_train, y_test = train_test_split(X, y, test_size=test_size,\n",
    "random_state=seed)\n",
    "\n",
    "model2 = LogisticRegression(solver='liblinear')\n",
    "model2.fit(X_train, y_train)\n",
    "\n",
    "predicted = model2.predict(X_test)\n",
    "matrix = confusion_matrix(y_test, predicted)\n",
    "print(matrix)\n",
    "report = classification_report(y_test, predicted)\n",
    "print(report)"
   ]
  },
  {
   "cell_type": "code",
   "execution_count": null,
   "id": "78af4268",
   "metadata": {},
   "outputs": [],
   "source": [
    "#transform confusion matrix into array\n",
    "#the matrix is stored in a vaiable called confmtrx\n",
    "confmtrx = np.array(matrix)\n",
    "#Create DataFrame from confmtrx array \n",
    "#rows for test: Churn, No_Churn designation as index \n",
    "#columns for preds: Pred_Churn, Pred_NoChurn as column\n",
    "pd.DataFrame(confmtrx, index=['Not_KIRP','KIRP'],\n",
    "columns=['Predicted_Not_KIRP', 'Predicted_KIRP', ])"
   ]
  },
  {
   "cell_type": "code",
   "execution_count": null,
   "id": "ed3f8b9a",
   "metadata": {},
   "outputs": [],
   "source": [
    "#define metrics\n",
    "\n",
    "\n",
    "#define metrics\n",
    "\n",
    "y_pred_proba = model2.predict_proba(X_test)[::,1]\n",
    "fpr2, tpr2, _ = metrics.roc_curve(y_test,  y_pred_proba)\n",
    "auc2 = metrics.roc_auc_score(y_test, y_pred_proba)\n",
    "\n",
    "#create ROC curve\n",
    "plt.plot(fpr,tpr,label=\"Validation=\"+str(round(roc_auc, 4)),color=\"#7E2E1F\", linewidth=3, linestyle='dashed')\n",
    "plt.plot(fpr2,tpr2,label=\"Test=\"+str(round(auc2, 4)),color=\"#7E2E1F\", linewidth=3)\n",
    "plt.ylabel('True Positive Rate')\n",
    "plt.xlabel('False Positive Rate')\n",
    "plt.legend(loc=4)\n",
    "plt.title(\"KIRP vs. OTHER ROC Curve (including normal data)\")\n",
    "plt.show()"
   ]
  },
  {
   "cell_type": "code",
   "execution_count": null,
   "id": "fe401b5d",
   "metadata": {},
   "outputs": [],
   "source": [
    "#df_temp.head(10)"
   ]
  },
  {
   "cell_type": "code",
   "execution_count": null,
   "id": "aa9b011b",
   "metadata": {},
   "outputs": [],
   "source": []
  },
  {
   "cell_type": "markdown",
   "id": "4d0c7a43",
   "metadata": {},
   "source": [
    "# normal and kich LR"
   ]
  },
  {
   "cell_type": "code",
   "execution_count": null,
   "id": "743338e0",
   "metadata": {},
   "outputs": [],
   "source": [
    "df_temp = df_clin_meth.sort_values(by=['subtype']).iloc[0:271, :].dropna(axis=1)"
   ]
  },
  {
   "cell_type": "code",
   "execution_count": null,
   "id": "17c193c5",
   "metadata": {},
   "outputs": [],
   "source": [
    "listy = df_temp[\"subtype\"].tolist()"
   ]
  },
  {
   "cell_type": "code",
   "execution_count": null,
   "id": "1ab922dc",
   "metadata": {},
   "outputs": [],
   "source": [
    "labels = []\n",
    "for i in range(0, len(listy)):\n",
    "    if(listy[i] == \"kich\"):\n",
    "        labels.append(1)\n",
    "    else:\n",
    "        labels.append(0)"
   ]
  },
  {
   "cell_type": "code",
   "execution_count": null,
   "id": "db19143e",
   "metadata": {},
   "outputs": [],
   "source": [
    "df_temp[\"subtype_encoded\"] = labels"
   ]
  },
  {
   "cell_type": "code",
   "execution_count": null,
   "id": "6987d3d7",
   "metadata": {},
   "outputs": [],
   "source": [
    "#do i have to find special diff methylated...if i do i will actually die on a hill bro\n",
    "X = df_temp.loc[:, ['cg06607764', 'cg00713400', 'cg07355189','cg06330323','cg00716257','cg07600533',]].dropna(axis=1) # Features\n",
    "y = labels # Target variable"
   ]
  },
  {
   "cell_type": "code",
   "execution_count": null,
   "id": "08da7d92",
   "metadata": {},
   "outputs": [],
   "source": [
    "# 5 folds selected\n",
    "kfold = KFold(n_splits=5, random_state=0, shuffle=True)\n",
    "model = LogisticRegression(solver='liblinear')\n",
    "results = cross_val_score(model, X, y, cv=kfold)\n",
    "print(results)\n",
    "# Output the accuracy. Calculate the mean and std across all folds. \n",
    "print(\"Accuracy: %.3f%% (%.3f%%)\" % (results.mean()*100.0, results.std()*100.0))"
   ]
  },
  {
   "cell_type": "code",
   "execution_count": null,
   "id": "181e23b0",
   "metadata": {},
   "outputs": [],
   "source": [
    "from sklearn.metrics import roc_curve,auc\n",
    "from scipy import interp\n",
    "tprs = []\n",
    "aucs = []\n",
    "mean_fpr = np.linspace(0,1,100)\n",
    "i = 1\n",
    "for train,test in kfold.split(X,y):\n",
    "    prediction = model.fit(X,y).predict_proba(X)\n",
    "    fpr, tpr, t = roc_curve(y, prediction[:, 1])\n",
    "    tprs.append(interp(mean_fpr, fpr, tpr))\n",
    "    roc_auc = auc(fpr, tpr)\n",
    "    aucs.append(roc_auc)\n",
    "    #plt.plot(fpr, tpr, lw=2, alpha=0.3, label='ROC fold %d (AUC = %0.2f)' % (i, roc_auc))\n",
    "    i= i+1\n",
    "\n",
    "plt.plot([0,1],[0,1],linestyle = '--',lw = 2,color = 'black')\n",
    "mean_tpr = np.mean(tprs, axis=0)\n",
    "mean_auc = auc(mean_fpr, mean_tpr)\n",
    "plt.plot(mean_fpr, mean_tpr, color='blue',\n",
    "         label=r'Mean ROC (AUC = %0.2f )' % (mean_auc),lw=2, alpha=1)\n",
    "\n",
    "plt.xlabel('False Positive Rate')\n",
    "plt.ylabel('True Positive Rate')\n",
    "plt.title('K-Fold Validation for Normal and KICH LR')\n",
    "plt.legend(loc=\"lower right\")\n",
    "plt.text(0.32,0.7,'More accurate area',fontsize = 12)\n",
    "plt.text(0.63,0.4,'Less accurate area',fontsize = 12)\n",
    "plt.show()\n",
    "\n",
    "#change the legend to match"
   ]
  },
  {
   "cell_type": "code",
   "execution_count": null,
   "id": "347be252",
   "metadata": {},
   "outputs": [],
   "source": [
    "test_size = 0.8\n",
    "seed = 0\n",
    "\n",
    "from sklearn.model_selection import train_test_split\n",
    "\n",
    "X_train, X_test, y_train, y_test = train_test_split(X, y, test_size=test_size,\n",
    "random_state=seed)\n",
    "\n",
    "model2 = LogisticRegression(solver='liblinear')\n",
    "model2.fit(X_train, y_train)\n",
    "\n",
    "predicted = model2.predict(X_test)\n",
    "matrix = confusion_matrix(y_test, predicted)\n",
    "print(matrix)\n",
    "report = classification_report(y_test, predicted)\n",
    "print(report)"
   ]
  },
  {
   "cell_type": "code",
   "execution_count": null,
   "id": "418c6559",
   "metadata": {},
   "outputs": [],
   "source": [
    "#define metrics\n",
    "\n",
    "y_pred_proba = model2.predict_proba(X_test)[::,1]\n",
    "fpr2, tpr2, _ = metrics.roc_curve(y_test,  y_pred_proba)\n",
    "auc2 = metrics.roc_auc_score(y_test, y_pred_proba)\n",
    "\n",
    "#create ROC curve\n",
    "plt.plot(fpr,tpr,label=\"Validation=\"+str(round(roc_auc, 4)),color=\"#238C3F\", linewidth=3, linestyle='dashed')\n",
    "plt.plot(fpr2,tpr2,label=\"Test=\"+str(round(auc2, 4)),color=\"#3D03FC\", linewidth=3)\n",
    "plt.ylabel('True Positive Rate')\n",
    "plt.xlabel('False Positive Rate')\n",
    "plt.legend(loc=4)\n",
    "plt.title(\"Normal and KICH LR seperation (using only Normal and KICH)\")\n",
    "plt.show()"
   ]
  },
  {
   "cell_type": "code",
   "execution_count": null,
   "id": "8b195e72",
   "metadata": {},
   "outputs": [],
   "source": []
  },
  {
   "cell_type": "code",
   "execution_count": null,
   "id": "c333d9b3",
   "metadata": {},
   "outputs": [],
   "source": [
    "df_temp = df_clin_meth.sort_values(by=['subtype'])"
   ]
  },
  {
   "cell_type": "code",
   "execution_count": null,
   "id": "57d65f2d",
   "metadata": {},
   "outputs": [],
   "source": [
    "df_temp_1 = df_temp.iloc[0:205, :]"
   ]
  },
  {
   "cell_type": "code",
   "execution_count": null,
   "id": "53a47859",
   "metadata": {},
   "outputs": [],
   "source": [
    "df_temp_2 = df_temp.iloc[271:590, :]"
   ]
  },
  {
   "cell_type": "code",
   "execution_count": null,
   "id": "cb55e589",
   "metadata": {},
   "outputs": [],
   "source": [
    "df_temp = pd.concat([df_temp_1, df_temp_2], axis=0).dropna(axis=1)\n",
    "df_temp.index"
   ]
  },
  {
   "cell_type": "code",
   "execution_count": null,
   "id": "94c2f69d",
   "metadata": {},
   "outputs": [],
   "source": [
    "listy = df_temp[\"subtype\"].tolist()"
   ]
  },
  {
   "cell_type": "code",
   "execution_count": null,
   "id": "5eb916ac",
   "metadata": {},
   "outputs": [],
   "source": [
    "labels = []\n",
    "for i in range(0, len(listy)):\n",
    "    if(listy[i] == \"kirc\"):\n",
    "        labels.append(1)\n",
    "    else:\n",
    "        labels.append(0)"
   ]
  },
  {
   "cell_type": "code",
   "execution_count": null,
   "id": "07a190e7",
   "metadata": {},
   "outputs": [],
   "source": [
    "df_temp[\"subtype_encoded\"] = labels"
   ]
  },
  {
   "cell_type": "code",
   "execution_count": null,
   "id": "5af93a53",
   "metadata": {},
   "outputs": [],
   "source": [
    "#do i have to find special diff methylated...if i do i will actually die on a hill bro\n",
    "X = df_temp.loc[:, ['cg07355189']].dropna(axis=1) # Features\n",
    "y = labels # Target variable"
   ]
  },
  {
   "cell_type": "code",
   "execution_count": null,
   "id": "67852489",
   "metadata": {},
   "outputs": [],
   "source": [
    "# 5 folds selected\n",
    "kfold = KFold(n_splits=5, random_state=0, shuffle=True)\n",
    "model = LogisticRegression(solver='liblinear')\n",
    "results = cross_val_score(model, X, y, cv=kfold)\n",
    "print(results)\n",
    "# Output the accuracy. Calculate the mean and std across all folds. \n",
    "print(\"Accuracy: %.3f%% (%.3f%%)\" % (results.mean()*100.0, results.std()*100.0))"
   ]
  },
  {
   "cell_type": "code",
   "execution_count": null,
   "id": "c02de4d0",
   "metadata": {},
   "outputs": [],
   "source": [
    "from sklearn.metrics import roc_curve,auc\n",
    "from scipy import interp\n",
    "tprs = []\n",
    "aucs = []\n",
    "mean_fpr = np.linspace(0,1,100)\n",
    "i = 1\n",
    "for train,test in kfold.split(X,y):\n",
    "    prediction = model.fit(X,y).predict_proba(X)\n",
    "    fpr, tpr, t = roc_curve(y, prediction[:, 1])\n",
    "    tprs.append(interp(mean_fpr, fpr, tpr))\n",
    "    roc_auc = auc(fpr, tpr)\n",
    "    aucs.append(roc_auc)\n",
    "    #plt.plot(fpr, tpr, lw=2, alpha=0.3, label='ROC fold %d (AUC = %0.2f)' % (i, roc_auc))\n",
    "    i= i+1\n",
    "\n",
    "plt.plot([0,1],[0,1],linestyle = '--',lw = 2,color = 'black')\n",
    "mean_tpr = np.mean(tprs, axis=0)\n",
    "mean_auc = auc(mean_fpr, mean_tpr)\n",
    "plt.plot(mean_fpr, mean_tpr, color='blue',\n",
    "         label=r'Mean ROC (AUC = %0.2f )' % (mean_auc),lw=2, alpha=1)\n",
    "\n",
    "plt.xlabel('False Positive Rate')\n",
    "plt.ylabel('True Positive Rate')\n",
    "plt.title('K-Fold Validation for Normal and KIRC LR')\n",
    "plt.legend(loc=\"lower right\")\n",
    "plt.text(0.32,0.7,'More accurate area',fontsize = 12)\n",
    "plt.text(0.63,0.4,'Less accurate area',fontsize = 12)\n",
    "plt.show()\n",
    "\n",
    "#change the legend to match"
   ]
  },
  {
   "cell_type": "code",
   "execution_count": null,
   "id": "47422961",
   "metadata": {},
   "outputs": [],
   "source": [
    "test_size = 0.8\n",
    "seed = 0\n",
    "\n",
    "from sklearn.model_selection import train_test_split\n",
    "\n",
    "X_train, X_test, y_train, y_test = train_test_split(X, y, test_size=test_size,\n",
    "random_state=seed)\n",
    "\n",
    "model2 = LogisticRegression(solver='liblinear')\n",
    "model2.fit(X_train, y_train)\n",
    "\n",
    "predicted = model2.predict(X_test)\n",
    "matrix = confusion_matrix(y_test, predicted)\n",
    "print(matrix)\n",
    "report = classification_report(y_test, predicted)\n",
    "print(report)"
   ]
  },
  {
   "cell_type": "code",
   "execution_count": null,
   "id": "eba039f1",
   "metadata": {},
   "outputs": [],
   "source": [
    "#define metrics\n",
    "\n",
    "y_pred_proba = model2.predict_proba(X_test)[::,1]\n",
    "fpr2, tpr2, _ = metrics.roc_curve(y_test,  y_pred_proba)\n",
    "auc2 = metrics.roc_auc_score(y_test, y_pred_proba)\n",
    "\n",
    "#create ROC curve\n",
    "plt.plot(fpr,tpr,label=\"Validation=\"+str(round(roc_auc, 4)),color=\"#238C3F\", linewidth=3, linestyle='dashed')\n",
    "plt.plot(fpr2,tpr2,label=\"Test=\"+str(round(auc2, 4)),color=\"#3D03FC\", linewidth=3)\n",
    "plt.ylabel('True Positive Rate')\n",
    "plt.xlabel('False Positive Rate')\n",
    "plt.legend(loc=4)\n",
    "plt.title(\"Normal and KIRC LR seperation (using only Normal and KICH)\")\n",
    "plt.show()"
   ]
  },
  {
   "cell_type": "code",
   "execution_count": null,
   "id": "bac3a37c",
   "metadata": {},
   "outputs": [],
   "source": [
    "#biomarkers"
   ]
  },
  {
   "cell_type": "code",
   "execution_count": null,
   "id": "62653145",
   "metadata": {},
   "outputs": [],
   "source": [
    "df_clin_meth.head(10)"
   ]
  },
  {
   "cell_type": "code",
   "execution_count": null,
   "id": "b4234d7c",
   "metadata": {},
   "outputs": [],
   "source": []
  },
  {
   "cell_type": "code",
   "execution_count": null,
   "id": "2e90a7e9",
   "metadata": {},
   "outputs": [],
   "source": [
    "df_temp = df_clin_meth.sort_values(by=['subtype'])"
   ]
  },
  {
   "cell_type": "code",
   "execution_count": null,
   "id": "c1ab705d",
   "metadata": {},
   "outputs": [],
   "source": [
    "listy = df_temp[\"subtype\"].tolist()"
   ]
  },
  {
   "cell_type": "code",
   "execution_count": null,
   "id": "de9dd1cc",
   "metadata": {},
   "outputs": [],
   "source": [
    "labels = []\n",
    "for i in range(0, len(listy)):\n",
    "    if(listy[i] == \"kirc\"):\n",
    "        labels.append(2)\n",
    "    elif(listy[i] == \"kich\"):\n",
    "        labels.append(1)\n",
    "    elif(listy[i] == \"kirp\"):\n",
    "        labels.append(3)\n",
    "    else:\n",
    "        labels.append(0)"
   ]
  },
  {
   "cell_type": "code",
   "execution_count": null,
   "id": "816234a8",
   "metadata": {},
   "outputs": [],
   "source": [
    "df_temp[\"subtype_encoded\"] = labels"
   ]
  },
  {
   "cell_type": "code",
   "execution_count": null,
   "id": "1d2791a4",
   "metadata": {},
   "outputs": [],
   "source": [
    "#do i have to find special diff methylated...if i do i will actually die on a hill bro\n",
    "X = df_temp.loc[:, ['cg06607764', 'cg00713400', 'cg07355189','cg06330323','cg00716257','cg07600533','cg00849267','cg04972436','cg06474225','cg02578087','cg02952295','cg01890836','cg05343811','cg07093324','cg03063658','cg02326386',]].dropna(axis=1) # Features\n",
    "y = labels # Target variable"
   ]
  },
  {
   "cell_type": "code",
   "execution_count": null,
   "id": "12bba889",
   "metadata": {},
   "outputs": [],
   "source": [
    "from numpy import mean\n",
    "from numpy import std\n",
    "from sklearn.datasets import make_classification\n",
    "from sklearn.model_selection import cross_val_score\n",
    "from sklearn.model_selection import RepeatedStratifiedKFold\n",
    "from sklearn.linear_model import LogisticRegression\n",
    "# define the multinomial logistic regression model\n",
    "model = LogisticRegression(multi_class='multinomial', solver='lbfgs')\n",
    "# define the model evaluation procedure\n",
    "cv = KFold(n_splits=5, random_state=0, shuffle=True)\n",
    "# evaluate the model and collect the scores\n",
    "n_scores = cross_val_score(model, X, y, scoring='accuracy', cv=cv, n_jobs=-1)\n",
    "print(n_scores)\n",
    "# report the model performance\n",
    "print('Mean Accuracy: %.3f (%.3f)' % (mean(n_scores), std(n_scores)))"
   ]
  },
  {
   "cell_type": "code",
   "execution_count": null,
   "id": "109650d1",
   "metadata": {},
   "outputs": [],
   "source": [
    "# from sklearn.metrics import roc_curve,auc\n",
    "# from scipy import interp\n",
    "# tprs = []\n",
    "# aucs = []\n",
    "# mean_fpr = np.linspace(0,1,100)\n",
    "# i = 1\n",
    "# for train,test in kfold.split(X,y):\n",
    "#     prediction = model.fit(X,y).predict_proba(X)\n",
    "#     fpr, tpr, t = roc_curve(y, prediction[:, 1])\n",
    "#     tprs.append(interp(mean_fpr, fpr, tpr))\n",
    "#     roc_auc = auc(fpr, tpr)\n",
    "#     aucs.append(roc_auc)\n",
    "#     #plt.plot(fpr, tpr, lw=2, alpha=0.3, label='ROC fold %d (AUC = %0.2f)' % (i, roc_auc))\n",
    "#     i= i+1\n",
    "\n",
    "# plt.plot([0,1],[0,1],linestyle = '--',lw = 2,color = 'black')\n",
    "# mean_tpr = np.mean(tprs, axis=0)\n",
    "# mean_auc = auc(mean_fpr, mean_tpr)\n",
    "# plt.plot(mean_fpr, mean_tpr, color='blue',\n",
    "#          label=r'Mean ROC (AUC = %0.2f )' % (mean_auc),lw=2, alpha=1)\n",
    "\n",
    "# plt.xlabel('False Positive Rate')\n",
    "# plt.ylabel('True Positive Rate')\n",
    "# plt.title('K-Fold Validation for Normal and KIRC LR')\n",
    "# plt.legend(loc=\"lower right\")\n",
    "# plt.text(0.32,0.7,'More accurate area',fontsize = 12)\n",
    "# plt.text(0.63,0.4,'Less accurate area',fontsize = 12)\n",
    "# plt.show()"
   ]
  },
  {
   "cell_type": "code",
   "execution_count": null,
   "id": "f3c3691d",
   "metadata": {},
   "outputs": [],
   "source": [
    "test_size = 0.8\n",
    "seed = 0\n",
    "\n",
    "from sklearn.model_selection import train_test_split\n",
    "\n",
    "X_train, X_test, y_train, y_test = train_test_split(X, y, test_size=test_size,\n",
    "random_state=seed)\n",
    "\n",
    "model2 = LogisticRegression(multi_class='multinomial', solver='lbfgs')\n",
    "model2.fit(X_train, y_train)\n",
    "\n",
    "predicted = model2.predict(X_test)\n",
    "matrix = confusion_matrix(y_test, predicted)\n",
    "print(matrix)\n",
    "report = classification_report(y_test, predicted)\n",
    "print(report)"
   ]
  },
  {
   "cell_type": "code",
   "execution_count": null,
   "id": "d4035158",
   "metadata": {},
   "outputs": [],
   "source": [
    "# import matplotlib.pyplot as plt\n",
    "# from sklearn.metrics import RocCurveDisplay\n",
    "\n",
    "# y_pred_proba = model2.predict_proba(X_test)[::,1]\n",
    "# #fpr2, tpr2, _ = metrics.roc_curve(y_test,  y_pred_proba)\n",
    "# #auc2 = metrics.roc_auc_score(y_test, y_pred_proba)\n",
    "\n",
    "# RocCurveDisplay.from_predictions(\n",
    "#     y_test,\n",
    "#     y_pred_proba,\n",
    "#     name=\"normal vs the rest\",\n",
    "#     color=\"darkorange\",\n",
    "# )\n",
    "# plt.plot([0, 1], [0, 1], \"k--\", label=\"chance level (AUC = 0.5)\")\n",
    "# plt.axis(\"square\")\n",
    "# plt.xlabel(\"False Positive Rate\")\n",
    "# plt.ylabel(\"True Positive Rate\")\n",
    "# plt.title(\"One-vs-Rest ROC curves:\\nVirginica vs (Setosa & Versicolor)\")\n",
    "# plt.legend()\n",
    "# plt.show()"
   ]
  },
  {
   "cell_type": "code",
   "execution_count": null,
   "id": "4d6403ba",
   "metadata": {},
   "outputs": [],
   "source": []
  }
 ],
 "metadata": {
  "kernelspec": {
   "display_name": "Python 3 (ipykernel)",
   "language": "python",
   "name": "python3"
  },
  "language_info": {
   "codemirror_mode": {
    "name": "ipython",
    "version": 3
   },
   "file_extension": ".py",
   "mimetype": "text/x-python",
   "name": "python",
   "nbconvert_exporter": "python",
   "pygments_lexer": "ipython3",
   "version": "3.9.12"
  }
 },
 "nbformat": 4,
 "nbformat_minor": 5
}
