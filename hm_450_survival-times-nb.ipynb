{
 "cells": [
  {
   "cell_type": "markdown",
   "id": "1d7d7c4f",
   "metadata": {},
   "source": [
    "# Analysis of TCGA DNA Methylation Data and Clinical Data"
   ]
  },
  {
   "cell_type": "markdown",
   "id": "9bdab0a6",
   "metadata": {},
   "source": [
    "## Data Processing"
   ]
  },
  {
   "cell_type": "code",
   "execution_count": 39,
   "id": "6cac5edd",
   "metadata": {},
   "outputs": [
    {
     "name": "stdout",
     "output_type": "stream",
     "text": [
      "/Users/tanishagupta/GRIPS\r\n"
     ]
    }
   ],
   "source": [
    "import numpy as np # linear algebra\n",
    "import pandas as pd # data processing, CSV file I/O (e.g. pd.read_csv)\n",
    "import os\n",
    "from sklearn.preprocessing import LabelEncoder\n",
    "!pwd"
   ]
  },
  {
   "cell_type": "code",
   "execution_count": 40,
   "id": "60f8b57f",
   "metadata": {},
   "outputs": [],
   "source": [
    "#pulls raw KIPAN data from local drive and strips away unecessary information\n",
    "raw_clin_kipan = pd.read_csv('KIPAN.clin.merged.txt', sep='\\t', header=None ).T\n",
    "\n",
    "raw_clin_kipan.columns = raw_clin_kipan.iloc[0]\n",
    "raw_clin_kipan = raw_clin_kipan[1:]\n",
    "#raw_clin_kipan"
   ]
  },
  {
   "cell_type": "code",
   "execution_count": 41,
   "id": "f0dd826d",
   "metadata": {},
   "outputs": [],
   "source": [
    "#finds columns with \"barcode\" in the name. This is essential for finding the correct IDs to match with the methylation data. \n",
    "selected_columns = raw_clin_kipan.columns.to_numpy()[raw_clin_kipan.columns.str.contains('barcode')]\n",
    "#selected_columns = [ i for i in selected_columns if 'drug_barcode' not in i]\n",
    "selected_columns = [ i for i in selected_columns if '-' not in i]\n",
    "#selected_columns"
   ]
  },
  {
   "cell_type": "code",
   "execution_count": 42,
   "id": "97675291",
   "metadata": {},
   "outputs": [],
   "source": [
    "#selects only the data with the barcode titled columns\n",
    "raw_clin_kipan_barcode = raw_clin_kipan.loc[:,selected_columns]\n",
    "#raw_clin_kipan_barcode"
   ]
  },
  {
   "cell_type": "code",
   "execution_count": 43,
   "id": "e4befc1f",
   "metadata": {},
   "outputs": [],
   "source": [
    "#sets the new column names\n",
    "raw_clin_kipan_barcode.columns = [s.split('.')[-1] for s in selected_columns]\n",
    "#raw_clin_kipan_barcode"
   ]
  },
  {
   "cell_type": "code",
   "execution_count": 44,
   "id": "328bc2bd",
   "metadata": {},
   "outputs": [
    {
     "data": {
      "text/html": [
       "<div>\n",
       "<style scoped>\n",
       "    .dataframe tbody tr th:only-of-type {\n",
       "        vertical-align: middle;\n",
       "    }\n",
       "\n",
       "    .dataframe tbody tr th {\n",
       "        vertical-align: top;\n",
       "    }\n",
       "\n",
       "    .dataframe thead th {\n",
       "        text-align: right;\n",
       "    }\n",
       "</style>\n",
       "<table border=\"1\" class=\"dataframe\">\n",
       "  <thead>\n",
       "    <tr style=\"text-align: right;\">\n",
       "      <th></th>\n",
       "      <th>bcr_patient_barcode</th>\n",
       "      <th>bcr_sample_barcode</th>\n",
       "      <th>bcr_aliquot_barcode</th>\n",
       "      <th>bcr_analyte_barcode</th>\n",
       "      <th>bcr_portion_barcode</th>\n",
       "      <th>bcr_slide_barcode</th>\n",
       "    </tr>\n",
       "  </thead>\n",
       "  <tbody>\n",
       "    <tr>\n",
       "      <th>1</th>\n",
       "      <td>tcga-kl-8328</td>\n",
       "      <td>tcga-kl-8328-01a</td>\n",
       "      <td>tcga-kl-8328-01a-11d-2308-01</td>\n",
       "      <td>tcga-kl-8328-01a-11d</td>\n",
       "      <td>tcga-kl-8328-01a-11</td>\n",
       "      <td>tcga-kl-8328-01a-01-bs1</td>\n",
       "    </tr>\n",
       "    <tr>\n",
       "      <th>2</th>\n",
       "      <td>tcga-kl-8339</td>\n",
       "      <td>tcga-kl-8339-01a</td>\n",
       "      <td>tcga-kl-8339-01a-11d-2308-01</td>\n",
       "      <td>tcga-kl-8339-01a-11d</td>\n",
       "      <td>tcga-kl-8339-01a-11</td>\n",
       "      <td>tcga-kl-8339-01a-01-bs1</td>\n",
       "    </tr>\n",
       "    <tr>\n",
       "      <th>3</th>\n",
       "      <td>tcga-km-8439</td>\n",
       "      <td>tcga-km-8439-01a</td>\n",
       "      <td>tcga-km-8439-01a-11d-2308-01</td>\n",
       "      <td>tcga-km-8439-01a-11d</td>\n",
       "      <td>tcga-km-8439-01a-11</td>\n",
       "      <td>tcga-km-8439-01a-01-ts1</td>\n",
       "    </tr>\n",
       "    <tr>\n",
       "      <th>4</th>\n",
       "      <td>tcga-km-8441</td>\n",
       "      <td>tcga-km-8441-01a</td>\n",
       "      <td>tcga-km-8441-01a-11d-2308-01</td>\n",
       "      <td>tcga-km-8441-01a-11d</td>\n",
       "      <td>tcga-km-8441-01a-11</td>\n",
       "      <td>tcga-km-8441-01a-01-ts1</td>\n",
       "    </tr>\n",
       "    <tr>\n",
       "      <th>5</th>\n",
       "      <td>tcga-km-8442</td>\n",
       "      <td>tcga-km-8442-01a</td>\n",
       "      <td>tcga-km-8442-01a-11d-2308-01</td>\n",
       "      <td>tcga-km-8442-01a-11d</td>\n",
       "      <td>tcga-km-8442-01a-11</td>\n",
       "      <td>tcga-km-8442-01a-01-ts1</td>\n",
       "    </tr>\n",
       "    <tr>\n",
       "      <th>...</th>\n",
       "      <td>...</td>\n",
       "      <td>...</td>\n",
       "      <td>...</td>\n",
       "      <td>...</td>\n",
       "      <td>...</td>\n",
       "      <td>...</td>\n",
       "    </tr>\n",
       "    <tr>\n",
       "      <th>937</th>\n",
       "      <td>tcga-y8-a896</td>\n",
       "      <td>tcga-y8-a896-01a</td>\n",
       "      <td>tcga-y8-a896-01a-11d-a35y-01</td>\n",
       "      <td>tcga-y8-a896-01a-11d</td>\n",
       "      <td>tcga-y8-a896-01a-11</td>\n",
       "      <td>tcga-y8-a896-01a-01-ts1</td>\n",
       "    </tr>\n",
       "    <tr>\n",
       "      <th>938</th>\n",
       "      <td>tcga-y8-a897</td>\n",
       "      <td>tcga-y8-a897-01a</td>\n",
       "      <td>tcga-y8-a897-01a-11d-a35y-01</td>\n",
       "      <td>tcga-y8-a897-01a-11d</td>\n",
       "      <td>tcga-y8-a897-01a-11</td>\n",
       "      <td>tcga-y8-a897-01a-01-ts1</td>\n",
       "    </tr>\n",
       "    <tr>\n",
       "      <th>939</th>\n",
       "      <td>tcga-y8-a8ry</td>\n",
       "      <td>tcga-y8-a8ry-01a</td>\n",
       "      <td>tcga-y8-a8ry-01a-11d-a36w-01</td>\n",
       "      <td>tcga-y8-a8ry-01a-11d</td>\n",
       "      <td>tcga-y8-a8ry-01a-11</td>\n",
       "      <td>tcga-y8-a8ry-01a-01-ts1</td>\n",
       "    </tr>\n",
       "    <tr>\n",
       "      <th>940</th>\n",
       "      <td>tcga-y8-a8s0</td>\n",
       "      <td>tcga-y8-a8s0-01a</td>\n",
       "      <td>tcga-y8-a8s0-01a-11d-a36w-01</td>\n",
       "      <td>tcga-y8-a8s0-01a-11d</td>\n",
       "      <td>tcga-y8-a8s0-01a-11</td>\n",
       "      <td>tcga-y8-a8s0-01a-01-ts1</td>\n",
       "    </tr>\n",
       "    <tr>\n",
       "      <th>941</th>\n",
       "      <td>tcga-y8-a8s1</td>\n",
       "      <td>tcga-y8-a8s1-01a</td>\n",
       "      <td>tcga-y8-a8s1-01a-11d-a36w-01</td>\n",
       "      <td>tcga-y8-a8s1-01a-11d</td>\n",
       "      <td>tcga-y8-a8s1-01a-11</td>\n",
       "      <td>tcga-y8-a8s1-01a-01-ts1</td>\n",
       "    </tr>\n",
       "  </tbody>\n",
       "</table>\n",
       "<p>941 rows × 6 columns</p>\n",
       "</div>"
      ],
      "text/plain": [
       "    bcr_patient_barcode bcr_sample_barcode           bcr_aliquot_barcode  \\\n",
       "1          tcga-kl-8328   tcga-kl-8328-01a  tcga-kl-8328-01a-11d-2308-01   \n",
       "2          tcga-kl-8339   tcga-kl-8339-01a  tcga-kl-8339-01a-11d-2308-01   \n",
       "3          tcga-km-8439   tcga-km-8439-01a  tcga-km-8439-01a-11d-2308-01   \n",
       "4          tcga-km-8441   tcga-km-8441-01a  tcga-km-8441-01a-11d-2308-01   \n",
       "5          tcga-km-8442   tcga-km-8442-01a  tcga-km-8442-01a-11d-2308-01   \n",
       "..                  ...                ...                           ...   \n",
       "937        tcga-y8-a896   tcga-y8-a896-01a  tcga-y8-a896-01a-11d-a35y-01   \n",
       "938        tcga-y8-a897   tcga-y8-a897-01a  tcga-y8-a897-01a-11d-a35y-01   \n",
       "939        tcga-y8-a8ry   tcga-y8-a8ry-01a  tcga-y8-a8ry-01a-11d-a36w-01   \n",
       "940        tcga-y8-a8s0   tcga-y8-a8s0-01a  tcga-y8-a8s0-01a-11d-a36w-01   \n",
       "941        tcga-y8-a8s1   tcga-y8-a8s1-01a  tcga-y8-a8s1-01a-11d-a36w-01   \n",
       "\n",
       "      bcr_analyte_barcode  bcr_portion_barcode        bcr_slide_barcode  \n",
       "1    tcga-kl-8328-01a-11d  tcga-kl-8328-01a-11  tcga-kl-8328-01a-01-bs1  \n",
       "2    tcga-kl-8339-01a-11d  tcga-kl-8339-01a-11  tcga-kl-8339-01a-01-bs1  \n",
       "3    tcga-km-8439-01a-11d  tcga-km-8439-01a-11  tcga-km-8439-01a-01-ts1  \n",
       "4    tcga-km-8441-01a-11d  tcga-km-8441-01a-11  tcga-km-8441-01a-01-ts1  \n",
       "5    tcga-km-8442-01a-11d  tcga-km-8442-01a-11  tcga-km-8442-01a-01-ts1  \n",
       "..                    ...                  ...                      ...  \n",
       "937  tcga-y8-a896-01a-11d  tcga-y8-a896-01a-11  tcga-y8-a896-01a-01-ts1  \n",
       "938  tcga-y8-a897-01a-11d  tcga-y8-a897-01a-11  tcga-y8-a897-01a-01-ts1  \n",
       "939  tcga-y8-a8ry-01a-11d  tcga-y8-a8ry-01a-11  tcga-y8-a8ry-01a-01-ts1  \n",
       "940  tcga-y8-a8s0-01a-11d  tcga-y8-a8s0-01a-11  tcga-y8-a8s0-01a-01-ts1  \n",
       "941  tcga-y8-a8s1-01a-11d  tcga-y8-a8s1-01a-11  tcga-y8-a8s1-01a-01-ts1  \n",
       "\n",
       "[941 rows x 6 columns]"
      ]
     },
     "execution_count": 44,
     "metadata": {},
     "output_type": "execute_result"
    }
   ],
   "source": [
    "#drop the barcode columns that are not correct\n",
    "raw_clin_kipan_barcode.drop(['bcr_drug_barcode','bcr_radiation_barcode',\n",
    "                             'biospecimen_barcode_bottom','bcr_followup_barcode',\n",
    "                             'shipment_portion_bcr_aliquot_barcode','bcr_omf_barcode'], \n",
    "                            axis=1, errors='ignore')"
   ]
  },
  {
   "cell_type": "code",
   "execution_count": 45,
   "id": "29a650de",
   "metadata": {},
   "outputs": [],
   "source": [
    "# vital_status: The survival state of the person registered on the protocol.\n",
    "# days_to_death: Number of days between the date used for index and the date from a person's date of death represented as a calculated number of days.\n",
    "\n",
    "tcga_id_kipan='patient.samples.sample.portions.portion.analytes.analyte.aliquots.aliquot.bcr_aliquot_barcode'\n",
    "\n",
    "clin_kipan = raw_clin_kipan.loc[:,[tcga_id_kipan, 'admin.disease_code',\n",
    "'patient.days_to_death','patient.vital_status', \n",
    "'patient.age_at_initial_pathologic_diagnosis', 'patient.gender', 'patient.follow_ups.follow_up.person_neoplasm_cancer_status', \n",
    "                                  'patient.stage_event.pathologic_stage']]\n",
    "                                #, 'patient.karnofsky_performance_score']]\n",
    "\n",
    "#clin_kipan"
   ]
  },
  {
   "cell_type": "code",
   "execution_count": 46,
   "id": "1b3969c1",
   "metadata": {},
   "outputs": [],
   "source": [
    "#set appropriate index for the data table. Sort indexes\n",
    "clin_kipan = clin_kipan.set_index(tcga_id_kipan)\n",
    "clin_kipan.index = clin_kipan.index.str.upper()\n",
    "clin_kipan.sort_index(inplace=True)"
   ]
  },
  {
   "cell_type": "code",
   "execution_count": 47,
   "id": "05d5380d",
   "metadata": {},
   "outputs": [],
   "source": [
    "#clin_kipan.columns"
   ]
  },
  {
   "cell_type": "code",
   "execution_count": 48,
   "id": "6befaa7d",
   "metadata": {},
   "outputs": [],
   "source": [
    "clin_kipan = clin_kipan[clin_kipan.index.notnull()]\n",
    "\n",
    "clin_kipan.index = ['-'.join( s.split('-')[:4] ) for s in clin_kipan.index.tolist() ]\n",
    "#clin_kipan.index"
   ]
  },
  {
   "cell_type": "code",
   "execution_count": 49,
   "id": "57220771",
   "metadata": {},
   "outputs": [],
   "source": [
    "#rename appropriate columns\n",
    "clin_kipan.rename(columns = {'patient.days_to_death':'days_to_death', 'patient.vital_status':'vital_status', 'patient.age_at_initial_pathologic_diagnosis':'age_at_initial_pathologic_diagnosis', 'patient.gender':'gender', 'admin.disease_code':'subtype', 'patient.follow_ups.follow_up.person_neoplasm_cancer_status':'metastasis_info', 'patient.stage_event.pathologic_stage':'stage'}, inplace = True)"
   ]
  },
  {
   "cell_type": "code",
   "execution_count": 50,
   "id": "6251b498",
   "metadata": {},
   "outputs": [],
   "source": [
    "#convert days to death values to floats\n",
    "vals = clin_kipan['days_to_death'].astype(np.float32)\n",
    "\n",
    "#create lts and non-lts variable for survival\n",
    "#current long term survival is two years\n",
    "clin_kipan['survival'] = 'non-lts'\n",
    "clin_kipan.loc[pd.to_numeric(clin_kipan.days_to_death).ge(5*365) | clin_kipan.days_to_death.isna(), 'survival'] = 'lts'\n",
    "#clin_kipan"
   ]
  },
  {
   "cell_type": "code",
   "execution_count": 51,
   "id": "05a64f46",
   "metadata": {},
   "outputs": [],
   "source": [
    "#read in raw METHYLATION data\n",
    "meth_kipan = pd.read_csv('KIPAN.hm450.tsv', delim_whitespace=True, header=[0] ).set_index('Composite_Element_REF').drop(['Gene_Symbol','Chromosome','Genomic_Coordinate'], axis=1 ).T"
   ]
  },
  {
   "cell_type": "code",
   "execution_count": 52,
   "id": "46b1db84",
   "metadata": {},
   "outputs": [
    {
     "data": {
      "text/html": [
       "<div>\n",
       "<style scoped>\n",
       "    .dataframe tbody tr th:only-of-type {\n",
       "        vertical-align: middle;\n",
       "    }\n",
       "\n",
       "    .dataframe tbody tr th {\n",
       "        vertical-align: top;\n",
       "    }\n",
       "\n",
       "    .dataframe thead th {\n",
       "        text-align: right;\n",
       "    }\n",
       "</style>\n",
       "<table border=\"1\" class=\"dataframe\">\n",
       "  <thead>\n",
       "    <tr style=\"text-align: right;\">\n",
       "      <th>Composite_Element_REF</th>\n",
       "      <th>cg00000029</th>\n",
       "      <th>cg00000108</th>\n",
       "      <th>cg00000109</th>\n",
       "      <th>cg00000165</th>\n",
       "      <th>cg00000236</th>\n",
       "      <th>cg00000289</th>\n",
       "      <th>cg00000292</th>\n",
       "      <th>cg00000321</th>\n",
       "      <th>cg00000363</th>\n",
       "      <th>cg00000622</th>\n",
       "      <th>...</th>\n",
       "      <th>cg09560636</th>\n",
       "      <th>cg09560650</th>\n",
       "      <th>cg09560658</th>\n",
       "      <th>cg09560723</th>\n",
       "      <th>cg09560763</th>\n",
       "      <th>cg09560811</th>\n",
       "      <th>cg09560911</th>\n",
       "      <th>cg09560912</th>\n",
       "      <th>cg09560953</th>\n",
       "      <th>cg09560979</th>\n",
       "    </tr>\n",
       "  </thead>\n",
       "  <tbody>\n",
       "    <tr>\n",
       "      <th>TCGA-2K-A9WE-01A-11D-A383-05</th>\n",
       "      <td>0.461441</td>\n",
       "      <td>NaN</td>\n",
       "      <td>NaN</td>\n",
       "      <td>0.143910</td>\n",
       "      <td>0.847165</td>\n",
       "      <td>0.737362</td>\n",
       "      <td>0.716795</td>\n",
       "      <td>0.351877</td>\n",
       "      <td>0.248987</td>\n",
       "      <td>0.012136</td>\n",
       "      <td>...</td>\n",
       "      <td>NaN</td>\n",
       "      <td>NaN</td>\n",
       "      <td>0.929777</td>\n",
       "      <td>NaN</td>\n",
       "      <td>0.821841</td>\n",
       "      <td>0.927202</td>\n",
       "      <td>0.018890</td>\n",
       "      <td>NaN</td>\n",
       "      <td>0.844136</td>\n",
       "      <td>NaN</td>\n",
       "    </tr>\n",
       "    <tr>\n",
       "      <th>TCGA-2Z-A9J1-01A-11D-A383-05</th>\n",
       "      <td>0.595894</td>\n",
       "      <td>NaN</td>\n",
       "      <td>NaN</td>\n",
       "      <td>0.080724</td>\n",
       "      <td>0.867306</td>\n",
       "      <td>0.706806</td>\n",
       "      <td>0.217862</td>\n",
       "      <td>0.169408</td>\n",
       "      <td>0.173115</td>\n",
       "      <td>0.010890</td>\n",
       "      <td>...</td>\n",
       "      <td>NaN</td>\n",
       "      <td>NaN</td>\n",
       "      <td>0.684141</td>\n",
       "      <td>NaN</td>\n",
       "      <td>0.287309</td>\n",
       "      <td>0.932596</td>\n",
       "      <td>0.018205</td>\n",
       "      <td>NaN</td>\n",
       "      <td>0.253988</td>\n",
       "      <td>NaN</td>\n",
       "    </tr>\n",
       "    <tr>\n",
       "      <th>TCGA-2Z-A9J2-01A-11D-A383-05</th>\n",
       "      <td>0.481305</td>\n",
       "      <td>NaN</td>\n",
       "      <td>NaN</td>\n",
       "      <td>0.437447</td>\n",
       "      <td>0.898927</td>\n",
       "      <td>0.758109</td>\n",
       "      <td>0.868605</td>\n",
       "      <td>0.577745</td>\n",
       "      <td>0.567242</td>\n",
       "      <td>0.012268</td>\n",
       "      <td>...</td>\n",
       "      <td>NaN</td>\n",
       "      <td>NaN</td>\n",
       "      <td>0.934065</td>\n",
       "      <td>NaN</td>\n",
       "      <td>0.393975</td>\n",
       "      <td>0.949127</td>\n",
       "      <td>0.027293</td>\n",
       "      <td>NaN</td>\n",
       "      <td>0.898587</td>\n",
       "      <td>NaN</td>\n",
       "    </tr>\n",
       "    <tr>\n",
       "      <th>TCGA-2Z-A9J3-01A-12D-A383-05</th>\n",
       "      <td>0.553850</td>\n",
       "      <td>NaN</td>\n",
       "      <td>NaN</td>\n",
       "      <td>0.064233</td>\n",
       "      <td>0.917291</td>\n",
       "      <td>0.675538</td>\n",
       "      <td>0.543087</td>\n",
       "      <td>0.850444</td>\n",
       "      <td>0.470811</td>\n",
       "      <td>0.012568</td>\n",
       "      <td>...</td>\n",
       "      <td>NaN</td>\n",
       "      <td>NaN</td>\n",
       "      <td>0.939414</td>\n",
       "      <td>NaN</td>\n",
       "      <td>0.198644</td>\n",
       "      <td>0.944607</td>\n",
       "      <td>0.019058</td>\n",
       "      <td>NaN</td>\n",
       "      <td>0.648340</td>\n",
       "      <td>NaN</td>\n",
       "    </tr>\n",
       "    <tr>\n",
       "      <th>TCGA-2Z-A9J5-01A-21D-A383-05</th>\n",
       "      <td>0.184349</td>\n",
       "      <td>NaN</td>\n",
       "      <td>NaN</td>\n",
       "      <td>0.126119</td>\n",
       "      <td>0.928018</td>\n",
       "      <td>0.677846</td>\n",
       "      <td>0.850474</td>\n",
       "      <td>0.444735</td>\n",
       "      <td>0.204529</td>\n",
       "      <td>0.012233</td>\n",
       "      <td>...</td>\n",
       "      <td>NaN</td>\n",
       "      <td>NaN</td>\n",
       "      <td>0.926087</td>\n",
       "      <td>NaN</td>\n",
       "      <td>0.589858</td>\n",
       "      <td>0.931093</td>\n",
       "      <td>0.029658</td>\n",
       "      <td>NaN</td>\n",
       "      <td>0.722906</td>\n",
       "      <td>NaN</td>\n",
       "    </tr>\n",
       "  </tbody>\n",
       "</table>\n",
       "<p>5 rows × 183201 columns</p>\n",
       "</div>"
      ],
      "text/plain": [
       "Composite_Element_REF         cg00000029  cg00000108  cg00000109  cg00000165  \\\n",
       "TCGA-2K-A9WE-01A-11D-A383-05    0.461441         NaN         NaN    0.143910   \n",
       "TCGA-2Z-A9J1-01A-11D-A383-05    0.595894         NaN         NaN    0.080724   \n",
       "TCGA-2Z-A9J2-01A-11D-A383-05    0.481305         NaN         NaN    0.437447   \n",
       "TCGA-2Z-A9J3-01A-12D-A383-05    0.553850         NaN         NaN    0.064233   \n",
       "TCGA-2Z-A9J5-01A-21D-A383-05    0.184349         NaN         NaN    0.126119   \n",
       "\n",
       "Composite_Element_REF         cg00000236  cg00000289  cg00000292  cg00000321  \\\n",
       "TCGA-2K-A9WE-01A-11D-A383-05    0.847165    0.737362    0.716795    0.351877   \n",
       "TCGA-2Z-A9J1-01A-11D-A383-05    0.867306    0.706806    0.217862    0.169408   \n",
       "TCGA-2Z-A9J2-01A-11D-A383-05    0.898927    0.758109    0.868605    0.577745   \n",
       "TCGA-2Z-A9J3-01A-12D-A383-05    0.917291    0.675538    0.543087    0.850444   \n",
       "TCGA-2Z-A9J5-01A-21D-A383-05    0.928018    0.677846    0.850474    0.444735   \n",
       "\n",
       "Composite_Element_REF         cg00000363  cg00000622  ...  cg09560636  \\\n",
       "TCGA-2K-A9WE-01A-11D-A383-05    0.248987    0.012136  ...         NaN   \n",
       "TCGA-2Z-A9J1-01A-11D-A383-05    0.173115    0.010890  ...         NaN   \n",
       "TCGA-2Z-A9J2-01A-11D-A383-05    0.567242    0.012268  ...         NaN   \n",
       "TCGA-2Z-A9J3-01A-12D-A383-05    0.470811    0.012568  ...         NaN   \n",
       "TCGA-2Z-A9J5-01A-21D-A383-05    0.204529    0.012233  ...         NaN   \n",
       "\n",
       "Composite_Element_REF         cg09560650  cg09560658  cg09560723  cg09560763  \\\n",
       "TCGA-2K-A9WE-01A-11D-A383-05         NaN    0.929777         NaN    0.821841   \n",
       "TCGA-2Z-A9J1-01A-11D-A383-05         NaN    0.684141         NaN    0.287309   \n",
       "TCGA-2Z-A9J2-01A-11D-A383-05         NaN    0.934065         NaN    0.393975   \n",
       "TCGA-2Z-A9J3-01A-12D-A383-05         NaN    0.939414         NaN    0.198644   \n",
       "TCGA-2Z-A9J5-01A-21D-A383-05         NaN    0.926087         NaN    0.589858   \n",
       "\n",
       "Composite_Element_REF         cg09560811  cg09560911  cg09560912  cg09560953  \\\n",
       "TCGA-2K-A9WE-01A-11D-A383-05    0.927202    0.018890         NaN    0.844136   \n",
       "TCGA-2Z-A9J1-01A-11D-A383-05    0.932596    0.018205         NaN    0.253988   \n",
       "TCGA-2Z-A9J2-01A-11D-A383-05    0.949127    0.027293         NaN    0.898587   \n",
       "TCGA-2Z-A9J3-01A-12D-A383-05    0.944607    0.019058         NaN    0.648340   \n",
       "TCGA-2Z-A9J5-01A-21D-A383-05    0.931093    0.029658         NaN    0.722906   \n",
       "\n",
       "Composite_Element_REF         cg09560979  \n",
       "TCGA-2K-A9WE-01A-11D-A383-05         NaN  \n",
       "TCGA-2Z-A9J1-01A-11D-A383-05         NaN  \n",
       "TCGA-2Z-A9J2-01A-11D-A383-05         NaN  \n",
       "TCGA-2Z-A9J3-01A-12D-A383-05         NaN  \n",
       "TCGA-2Z-A9J5-01A-21D-A383-05         NaN  \n",
       "\n",
       "[5 rows x 183201 columns]"
      ]
     },
     "execution_count": 52,
     "metadata": {},
     "output_type": "execute_result"
    }
   ],
   "source": [
    "#sort methylation data by index\n",
    "meth_kipan.sort_index().head()"
   ]
  },
  {
   "cell_type": "markdown",
   "id": "417f53d2",
   "metadata": {},
   "source": [
    "## Determining overlap between methylation and clinical data "
   ]
  },
  {
   "cell_type": "code",
   "execution_count": 53,
   "id": "4c79430f",
   "metadata": {},
   "outputs": [
    {
     "data": {
      "text/plain": [
       "867"
      ]
     },
     "execution_count": 53,
     "metadata": {},
     "output_type": "execute_result"
    }
   ],
   "source": [
    "len( set(meth_kipan.index) )"
   ]
  },
  {
   "cell_type": "code",
   "execution_count": 54,
   "id": "71741583",
   "metadata": {},
   "outputs": [
    {
     "data": {
      "text/plain": [
       "867"
      ]
     },
     "execution_count": 54,
     "metadata": {},
     "output_type": "execute_result"
    }
   ],
   "source": [
    "len ( set( [ '-'.join( i.split('-')[:4] ) for i in meth_kipan.index ] ) )"
   ]
  },
  {
   "cell_type": "code",
   "execution_count": 55,
   "id": "32a78d69",
   "metadata": {},
   "outputs": [],
   "source": [
    "meth_kipan.index = [ '-'.join( i.split('-')[:4] ) for i in meth_kipan.index ]\n",
    "meth_kipan.sort_index(inplace=True)\n",
    "#meth_kipan"
   ]
  },
  {
   "cell_type": "code",
   "execution_count": 56,
   "id": "b2e376e6",
   "metadata": {},
   "outputs": [
    {
     "data": {
      "text/plain": [
       "660"
      ]
     },
     "execution_count": 56,
     "metadata": {},
     "output_type": "execute_result"
    }
   ],
   "source": [
    "len( set( clin_kipan.index ) & set( meth_kipan.index ) )"
   ]
  },
  {
   "cell_type": "code",
   "execution_count": 57,
   "id": "8e5ce484",
   "metadata": {},
   "outputs": [
    {
     "data": {
      "text/plain": [
       "281"
      ]
     },
     "execution_count": 57,
     "metadata": {},
     "output_type": "execute_result"
    }
   ],
   "source": [
    "len( set( clin_kipan.index ) - set( meth_kipan.index ) )"
   ]
  },
  {
   "cell_type": "code",
   "execution_count": 58,
   "id": "5d2ccacc",
   "metadata": {},
   "outputs": [
    {
     "data": {
      "text/plain": [
       "207"
      ]
     },
     "execution_count": 58,
     "metadata": {},
     "output_type": "execute_result"
    }
   ],
   "source": [
    "len( set( meth_kipan.index ) - set( clin_kipan.index ) )"
   ]
  },
  {
   "cell_type": "code",
   "execution_count": 59,
   "id": "975b8031",
   "metadata": {},
   "outputs": [],
   "source": [
    "#set( meth_kipan.index ) - set( clin_kipan.index )"
   ]
  },
  {
   "cell_type": "code",
   "execution_count": 60,
   "id": "6a427bf8",
   "metadata": {},
   "outputs": [
    {
     "data": {
      "text/plain": [
       "Counter({'01A': 656, '11A': 205, '01B': 4, '05A': 2})"
      ]
     },
     "execution_count": 60,
     "metadata": {},
     "output_type": "execute_result"
    }
   ],
   "source": [
    "#determine the number of type of TCGA ID\n",
    "from collections import Counter\n",
    "\n",
    "Counter( [i.split('-')[3] for i in meth_kipan.index] )"
   ]
  },
  {
   "cell_type": "code",
   "execution_count": 61,
   "id": "c1514c8d",
   "metadata": {},
   "outputs": [
    {
     "data": {
      "text/plain": [
       "Counter({'01A': 656, '01B': 4})"
      ]
     },
     "execution_count": 61,
     "metadata": {},
     "output_type": "execute_result"
    }
   ],
   "source": [
    "Counter( [i.split('-')[3] for i in np.array( set( clin_kipan.index ) & set( meth_kipan.index ) ).tolist()])"
   ]
  },
  {
   "cell_type": "code",
   "execution_count": 62,
   "id": "4de2aed3",
   "metadata": {},
   "outputs": [],
   "source": [
    "#drop these two because they're not matched anywhere\n",
    "meth_kipan.drop( ['TCGA-DV-A4W0-05A','TCGA-UZ-A9PS-05A'], axis=0, inplace=True, errors = 'ignore')\n",
    "#meth_kipan"
   ]
  },
  {
   "cell_type": "code",
   "execution_count": 63,
   "id": "f0f67ed4",
   "metadata": {},
   "outputs": [],
   "source": [
    "#create a df for normal\n",
    "clin_normal = pd.DataFrame( index = meth_kipan.index[meth_kipan.index.str.contains('11A')], columns = clin_kipan.columns )\n",
    "#clin_normal"
   ]
  },
  {
   "cell_type": "code",
   "execution_count": 64,
   "id": "3a34c680",
   "metadata": {},
   "outputs": [],
   "source": [
    "#set subtype to normal\n",
    "clin_normal['subtype'] = 'Normal'\n",
    "#clin_normal"
   ]
  },
  {
   "cell_type": "code",
   "execution_count": 65,
   "id": "39a718cb",
   "metadata": {},
   "outputs": [],
   "source": [
    "#set kipan values to RCC for all clin_kipan data\n",
    "clin_kipan['kipan'] = 'RCC'\n",
    "#clin_kipan"
   ]
  },
  {
   "cell_type": "code",
   "execution_count": 66,
   "id": "ff9c0e71",
   "metadata": {},
   "outputs": [],
   "source": [
    "clin_normal['kipan'] = 'Normal'\n",
    "clin_normal['survival'] = 'Normal'\n",
    "#clin_normal"
   ]
  },
  {
   "cell_type": "code",
   "execution_count": 67,
   "id": "6eced781",
   "metadata": {},
   "outputs": [],
   "source": [
    "#create a df with all normal and tumor values for clinical data\n",
    "clin_all = pd.concat( [clin_normal, clin_kipan], axis=0 )\n",
    "clin_all.sort_index( inplace = True )"
   ]
  },
  {
   "cell_type": "code",
   "execution_count": 68,
   "id": "362118f9",
   "metadata": {},
   "outputs": [],
   "source": [
    "#clin_all['kipan']"
   ]
  },
  {
   "cell_type": "code",
   "execution_count": 69,
   "id": "13a1affa",
   "metadata": {},
   "outputs": [],
   "source": [
    "#rename the columns\n",
    "clin_all = clin_all[['kipan','subtype', 'days_to_death', 'vital_status','survival',\n",
    "       'age_at_initial_pathologic_diagnosis', 'gender', 'metastasis_info', 'stage']]\n",
    "#clin_all"
   ]
  },
  {
   "cell_type": "markdown",
   "id": "07c43d97",
   "metadata": {},
   "source": [
    "## Merging of Two Datasets: clinical and methylation"
   ]
  },
  {
   "cell_type": "code",
   "execution_count": 70,
   "id": "0ab873f5",
   "metadata": {},
   "outputs": [],
   "source": [
    "#final merged df\n",
    "df_clin_meth = pd.concat([clin_all, meth_kipan], axis='columns', join='inner').sort_values(['kipan'], axis=0)\n",
    "#df_clin_meth"
   ]
  },
  {
   "cell_type": "code",
   "execution_count": 71,
   "id": "1de58ba4",
   "metadata": {},
   "outputs": [
    {
     "data": {
      "text/plain": [
       "Counter({'Normal': 205, 'kirp': 275, 'kirc': 319, 'kich': 66})"
      ]
     },
     "execution_count": 71,
     "metadata": {},
     "output_type": "execute_result"
    }
   ],
   "source": [
    "#determine number of each subtype, very useful for future calcs\n",
    "Counter( df_clin_meth['subtype'] )"
   ]
  },
  {
   "cell_type": "code",
   "execution_count": 72,
   "id": "7ca5d1b5",
   "metadata": {},
   "outputs": [],
   "source": [
    "#transpose merged df for ease of use\n",
    "#df_clin_meth = df_clin_meth.T"
   ]
  },
  {
   "cell_type": "code",
   "execution_count": 73,
   "id": "36beddf1",
   "metadata": {},
   "outputs": [],
   "source": [
    "#df_clin_meth.head(10)"
   ]
  },
  {
   "cell_type": "markdown",
   "id": "8478b5e4",
   "metadata": {},
   "source": [
    "# Long Term and Short Term Survival LR:"
   ]
  },
  {
   "cell_type": "markdown",
   "id": "48a6a671",
   "metadata": {},
   "source": [
    "Steps:\n",
    "\n",
    "    1. Create a seperate data frame for the tumor samples only \n",
    "    2. Strip data of nan values.\n",
    "    3. Onehot encode survival variable\n",
    "    4. Train model\n",
    "    5. Validate with 5-fold cross validation\n",
    "    6. Test model and display confusion matrix/ROC curve"
   ]
  },
  {
   "cell_type": "code",
   "execution_count": 74,
   "id": "3f8d976f",
   "metadata": {},
   "outputs": [],
   "source": [
    "df_temp = df_clin_meth.iloc[205:,:].dropna(axis=1)"
   ]
  },
  {
   "cell_type": "code",
   "execution_count": 75,
   "id": "ef1b0215",
   "metadata": {},
   "outputs": [
    {
     "data": {
      "text/html": [
       "<div>\n",
       "<style scoped>\n",
       "    .dataframe tbody tr th:only-of-type {\n",
       "        vertical-align: middle;\n",
       "    }\n",
       "\n",
       "    .dataframe tbody tr th {\n",
       "        vertical-align: top;\n",
       "    }\n",
       "\n",
       "    .dataframe thead th {\n",
       "        text-align: right;\n",
       "    }\n",
       "</style>\n",
       "<table border=\"1\" class=\"dataframe\">\n",
       "  <thead>\n",
       "    <tr style=\"text-align: right;\">\n",
       "      <th></th>\n",
       "      <th>kipan</th>\n",
       "      <th>subtype</th>\n",
       "      <th>vital_status</th>\n",
       "      <th>survival</th>\n",
       "      <th>gender</th>\n",
       "      <th>cg00000029</th>\n",
       "      <th>cg00000165</th>\n",
       "      <th>cg00000236</th>\n",
       "      <th>cg00000289</th>\n",
       "      <th>cg00000292</th>\n",
       "      <th>...</th>\n",
       "      <th>cg09560465</th>\n",
       "      <th>cg09560533</th>\n",
       "      <th>cg09560549</th>\n",
       "      <th>cg09560590</th>\n",
       "      <th>cg09560599</th>\n",
       "      <th>cg09560658</th>\n",
       "      <th>cg09560763</th>\n",
       "      <th>cg09560811</th>\n",
       "      <th>cg09560911</th>\n",
       "      <th>cg09560953</th>\n",
       "    </tr>\n",
       "  </thead>\n",
       "  <tbody>\n",
       "    <tr>\n",
       "      <th>TCGA-DW-7837-01A</th>\n",
       "      <td>RCC</td>\n",
       "      <td>kirp</td>\n",
       "      <td>alive</td>\n",
       "      <td>lts</td>\n",
       "      <td>male</td>\n",
       "      <td>0.376769</td>\n",
       "      <td>0.133514</td>\n",
       "      <td>0.920249</td>\n",
       "      <td>0.758389</td>\n",
       "      <td>0.366383</td>\n",
       "      <td>...</td>\n",
       "      <td>0.920778</td>\n",
       "      <td>0.916277</td>\n",
       "      <td>0.548739</td>\n",
       "      <td>0.585431</td>\n",
       "      <td>0.033874</td>\n",
       "      <td>0.928231</td>\n",
       "      <td>0.476170</td>\n",
       "      <td>0.914799</td>\n",
       "      <td>0.021657</td>\n",
       "      <td>0.791100</td>\n",
       "    </tr>\n",
       "    <tr>\n",
       "      <th>TCGA-DW-7838-01A</th>\n",
       "      <td>RCC</td>\n",
       "      <td>kirp</td>\n",
       "      <td>alive</td>\n",
       "      <td>lts</td>\n",
       "      <td>male</td>\n",
       "      <td>0.428999</td>\n",
       "      <td>0.323824</td>\n",
       "      <td>0.848638</td>\n",
       "      <td>0.658495</td>\n",
       "      <td>0.756420</td>\n",
       "      <td>...</td>\n",
       "      <td>0.933386</td>\n",
       "      <td>0.860630</td>\n",
       "      <td>0.665402</td>\n",
       "      <td>0.426442</td>\n",
       "      <td>0.028878</td>\n",
       "      <td>0.937400</td>\n",
       "      <td>0.591879</td>\n",
       "      <td>0.941179</td>\n",
       "      <td>0.034291</td>\n",
       "      <td>0.786955</td>\n",
       "    </tr>\n",
       "    <tr>\n",
       "      <th>TCGA-CZ-5470-01A</th>\n",
       "      <td>RCC</td>\n",
       "      <td>kirc</td>\n",
       "      <td>alive</td>\n",
       "      <td>lts</td>\n",
       "      <td>female</td>\n",
       "      <td>0.691030</td>\n",
       "      <td>0.417824</td>\n",
       "      <td>0.834346</td>\n",
       "      <td>0.832776</td>\n",
       "      <td>0.356401</td>\n",
       "      <td>...</td>\n",
       "      <td>0.934555</td>\n",
       "      <td>0.795048</td>\n",
       "      <td>0.797864</td>\n",
       "      <td>0.526280</td>\n",
       "      <td>0.019556</td>\n",
       "      <td>0.958347</td>\n",
       "      <td>0.434283</td>\n",
       "      <td>0.953972</td>\n",
       "      <td>0.023925</td>\n",
       "      <td>0.831902</td>\n",
       "    </tr>\n",
       "    <tr>\n",
       "      <th>TCGA-CZ-5468-01A</th>\n",
       "      <td>RCC</td>\n",
       "      <td>kirc</td>\n",
       "      <td>dead</td>\n",
       "      <td>non-lts</td>\n",
       "      <td>male</td>\n",
       "      <td>0.344641</td>\n",
       "      <td>0.515318</td>\n",
       "      <td>0.929271</td>\n",
       "      <td>0.839432</td>\n",
       "      <td>0.733833</td>\n",
       "      <td>...</td>\n",
       "      <td>0.795183</td>\n",
       "      <td>0.524840</td>\n",
       "      <td>0.780188</td>\n",
       "      <td>0.518742</td>\n",
       "      <td>0.012885</td>\n",
       "      <td>0.938761</td>\n",
       "      <td>0.505760</td>\n",
       "      <td>0.967286</td>\n",
       "      <td>0.025050</td>\n",
       "      <td>0.818742</td>\n",
       "    </tr>\n",
       "    <tr>\n",
       "      <th>TCGA-CZ-5469-01A</th>\n",
       "      <td>RCC</td>\n",
       "      <td>kirc</td>\n",
       "      <td>dead</td>\n",
       "      <td>non-lts</td>\n",
       "      <td>male</td>\n",
       "      <td>0.292792</td>\n",
       "      <td>0.237511</td>\n",
       "      <td>0.927863</td>\n",
       "      <td>0.845145</td>\n",
       "      <td>0.850905</td>\n",
       "      <td>...</td>\n",
       "      <td>0.948674</td>\n",
       "      <td>0.575097</td>\n",
       "      <td>0.863986</td>\n",
       "      <td>0.744172</td>\n",
       "      <td>0.011540</td>\n",
       "      <td>0.947662</td>\n",
       "      <td>0.201551</td>\n",
       "      <td>0.947919</td>\n",
       "      <td>0.015485</td>\n",
       "      <td>0.893338</td>\n",
       "    </tr>\n",
       "    <tr>\n",
       "      <th>TCGA-CZ-5467-01A</th>\n",
       "      <td>RCC</td>\n",
       "      <td>kirc</td>\n",
       "      <td>dead</td>\n",
       "      <td>non-lts</td>\n",
       "      <td>female</td>\n",
       "      <td>0.515102</td>\n",
       "      <td>0.210351</td>\n",
       "      <td>0.904300</td>\n",
       "      <td>0.744689</td>\n",
       "      <td>0.306671</td>\n",
       "      <td>...</td>\n",
       "      <td>0.948164</td>\n",
       "      <td>0.769161</td>\n",
       "      <td>0.840058</td>\n",
       "      <td>0.613973</td>\n",
       "      <td>0.011737</td>\n",
       "      <td>0.933586</td>\n",
       "      <td>0.402251</td>\n",
       "      <td>0.948508</td>\n",
       "      <td>0.023125</td>\n",
       "      <td>0.718455</td>\n",
       "    </tr>\n",
       "    <tr>\n",
       "      <th>TCGA-DW-7836-01A</th>\n",
       "      <td>RCC</td>\n",
       "      <td>kirp</td>\n",
       "      <td>alive</td>\n",
       "      <td>lts</td>\n",
       "      <td>male</td>\n",
       "      <td>0.139762</td>\n",
       "      <td>0.110489</td>\n",
       "      <td>0.927333</td>\n",
       "      <td>0.688138</td>\n",
       "      <td>0.465292</td>\n",
       "      <td>...</td>\n",
       "      <td>0.941845</td>\n",
       "      <td>0.930525</td>\n",
       "      <td>0.754571</td>\n",
       "      <td>0.816807</td>\n",
       "      <td>0.038237</td>\n",
       "      <td>0.943424</td>\n",
       "      <td>0.195248</td>\n",
       "      <td>0.935343</td>\n",
       "      <td>0.028163</td>\n",
       "      <td>0.670649</td>\n",
       "    </tr>\n",
       "    <tr>\n",
       "      <th>TCGA-CZ-5464-01A</th>\n",
       "      <td>RCC</td>\n",
       "      <td>kirc</td>\n",
       "      <td>alive</td>\n",
       "      <td>lts</td>\n",
       "      <td>male</td>\n",
       "      <td>0.383120</td>\n",
       "      <td>0.344627</td>\n",
       "      <td>0.786563</td>\n",
       "      <td>0.796758</td>\n",
       "      <td>0.377520</td>\n",
       "      <td>...</td>\n",
       "      <td>0.950205</td>\n",
       "      <td>0.798843</td>\n",
       "      <td>0.496902</td>\n",
       "      <td>0.388252</td>\n",
       "      <td>0.016383</td>\n",
       "      <td>0.950060</td>\n",
       "      <td>0.514802</td>\n",
       "      <td>0.943457</td>\n",
       "      <td>0.018360</td>\n",
       "      <td>0.767545</td>\n",
       "    </tr>\n",
       "    <tr>\n",
       "      <th>TCGA-CZ-5986-01A</th>\n",
       "      <td>RCC</td>\n",
       "      <td>kirc</td>\n",
       "      <td>alive</td>\n",
       "      <td>lts</td>\n",
       "      <td>male</td>\n",
       "      <td>0.477054</td>\n",
       "      <td>0.096119</td>\n",
       "      <td>0.916913</td>\n",
       "      <td>0.741369</td>\n",
       "      <td>0.816757</td>\n",
       "      <td>...</td>\n",
       "      <td>0.937418</td>\n",
       "      <td>0.864640</td>\n",
       "      <td>0.597951</td>\n",
       "      <td>0.487986</td>\n",
       "      <td>0.023619</td>\n",
       "      <td>0.933883</td>\n",
       "      <td>0.401095</td>\n",
       "      <td>0.946133</td>\n",
       "      <td>0.030143</td>\n",
       "      <td>0.862010</td>\n",
       "    </tr>\n",
       "    <tr>\n",
       "      <th>TCGA-CZ-5984-01A</th>\n",
       "      <td>RCC</td>\n",
       "      <td>kirc</td>\n",
       "      <td>alive</td>\n",
       "      <td>lts</td>\n",
       "      <td>male</td>\n",
       "      <td>0.716020</td>\n",
       "      <td>0.135600</td>\n",
       "      <td>0.926175</td>\n",
       "      <td>0.660109</td>\n",
       "      <td>0.431671</td>\n",
       "      <td>...</td>\n",
       "      <td>0.931605</td>\n",
       "      <td>0.718983</td>\n",
       "      <td>0.736090</td>\n",
       "      <td>0.574325</td>\n",
       "      <td>0.028899</td>\n",
       "      <td>0.945800</td>\n",
       "      <td>0.490957</td>\n",
       "      <td>0.912699</td>\n",
       "      <td>0.025894</td>\n",
       "      <td>0.639126</td>\n",
       "    </tr>\n",
       "  </tbody>\n",
       "</table>\n",
       "<p>10 rows × 143607 columns</p>\n",
       "</div>"
      ],
      "text/plain": [
       "                 kipan subtype vital_status survival  gender  cg00000029  \\\n",
       "TCGA-DW-7837-01A   RCC    kirp        alive      lts    male    0.376769   \n",
       "TCGA-DW-7838-01A   RCC    kirp        alive      lts    male    0.428999   \n",
       "TCGA-CZ-5470-01A   RCC    kirc        alive      lts  female    0.691030   \n",
       "TCGA-CZ-5468-01A   RCC    kirc         dead  non-lts    male    0.344641   \n",
       "TCGA-CZ-5469-01A   RCC    kirc         dead  non-lts    male    0.292792   \n",
       "TCGA-CZ-5467-01A   RCC    kirc         dead  non-lts  female    0.515102   \n",
       "TCGA-DW-7836-01A   RCC    kirp        alive      lts    male    0.139762   \n",
       "TCGA-CZ-5464-01A   RCC    kirc        alive      lts    male    0.383120   \n",
       "TCGA-CZ-5986-01A   RCC    kirc        alive      lts    male    0.477054   \n",
       "TCGA-CZ-5984-01A   RCC    kirc        alive      lts    male    0.716020   \n",
       "\n",
       "                  cg00000165  cg00000236  cg00000289  cg00000292  ...  \\\n",
       "TCGA-DW-7837-01A    0.133514    0.920249    0.758389    0.366383  ...   \n",
       "TCGA-DW-7838-01A    0.323824    0.848638    0.658495    0.756420  ...   \n",
       "TCGA-CZ-5470-01A    0.417824    0.834346    0.832776    0.356401  ...   \n",
       "TCGA-CZ-5468-01A    0.515318    0.929271    0.839432    0.733833  ...   \n",
       "TCGA-CZ-5469-01A    0.237511    0.927863    0.845145    0.850905  ...   \n",
       "TCGA-CZ-5467-01A    0.210351    0.904300    0.744689    0.306671  ...   \n",
       "TCGA-DW-7836-01A    0.110489    0.927333    0.688138    0.465292  ...   \n",
       "TCGA-CZ-5464-01A    0.344627    0.786563    0.796758    0.377520  ...   \n",
       "TCGA-CZ-5986-01A    0.096119    0.916913    0.741369    0.816757  ...   \n",
       "TCGA-CZ-5984-01A    0.135600    0.926175    0.660109    0.431671  ...   \n",
       "\n",
       "                  cg09560465  cg09560533  cg09560549  cg09560590  cg09560599  \\\n",
       "TCGA-DW-7837-01A    0.920778    0.916277    0.548739    0.585431    0.033874   \n",
       "TCGA-DW-7838-01A    0.933386    0.860630    0.665402    0.426442    0.028878   \n",
       "TCGA-CZ-5470-01A    0.934555    0.795048    0.797864    0.526280    0.019556   \n",
       "TCGA-CZ-5468-01A    0.795183    0.524840    0.780188    0.518742    0.012885   \n",
       "TCGA-CZ-5469-01A    0.948674    0.575097    0.863986    0.744172    0.011540   \n",
       "TCGA-CZ-5467-01A    0.948164    0.769161    0.840058    0.613973    0.011737   \n",
       "TCGA-DW-7836-01A    0.941845    0.930525    0.754571    0.816807    0.038237   \n",
       "TCGA-CZ-5464-01A    0.950205    0.798843    0.496902    0.388252    0.016383   \n",
       "TCGA-CZ-5986-01A    0.937418    0.864640    0.597951    0.487986    0.023619   \n",
       "TCGA-CZ-5984-01A    0.931605    0.718983    0.736090    0.574325    0.028899   \n",
       "\n",
       "                  cg09560658  cg09560763  cg09560811  cg09560911  cg09560953  \n",
       "TCGA-DW-7837-01A    0.928231    0.476170    0.914799    0.021657    0.791100  \n",
       "TCGA-DW-7838-01A    0.937400    0.591879    0.941179    0.034291    0.786955  \n",
       "TCGA-CZ-5470-01A    0.958347    0.434283    0.953972    0.023925    0.831902  \n",
       "TCGA-CZ-5468-01A    0.938761    0.505760    0.967286    0.025050    0.818742  \n",
       "TCGA-CZ-5469-01A    0.947662    0.201551    0.947919    0.015485    0.893338  \n",
       "TCGA-CZ-5467-01A    0.933586    0.402251    0.948508    0.023125    0.718455  \n",
       "TCGA-DW-7836-01A    0.943424    0.195248    0.935343    0.028163    0.670649  \n",
       "TCGA-CZ-5464-01A    0.950060    0.514802    0.943457    0.018360    0.767545  \n",
       "TCGA-CZ-5986-01A    0.933883    0.401095    0.946133    0.030143    0.862010  \n",
       "TCGA-CZ-5984-01A    0.945800    0.490957    0.912699    0.025894    0.639126  \n",
       "\n",
       "[10 rows x 143607 columns]"
      ]
     },
     "execution_count": 75,
     "metadata": {},
     "output_type": "execute_result"
    }
   ],
   "source": [
    "df_temp.head(10)"
   ]
  },
  {
   "cell_type": "code",
   "execution_count": 76,
   "id": "0f37404c",
   "metadata": {},
   "outputs": [],
   "source": [
    "listy = df_temp[\"survival\"].tolist()"
   ]
  },
  {
   "cell_type": "code",
   "execution_count": 77,
   "id": "95be97ae",
   "metadata": {},
   "outputs": [],
   "source": [
    "labels = []\n",
    "for i in range(0, len(listy)):\n",
    "    if(listy[i] == \"lts\"):\n",
    "        labels.append(1)\n",
    "    else:\n",
    "        labels.append(0)"
   ]
  },
  {
   "cell_type": "code",
   "execution_count": 78,
   "id": "33a365ea",
   "metadata": {},
   "outputs": [],
   "source": [
    "df_temp[\"survival_encoded\"] = labels"
   ]
  },
  {
   "cell_type": "code",
   "execution_count": 79,
   "id": "3781e8e9",
   "metadata": {},
   "outputs": [],
   "source": [
    "#do i need to find special diff methylated...if i do i will actually die on a hill bro\n",
    "X = df_temp.loc[:, ['cg06607764', 'cg00713400', 'cg07355189','cg06330323','cg00716257','cg07600533','cg00849267','cg04972436','cg06474225','cg02578087','cg02952295','cg01890836','cg05343811','cg07093324','cg03063658','cg02326386',]].dropna(axis=1) # Features\n",
    "y = labels # Target variable"
   ]
  },
  {
   "cell_type": "code",
   "execution_count": 93,
   "id": "5d4b6b54",
   "metadata": {},
   "outputs": [],
   "source": [
    "import numpy as np\n",
    "import pandas as pd\n",
    "from sklearn.model_selection import KFold\n",
    "from sklearn.model_selection import cross_val_score\n",
    "from sklearn.linear_model import LogisticRegression\n",
    "from sklearn.metrics import confusion_matrix\n",
    "from sklearn.metrics import classification_report\n",
    "import matplotlib.pyplot as plt\n",
    "import sklearn.metrics as metrics"
   ]
  },
  {
   "cell_type": "code",
   "execution_count": 88,
   "id": "172046ea",
   "metadata": {},
   "outputs": [
    {
     "name": "stdout",
     "output_type": "stream",
     "text": [
      "[0.78787879 0.81818182 0.87121212 0.81060606 0.79545455]\n",
      "Accuracy: 81.667% (2.930%)\n"
     ]
    }
   ],
   "source": [
    "# 5 folds selected\n",
    "kfold = KFold(n_splits=5, random_state=0, shuffle=True)\n",
    "model = LogisticRegression(solver='liblinear')\n",
    "results = cross_val_score(model, X, y, cv=kfold)\n",
    "print(results)\n",
    "# Output the accuracy. Calculate the mean and std across all folds. \n",
    "print(\"Accuracy: %.3f%% (%.3f%%)\" % (results.mean()*100.0, results.std()*100.0))"
   ]
  },
  {
   "cell_type": "code",
   "execution_count": 96,
   "id": "b223e3e0",
   "metadata": {},
   "outputs": [
    {
     "name": "stderr",
     "output_type": "stream",
     "text": [
      "/var/folders/6s/sfty3wm96t51l6m9spnzj7qm0000gq/T/ipykernel_56590/4158861583.py:10: DeprecationWarning: scipy.interp is deprecated and will be removed in SciPy 2.0.0, use numpy.interp instead\n",
      "  tprs.append(interp(mean_fpr, fpr, tpr))\n",
      "/var/folders/6s/sfty3wm96t51l6m9spnzj7qm0000gq/T/ipykernel_56590/4158861583.py:10: DeprecationWarning: scipy.interp is deprecated and will be removed in SciPy 2.0.0, use numpy.interp instead\n",
      "  tprs.append(interp(mean_fpr, fpr, tpr))\n",
      "/var/folders/6s/sfty3wm96t51l6m9spnzj7qm0000gq/T/ipykernel_56590/4158861583.py:10: DeprecationWarning: scipy.interp is deprecated and will be removed in SciPy 2.0.0, use numpy.interp instead\n",
      "  tprs.append(interp(mean_fpr, fpr, tpr))\n",
      "/var/folders/6s/sfty3wm96t51l6m9spnzj7qm0000gq/T/ipykernel_56590/4158861583.py:10: DeprecationWarning: scipy.interp is deprecated and will be removed in SciPy 2.0.0, use numpy.interp instead\n",
      "  tprs.append(interp(mean_fpr, fpr, tpr))\n",
      "/var/folders/6s/sfty3wm96t51l6m9spnzj7qm0000gq/T/ipykernel_56590/4158861583.py:10: DeprecationWarning: scipy.interp is deprecated and will be removed in SciPy 2.0.0, use numpy.interp instead\n",
      "  tprs.append(interp(mean_fpr, fpr, tpr))\n"
     ]
    },
    {
     "data": {
      "image/png": "[encoded data removed]",
      "text/plain": [
       "<Figure size 1080x720 with 1 Axes>"
      ]
     },
     "metadata": {
      "needs_background": "light"
     },
     "output_type": "display_data"
    }
   ],
   "source": [
    "from sklearn.metrics import roc_curve,auc\n",
    "from scipy import interp\n",
    "tprs = []\n",
    "aucs = []\n",
    "mean_fpr = np.linspace(0,1,100)\n",
    "i = 1\n",
    "for train,test in kfold.split(X,y):\n",
    "    prediction = model.fit(X,y).predict_proba(X)\n",
    "    fpr, tpr, t = roc_curve(y, prediction[:, 1])\n",
    "    tprs.append(interp(mean_fpr, fpr, tpr))\n",
    "    roc_auc = auc(fpr, tpr)\n",
    "    aucs.append(roc_auc)\n",
    "    #plt.plot(fpr, tpr, lw=2, alpha=0.3, label='ROC fold %d (AUC = %0.2f)' % (i, roc_auc))\n",
    "    i= i+1\n",
    "    \n",
    "#figure parameters\n",
    "plt.rcParams[\"figure.figsize\"] = (15,10)\n",
    "plt.rcParams.update({'font.size': 40})\n",
    "bins = np.linspace(0, 100, 50)\n",
    "\n",
    "plt.plot([0,1],[0,1],linestyle = '--',lw = 2,color = 'black')\n",
    "mean_tpr = np.mean(tprs, axis=0)\n",
    "mean_auc = auc(mean_fpr, mean_tpr)\n",
    "plt.plot(mean_fpr, mean_tpr, color='blue',\n",
    "         label=r'Mean ROC (AUC = %0.2f )' % (mean_auc),lw=2, alpha=1)\n",
    "\n",
    "plt.xlabel('False Positive Rate')\n",
    "plt.ylabel('True Positive Rate')\n",
    "plt.title('K-Fold Validation for LTS vs. STS (2yr)')\n",
    "plt.legend(loc=\"lower right\")\n",
    "plt.text(0.32,0.7,'More accurate area',fontsize = 12)\n",
    "plt.text(0.63,0.4,'Less accurate area',fontsize = 12)\n",
    "plt.show()\n",
    "\n",
    "#change the legend to match"
   ]
  },
  {
   "cell_type": "code",
   "execution_count": 90,
   "id": "745c6be1",
   "metadata": {},
   "outputs": [],
   "source": [
    "#X"
   ]
  },
  {
   "cell_type": "code",
   "execution_count": 94,
   "id": "bc2f7d08",
   "metadata": {},
   "outputs": [
    {
     "name": "stdout",
     "output_type": "stream",
     "text": [
      "[[  0  62]\n",
      " [  0 268]]\n",
      "              precision    recall  f1-score   support\n",
      "\n",
      "           0       0.00      0.00      0.00        62\n",
      "           1       0.81      1.00      0.90       268\n",
      "\n",
      "    accuracy                           0.81       330\n",
      "   macro avg       0.41      0.50      0.45       330\n",
      "weighted avg       0.66      0.81      0.73       330\n",
      "\n"
     ]
    },
    {
     "name": "stderr",
     "output_type": "stream",
     "text": [
      "/Users/tanishagupta/opt/anaconda3/lib/python3.9/site-packages/sklearn/metrics/_classification.py:1318: UndefinedMetricWarning: Precision and F-score are ill-defined and being set to 0.0 in labels with no predicted samples. Use `zero_division` parameter to control this behavior.\n",
      "  _warn_prf(average, modifier, msg_start, len(result))\n",
      "/Users/tanishagupta/opt/anaconda3/lib/python3.9/site-packages/sklearn/metrics/_classification.py:1318: UndefinedMetricWarning: Precision and F-score are ill-defined and being set to 0.0 in labels with no predicted samples. Use `zero_division` parameter to control this behavior.\n",
      "  _warn_prf(average, modifier, msg_start, len(result))\n",
      "/Users/tanishagupta/opt/anaconda3/lib/python3.9/site-packages/sklearn/metrics/_classification.py:1318: UndefinedMetricWarning: Precision and F-score are ill-defined and being set to 0.0 in labels with no predicted samples. Use `zero_division` parameter to control this behavior.\n",
      "  _warn_prf(average, modifier, msg_start, len(result))\n"
     ]
    }
   ],
   "source": [
    "test_size = 0.5\n",
    "seed = 0\n",
    "\n",
    "from sklearn.model_selection import train_test_split\n",
    "\n",
    "X_train, X_test, y_train, y_test = train_test_split(X, y, test_size=test_size,\n",
    "random_state=seed)\n",
    "\n",
    "model2 = LogisticRegression(solver='liblinear')\n",
    "model2.fit(X_train, y_train)\n",
    "\n",
    "predicted = model2.predict(X_test)\n",
    "matrix = confusion_matrix(y_test, predicted)\n",
    "print(matrix)\n",
    "report = classification_report(y_test, predicted)\n",
    "print(report)"
   ]
  },
  {
   "cell_type": "code",
   "execution_count": 97,
   "id": "ba0daa40",
   "metadata": {},
   "outputs": [
    {
     "data": {
      "image/png": "[encoded data removed]",
      "text/plain": [
       "<Figure size 1080x720 with 1 Axes>"
      ]
     },
     "metadata": {
      "needs_background": "light"
     },
     "output_type": "display_data"
    }
   ],
   "source": [
    "#define metrics\n",
    "\n",
    "y_pred_proba = model2.predict_proba(X_test)[::,1]\n",
    "fpr2, tpr2, _ = metrics.roc_curve(y_test,  y_pred_proba)\n",
    "auc2 = metrics.roc_auc_score(y_test, y_pred_proba)\n",
    "\n",
    "#create ROC curve\n",
    "plt.plot(fpr,tpr,label=\"Validation=\"+str(round(roc_auc, 4)),color=\"#238C3F\", linewidth=3, linestyle='dashed')\n",
    "plt.plot(fpr2,tpr2,label=\"Test=\"+str(round(auc2, 4)),color=\"#3D03FC\", linewidth=3)\n",
    "plt.ylabel('True Positive Rate')\n",
    "plt.xlabel('False Positive Rate')\n",
    "plt.legend(loc=4)\n",
    "plt.title(\"LTS vs. Non-LTS seperation\")\n",
    "plt.show()"
   ]
  },
  {
   "cell_type": "code",
   "execution_count": null,
   "id": "a8dd33aa",
   "metadata": {},
   "outputs": [],
   "source": []
  }
 ],
 "metadata": {
  "kernelspec": {
   "display_name": "Python 3 (ipykernel)",
   "language": "python",
   "name": "python3"
  },
  "language_info": {
   "codemirror_mode": {
    "name": "ipython",
    "version": 3
   },
   "file_extension": ".py",
   "mimetype": "text/x-python",
   "name": "python",
   "nbconvert_exporter": "python",
   "pygments_lexer": "ipython3",
   "version": "3.9.12"
  }
 },
 "nbformat": 4,
 "nbformat_minor": 5
}
